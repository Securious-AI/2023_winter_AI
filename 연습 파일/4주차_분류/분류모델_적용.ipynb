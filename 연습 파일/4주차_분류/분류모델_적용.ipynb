{
  "nbformat": 4,
  "nbformat_minor": 0,
  "metadata": {
    "colab": {
      "provenance": []
    },
    "kernelspec": {
      "name": "python3",
      "display_name": "Python 3"
    },
    "language_info": {
      "name": "python"
    }
  },
  "cells": [
    {
      "cell_type": "code",
      "execution_count": 1,
      "metadata": {
        "colab": {
          "base_uri": "https://localhost:8080/"
        },
        "id": "N61BjXS63ta_",
        "outputId": "d358c1c3-796b-4cd5-8b85-ac18c2ef6834"
      },
      "outputs": [
        {
          "output_type": "stream",
          "name": "stdout",
          "text": [
            "<wisconsin breast cancer data set>\n",
            "  data shape :  (569, 30)\n",
            "target shape :  (569,)\n"
          ]
        }
      ],
      "source": [
        "from sklearn.datasets import load_breast_cancer\n",
        "\n",
        "cancer=load_breast_cancer()\n",
        "\n",
        "x_data=cancer.data #입력값\n",
        "y_data=cancer.target #타깃\n",
        "\n",
        "print('<wisconsin breast cancer data set>')\n",
        "print('  data shape : ',x_data.shape) \n",
        "print('target shape : ',y_data.shape)\n",
        "\n",
        "# 사이킷런에서 유방암 데이터 세트를 가져온 뒤, x_data에 이 유방암 세트의 data(입력값)을, y_data에 target(타깃)을 대입"
      ]
    },
    {
      "cell_type": "markdown",
      "source": [
        "x_data(data)는 30개의 feature를 가진 데이터 569개를 가지고 있고, y_data는 x_data의 데이터에 대해 이 샘플이 음성 유방암 세포인지(True==1), 양성 유방암 세포(False==0)인지에 대한 데이터를 가지고 있음."
      ],
      "metadata": {
        "id": "6cozzfQW4cVy"
      }
    },
    {
      "cell_type": "code",
      "source": [
        "#음성 유방암 샘플과 양성 유방암 샘플의 개수를 파악\n",
        "import numpy as np\n",
        "\n",
        "np.unique(cancer.target,return_counts=True)"
      ],
      "metadata": {
        "colab": {
          "base_uri": "https://localhost:8080/"
        },
        "id": "xY78Tmw64fqn",
        "outputId": "1ebd6cd7-d780-4194-86de-97948d32e0cf"
      },
      "execution_count": 2,
      "outputs": [
        {
          "output_type": "execute_result",
          "data": {
            "text/plain": [
              "(array([0, 1]), array([212, 357]))"
            ]
          },
          "metadata": {},
          "execution_count": 2
        }
      ]
    },
    {
      "cell_type": "markdown",
      "source": [
        "양성 유방암 샘플(True)는 총 212개, 음성 유방암 샘플(False)은 총 357개"
      ],
      "metadata": {
        "id": "_H4fXRYY4p4L"
      }
    },
    {
      "cell_type": "code",
      "source": [
        "#feature 확인\n",
        "for i,feature in enumerate(cancer.feature_names):\n",
        "  print(f'feature{(i+1)} : ',feature)"
      ],
      "metadata": {
        "colab": {
          "base_uri": "https://localhost:8080/"
        },
        "id": "PMNuflZK4uXV",
        "outputId": "364dc942-52d2-418f-ca09-58e4e2378078"
      },
      "execution_count": 3,
      "outputs": [
        {
          "output_type": "stream",
          "name": "stdout",
          "text": [
            "feature1 :  mean radius\n",
            "feature2 :  mean texture\n",
            "feature3 :  mean perimeter\n",
            "feature4 :  mean area\n",
            "feature5 :  mean smoothness\n",
            "feature6 :  mean compactness\n",
            "feature7 :  mean concavity\n",
            "feature8 :  mean concave points\n",
            "feature9 :  mean symmetry\n",
            "feature10 :  mean fractal dimension\n",
            "feature11 :  radius error\n",
            "feature12 :  texture error\n",
            "feature13 :  perimeter error\n",
            "feature14 :  area error\n",
            "feature15 :  smoothness error\n",
            "feature16 :  compactness error\n",
            "feature17 :  concavity error\n",
            "feature18 :  concave points error\n",
            "feature19 :  symmetry error\n",
            "feature20 :  fractal dimension error\n",
            "feature21 :  worst radius\n",
            "feature22 :  worst texture\n",
            "feature23 :  worst perimeter\n",
            "feature24 :  worst area\n",
            "feature25 :  worst smoothness\n",
            "feature26 :  worst compactness\n",
            "feature27 :  worst concavity\n",
            "feature28 :  worst concave points\n",
            "feature29 :  worst symmetry\n",
            "feature30 :  worst fractal dimension\n"
          ]
        }
      ]
    },
    {
      "cell_type": "code",
      "source": [
        "#데이터셋분리\n",
        "from sklearn.model_selection import train_test_split\n",
        "\n",
        "X_train, X_test, y_train, y_test = train_test_split(cancer.data, \n",
        "                                                    cancer.target, \n",
        "                                                    stratify = cancer.target, \n",
        "                                                    random_state = 66)"
      ],
      "metadata": {
        "id": "YMbC7rj76WYL"
      },
      "execution_count": 4,
      "outputs": []
    },
    {
      "cell_type": "markdown",
      "source": [
        "### **KNN분류**\n",
        "\n",
        "K-NN 알고리즘이란? K-최근접 이웃(K-NN, K-Nearest Neighbor) 알고리즘은 가장 간단한 머신러닝 알고리즘으로, 분류(Classification) 알고리즘이다. 비슷한 특성을 가진 데이터는 비슷한 범주에 속하는 경향이 있다는 가정하에 사용한다."
      ],
      "metadata": {
        "id": "1mKqgBZ86Z5B"
      }
    },
    {
      "cell_type": "code",
      "source": [
        "from sklearn.neighbors import KNeighborsClassifier\n",
        "KNN=KNeighborsClassifier()\n",
        "KNN.fit(X_train,y_train)"
      ],
      "metadata": {
        "colab": {
          "base_uri": "https://localhost:8080/"
        },
        "id": "wSau6Pc16d8G",
        "outputId": "64f60ae0-862b-4059-eddb-f62a8cc4a04c"
      },
      "execution_count": 5,
      "outputs": [
        {
          "output_type": "execute_result",
          "data": {
            "text/plain": [
              "KNeighborsClassifier()"
            ]
          },
          "metadata": {},
          "execution_count": 5
        }
      ]
    },
    {
      "cell_type": "code",
      "source": [
        "#성능파악\n",
        "print(KNN.score(X_train, y_train))\n",
        "print(KNN.score(X_test, y_test))"
      ],
      "metadata": {
        "colab": {
          "base_uri": "https://localhost:8080/"
        },
        "id": "A2ATgy5B7Gng",
        "outputId": "b4a38bad-4070-443d-c0bb-2e6b5e022190"
      },
      "execution_count": 6,
      "outputs": [
        {
          "output_type": "stream",
          "name": "stdout",
          "text": [
            "0.9483568075117371\n",
            "0.9230769230769231\n"
          ]
        }
      ]
    },
    {
      "cell_type": "markdown",
      "source": [
        "### **Decision Tree**\n",
        "\n",
        "결정 트리는 의사 결정 규칙과 그 결과들을 트리 구조로 도식화한 의사 결정 지원 도구의 일종이다. 결정 트리는 운용 과학, 그 중에서도 의사 결정 분석에서 목표에 가장 가까운 결과를 낼 수 있는 전략을 찾기 위해 주로 사용된다."
      ],
      "metadata": {
        "id": "EqrToiC87ZXZ"
      }
    },
    {
      "cell_type": "code",
      "source": [
        "from sklearn.tree import DecisionTreeClassifier\n",
        "\n",
        "tree = DecisionTreeClassifier(random_state=0)\n",
        "tree.fit(X_train, y_train)"
      ],
      "metadata": {
        "colab": {
          "base_uri": "https://localhost:8080/"
        },
        "id": "yQ99MsyB7jLP",
        "outputId": "12c067ca-735f-4676-b0c7-115cfe89542c"
      },
      "execution_count": 7,
      "outputs": [
        {
          "output_type": "execute_result",
          "data": {
            "text/plain": [
              "DecisionTreeClassifier(random_state=0)"
            ]
          },
          "metadata": {},
          "execution_count": 7
        }
      ]
    },
    {
      "cell_type": "code",
      "source": [
        "print(tree.score(X_train, y_train))\n",
        "print(tree.score(X_test, y_test))"
      ],
      "metadata": {
        "id": "Y363khoI7pVE"
      },
      "execution_count": null,
      "outputs": []
    },
    {
      "cell_type": "markdown",
      "source": [
        "### **Random Forest**\n",
        "\n",
        "랜덤 포레스트는 지도 머신 러닝 알고리즘입니다. 정확성, 단순성 및 유연성으로 인해 가장 많이 사용되는 알고리즘 중 하나입니다. 분류 및 회귀 작업에 사용할 수 있다는 사실과 비선형 특성을 결합하면 다양한 데이터 및 상황에 매우 적합합니다."
      ],
      "metadata": {
        "id": "DGRkaqkY7wn9"
      }
    },
    {
      "cell_type": "code",
      "source": [
        "from sklearn.ensemble import RandomForestClassifier\n",
        "\n",
        "forest = RandomForestClassifier(random_state=0)\n",
        "forest.fit(X_train, y_train)"
      ],
      "metadata": {
        "colab": {
          "base_uri": "https://localhost:8080/"
        },
        "id": "NoK0Aiov752M",
        "outputId": "9654148e-5d6d-41e7-8676-21dc57e1abc9"
      },
      "execution_count": 8,
      "outputs": [
        {
          "output_type": "execute_result",
          "data": {
            "text/plain": [
              "RandomForestClassifier(random_state=0)"
            ]
          },
          "metadata": {},
          "execution_count": 8
        }
      ]
    },
    {
      "cell_type": "code",
      "source": [
        "print(forest.score(X_train, y_train))\n",
        "print(forest.score(X_test, y_test))"
      ],
      "metadata": {
        "colab": {
          "base_uri": "https://localhost:8080/"
        },
        "id": "eVHV0WCR78Xd",
        "outputId": "ad0e9ae7-486b-4ddb-8455-dbff6ed15e5f"
      },
      "execution_count": 9,
      "outputs": [
        {
          "output_type": "stream",
          "name": "stdout",
          "text": [
            "1.0\n",
            "0.958041958041958\n"
          ]
        }
      ]
    }
  ]
}