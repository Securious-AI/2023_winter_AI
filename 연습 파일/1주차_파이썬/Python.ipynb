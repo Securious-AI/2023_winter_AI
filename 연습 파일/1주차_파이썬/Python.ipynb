{
 "cells": [
  {
   "cell_type": "markdown",
   "id": "9189a629",
   "metadata": {},
   "source": [
    "## 참조 자료(reference)"
   ]
  },
  {
   "cell_type": "markdown",
   "id": "6b777169",
   "metadata": {},
   "source": [
    "### 파이썬 데이터 분석 개념 참조(pandas, sklearn, numpy)"
   ]
  },
  {
   "cell_type": "markdown",
   "id": "76d305e3",
   "metadata": {},
   "source": [
    "https://blog.naver.com/jju1213/222787730144"
   ]
  },
  {
   "cell_type": "markdown",
   "id": "9887ea15",
   "metadata": {},
   "source": [
    "### 모듈 가져오기 (import)"
   ]
  },
  {
   "cell_type": "markdown",
   "id": "950b6056",
   "metadata": {},
   "source": [
    "https://wikidocs.net/77"
   ]
  },
  {
   "cell_type": "markdown",
   "id": "487c1997",
   "metadata": {},
   "source": [
    "## 1. python 기초 개념 \n",
    "- 데이터 타입\n",
    "- 기초 연산자, for 반복문 등 \n"
   ]
  },
  {
   "cell_type": "markdown",
   "id": "dade6cca",
   "metadata": {},
   "source": [
    "### 1)  데이터 타입"
   ]
  },
  {
   "cell_type": "markdown",
   "id": "b3474341",
   "metadata": {},
   "source": [
    "#### 딕셔너리: 키(key)와 값(value)가 있는 자료형 \n",
    "- 기본 딕셔너리 표현: {key1:Value1, Key2:Value2}"
   ]
  },
  {
   "cell_type": "code",
   "execution_count": 11,
   "id": "b0d92a29",
   "metadata": {},
   "outputs": [
    {
     "name": "stdout",
     "output_type": "stream",
     "text": [
      "{'number': '21', 'name': 'choi'}\n"
     ]
    }
   ],
   "source": [
    "list = {'number':'21','name':'choi'}\n",
    "print(list)"
   ]
  },
  {
   "cell_type": "markdown",
   "id": "a75d3a81",
   "metadata": {},
   "source": [
    "#### 리스트(list): 숫자 또는 문자열 자료형을 하나의 집합화\n",
    "- 리스트 만들 떄 대괄호 써주고 포함되는 요소들은 쉼표로 구분"
   ]
  },
  {
   "cell_type": "code",
   "execution_count": 14,
   "id": "dbae14db",
   "metadata": {},
   "outputs": [
    {
     "data": {
      "text/plain": [
       "'b'"
      ]
     },
     "execution_count": 14,
     "metadata": {},
     "output_type": "execute_result"
    }
   ],
   "source": [
    "list2 = ['a','b','c']\n",
    "list2[1]"
   ]
  },
  {
   "cell_type": "markdown",
   "id": "dfe05e66",
   "metadata": {},
   "source": [
    "### 2) for 반복문 \n",
    "- for 반복문은 range에 반복할 횟수를 지정하고 앞에 in 과 변수를 입력함. 그리고 끝에 :(콜론)을 붙인 뒤 다음에 반복할 코드를 넣음.\n",
    "range(100)과 같이 지정하면 0부터 99까지 숫자 100개를 생성. 그리고 for는 in으로 숫자를 하나씩 꺼내서 변수 i에 저장하고, print를 실행. 즉, range(100)에서 숫자를 100번 꺼내면서 print를 실행하므로 'Hello, world!'가 100번 출력됨, \n",
    "\n",
    "이처럼 **for 반복문은 반복 횟수가 정해져 있을 때 주로 사용**\n",
    "\n",
    "\n",
    "\n",
    "시작하는 숫자와 끝나는 숫자 지정하기\n",
    "\n",
    "for 변수 in range(시작, 끝): \n",
    "\n",
    "for 변수 in range(시작, 끝, 증가폭):\n",
    "\n",
    "for 변수 in reversed(range(횟수))\n",
    "\n",
    "for 변수 in reversed(range(시작, 끝))\n",
    "\n",
    "for 변수 in reversed(range(시작, 끝, 증가폭))"
   ]
  },
  {
   "cell_type": "code",
   "execution_count": null,
   "id": "4913e47b",
   "metadata": {},
   "outputs": [],
   "source": [
    "for 변수 in range(횟수):\n",
    "    반복할 코드 "
   ]
  },
  {
   "cell_type": "code",
   "execution_count": 6,
   "id": "e960ef31",
   "metadata": {},
   "outputs": [
    {
     "name": "stdout",
     "output_type": "stream",
     "text": [
      "Hello World\n",
      "Hello World\n",
      "Hello World\n",
      "Hello World\n",
      "Hello World\n",
      "Hello World\n",
      "Hello World\n",
      "Hello World\n",
      "Hello World\n",
      "Hello World\n"
     ]
    }
   ],
   "source": [
    "for i in range(10):\n",
    "    print(\"Hello World\")"
   ]
  },
  {
   "cell_type": "code",
   "execution_count": null,
   "id": "9c4ca3b8",
   "metadata": {},
   "outputs": [],
   "source": []
  }
 ],
 "metadata": {
  "kernelspec": {
   "display_name": "Python 3 (ipykernel)",
   "language": "python",
   "name": "python3"
  },
  "language_info": {
   "codemirror_mode": {
    "name": "ipython",
    "version": 3
   },
   "file_extension": ".py",
   "mimetype": "text/x-python",
   "name": "python",
   "nbconvert_exporter": "python",
   "pygments_lexer": "ipython3",
   "version": "3.9.7"
  }
 },
 "nbformat": 4,
 "nbformat_minor": 5
}
