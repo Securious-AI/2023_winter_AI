{
  "nbformat": 4,
  "nbformat_minor": 0,
  "metadata": {
    "colab": {
      "provenance": []
    },
    "kernelspec": {
      "name": "python3",
      "display_name": "Python 3"
    },
    "language_info": {
      "name": "python"
    }
  },
  "cells": [
    {
      "cell_type": "code",
      "execution_count": 1,
      "metadata": {
        "colab": {
          "base_uri": "https://localhost:8080/"
        },
        "id": "KtHdu0T82eyJ",
        "outputId": "e6ee6e3c-c572-4a34-a63d-e2bfa6d2bb3d"
      },
      "outputs": [
        {
          "output_type": "stream",
          "name": "stdout",
          "text": [
            "키가 크다\n"
          ]
        }
      ],
      "source": [
        "height = 190\n",
        "\n",
        "if height > 180:\n",
        "    print(\"키가 크다\")\n",
        "    "
      ]
    },
    {
      "cell_type": "markdown",
      "source": [
        "\n",
        "위의 코드는 height가 180보다 큰 경우에만 print(\"키가 크다\")라는 문장을 수행하라는 의미이다. "
      ],
      "metadata": {
        "id": "rnm03sb36kp-"
      }
    },
    {
      "cell_type": "code",
      "source": [
        "height = 150\n",
        "\n",
        "if height > 180:\n",
        "    print(\"키가 크다\")\n",
        "    \n",
        "if height < 160:\n",
        "    print(\"키가 작다\")"
      ],
      "metadata": {
        "colab": {
          "base_uri": "https://localhost:8080/"
        },
        "id": "uDI5uEkT4q1d",
        "outputId": "e1ed75bd-387f-4be7-ac7f-561abbd04b3e"
      },
      "execution_count": 2,
      "outputs": [
        {
          "output_type": "stream",
          "name": "stdout",
          "text": [
            "키가 작다\n"
          ]
        }
      ]
    },
    {
      "cell_type": "markdown",
      "source": [
        "위의 코드에서는 height가 150이기 때문에 위의 if문의 조건을 만족하지 않는다. 따라서 \"키가 작다\"만 출력된다."
      ],
      "metadata": {
        "id": "cKGVxyiH6mI5"
      }
    },
    {
      "cell_type": "code",
      "source": [
        "age = 18\n",
        "money = 3000\n",
        "if age <=20 or money >= 4000:   # true\n",
        "    print(\"버스 이용가능\")\n",
        "\n",
        "if age <=20 and money >= 4000:  # false\n",
        "    print(\"택시 이용가능\")\n",
        "\n",
        "A = [1, 2, 3, 4]\n",
        "if 2 in A:                  # true\n",
        "    print(\"2 is in A!\")\n",
        "if 2 not in A:              # false\n",
        "    print(\"2 not in A\")\n",
        "\n",
        "S = \"I have an apple\"\n",
        "\n",
        "if 'a' in S:                # true\n",
        "    print('a is in S!')\n",
        "if 'ap' in S:               # true\n",
        "    print('ap is in S!')\n",
        "\n",
        "x = 1 > 2                   # x = false\n",
        "if x:                       # false\n",
        "    print(\"True\")\n",
        "\n",
        "if not x:                   # true\n",
        "    print(\"false\")\n",
        "\n",
        "# 출력 결과\n",
        "\n",
        "# 버스 이용가능\n",
        "# 2 is in A!\n",
        "# a is in S!\n",
        "# ap is in S!\n",
        "# false"
      ],
      "metadata": {
        "colab": {
          "base_uri": "https://localhost:8080/"
        },
        "id": "30BxpYbH4r-L",
        "outputId": "fc1e84a5-5af6-45e3-b1d3-42cc6f976445"
      },
      "execution_count": 3,
      "outputs": [
        {
          "output_type": "stream",
          "name": "stdout",
          "text": [
            "버스 이용가능\n",
            "2 is in A!\n",
            "a is in S!\n",
            "ap is in S!\n",
            "false\n"
          ]
        }
      ]
    },
    {
      "cell_type": "markdown",
      "source": [
        "[조건]에 들어가는 문장은 반드시 참 또는 거짓을 판별할 수 있는 문장이 들어가야 한다. \n",
        "\n",
        "예를 들어서 2 < 3 과 같은 문장은 항상 참이고, 2 == 3은 항상 거짓이다. \n",
        "\n",
        "이렇게 <, == 등과 같이 참 또는 거짓을 갖도록 하는 연산자들이 다양하게 있다. "
      ],
      "metadata": {
        "id": "TyGqc_Vu6qZH"
      }
    },
    {
      "cell_type": "markdown",
      "source": [
        "2. elif - else문"
      ],
      "metadata": {
        "id": "Hajjyu0KC_OP"
      }
    },
    {
      "cell_type": "code",
      "source": [
        "a = 10\n",
        "b = 20\n",
        "\n",
        "if a > b:\n",
        "    print('a is greater than b')\n",
        "elif a == b:\n",
        "    print('a is equal to b')\n",
        "elif a < b:\n",
        "    print('a is less than b')\n",
        "else:\n",
        "    print(\"error\")"
      ],
      "metadata": {
        "id": "XzMsXbBj7HpL"
      },
      "execution_count": null,
      "outputs": []
    },
    {
      "cell_type": "markdown",
      "source": [
        "이전까지는 if문만 이용하여 조건문을 작성하였기 때문에, 주어진 하나의 조건을 만족하지 않는다면 아무것도 수행하지 않았다. \n",
        "\n",
        "하지만, 위처럼 elif를 이용하면 처음 if문의 조건을 만족하지 않더라도 다른 조건을 더 확인할 수 있다. \n",
        "\n",
        "위 코드에서는 a > b는 false이므로 다음 elif의 조건인 a == b를 확인하고, a == b도 false이므로 a < b를 확인한다. \n",
        "\n",
        "이때, a < b는 true이므로 print('a is less than b')를 출력하고 조건문에서 빠져나온다. \n",
        "\n",
        "만약 if문과 elif문의 조건들을 모두 만족하지 않는 경우에는 else문에 있는 코드를 수행한다. \n",
        "\n",
        " \n",
        "\n",
        "elif와 else는 반드시 작성되어야 하는 키워드는 아니므로 필요에 따라서 이용하면 된다. "
      ],
      "metadata": {
        "id": "51xj67bA7LUY"
      }
    },
    {
      "cell_type": "markdown",
      "source": [
        "2-1. for와 range 함께 사용하기"
      ],
      "metadata": {
        "id": "AIMXhqG-C0Qg"
      }
    },
    {
      "cell_type": "code",
      "source": [
        "print(range(10))\n",
        "# ans : range(0, 10)\n",
        "\n",
        "print(range(2, 10))\n",
        "# ans : range(2, 10)\n",
        "\n",
        "print(list(range(10)))\n",
        "# ans : [0, 1, 2, 3, 4, 5, 6, 7, 8, 9]\n",
        "\n",
        "print(list(range(2, 5)))\n",
        "# ans : [2, 3, 4]\n",
        "\n",
        "print(list(range(-2, 3)))\n",
        "# ans : [-2, -1, 0, 1, 2]\n",
        "\n",
        "print(list(range(3, 2)))\n",
        "# ans : []\n",
        "\n",
        "print(list(range(0, 10, 2)))\n",
        "# ans : [0, 2, 4, 6, 8]\n",
        "\n",
        "print(list(range(0, 10, 3)))\n",
        "# ans : [0, 3, 6, 9]"
      ],
      "metadata": {
        "id": "CUf1gwc4CQhM"
      },
      "execution_count": null,
      "outputs": []
    },
    {
      "cell_type": "code",
      "source": [
        "for i in range(5):\n",
        "    print(i)\n",
        "\n",
        "# 0\n",
        "# 1\n",
        "# 2\n",
        "# 3\n",
        "# 4\n",
        "\n",
        "\n",
        "for i in range(2, 5): # 3번 반복\n",
        "    print(\"반복문\")\n",
        "\n",
        "# 반복문\n",
        "# 반복문\n",
        "# 반복문 \n",
        "\n",
        "\n",
        "sum = 0\n",
        "for i in range(1, 11):\n",
        "    sum += i\n",
        "print(sum) # ans : 55\n",
        "\n",
        "\n",
        "\n",
        "for i in range(2, 10):\n",
        "    for j in range(1, 10):\n",
        "        print(i*j, end =\" \")\n",
        "    print()\n",
        "\n",
        "# 2 4 6 8 10 12 14 16 18\n",
        "# 3 6 9 12 15 18 21 24 27\n",
        "# 4 8 12 16 20 24 28 32 36\n",
        "# 5 10 15 20 25 30 35 40 45\n",
        "# 6 12 18 24 30 36 42 48 54\n",
        "# 7 14 21 28 35 42 49 56 63\n",
        "# 8 16 24 32 40 48 56 64 72\n",
        "# 9 18 27 36 45 54 63 72 81"
      ],
      "metadata": {
        "id": "gAjLp6AiDRVw"
      },
      "execution_count": null,
      "outputs": []
    },
    {
      "cell_type": "markdown",
      "source": [
        "위의 예시를 하나씩 살펴보자. \n",
        "\n",
        "먼저 첫 번째 for문은 0부터 4까지 숫자를 출력하는 코드이다.\n",
        "\n",
        "range(5)이므로 0부터 4까지의 숫자를 순서대로 i에 하나씩 넣고 반복문 내의 코드를 수행한다. \n",
        "\n",
        " \n",
        "\n",
        "두 번째 for문은 range(2, 5)이므로, for문 내의 코드를 총 3번 반복하게 된다. 이때는 i에 할당된 값이 실제로 쓰이지는 않게 된다. \n",
        "\n",
        " \n",
        "\n",
        "세 번째 for문은 1부터 10까지의 정수의 합을 구하는 코드이다. \n",
        "\n",
        "range(1, 11)로 이용하면 1부터 10까지 정수를 담게 되고, 하나씩 i에 할당하여 sum이라는 변수에 더해주면 최종적으로 sum에는 1 ~ 10의 합이 담기게 된다. \n",
        "\n",
        " \n",
        "\n",
        "네 번째 for문은 range 함수를 응용하여 구구단을 출력하는 코드이다. \n",
        "\n",
        "각 단마다 한 줄씩 출력하기 위해서 end = \" \"를 이용하여 줄 바꿈을 수행하지 않았다. "
      ],
      "metadata": {
        "id": "sM8-dF-zDTae"
      }
    },
    {
      "cell_type": "markdown",
      "source": [
        "2-2. 리스트, 튜플, 문자열등 iterable한 객체 이용하기"
      ],
      "metadata": {
        "id": "7jbgXgCqDfvX"
      }
    },
    {
      "cell_type": "code",
      "source": [
        "a = [2, 1, 5, 3, 4]\n",
        "for i in a:\n",
        "    print(i)\n",
        "\n",
        "# 2\n",
        "# 1\n",
        "# 5\n",
        "# 3\n",
        "# 4\n",
        "\n",
        "students = ('John', 'Minsu', 'Chris')\n",
        "for name in students:\n",
        "    print(name) \n",
        "\n",
        "# John\n",
        "# Minsu\n",
        "# Chris\n",
        "\n",
        "for k in 'python':\n",
        "    print(k)\n",
        "\n",
        "# p\n",
        "# y\n",
        "# t\n",
        "# h\n",
        "# o\n",
        "# n"
      ],
      "metadata": {
        "id": "vW7TScu-DUUC"
      },
      "execution_count": null,
      "outputs": []
    },
    {
      "cell_type": "markdown",
      "source": [
        "range 함수에서 숫자를 순서대로 하나씩 할당하는 것과 동일한 방식이다. 리스트와 튜플은 원소를, 문자열은 문자 하나를 순서대로 변수에 할당해준다. \n",
        "\n",
        "변수명으로는 어떤 것을 이용해도 상관없다는 점을 알아두자."
      ],
      "metadata": {
        "id": "fbBHwp4dDmx-"
      }
    },
    {
      "cell_type": "markdown",
      "source": [
        "2-3. break, continue 사용하기"
      ],
      "metadata": {
        "id": "znS4zQzyEJ_I"
      }
    },
    {
      "cell_type": "code",
      "source": [
        "a = [1, 2, 3, 4, 5, 6]\n",
        "for i in a:\n",
        "    if i > 3:\n",
        "        break\n",
        "    print(i)\n",
        "\n",
        "# ans:\n",
        "# 1\n",
        "# 2\n",
        "# 3\n"
      ],
      "metadata": {
        "id": "MZUfb055EHKP"
      },
      "execution_count": null,
      "outputs": []
    },
    {
      "cell_type": "markdown",
      "source": [
        "3보다 큰 원소가 나오는 경우에는 for문을 더 이상 수행하지 않고 종료하는 코드이다. \n",
        "\n",
        "이처럼 조건문을 이용하여 특정 조건을 만족하는 경우 for문을 임의로 종료시킬 수 있다. "
      ],
      "metadata": {
        "id": "J948mexQERpc"
      }
    },
    {
      "cell_type": "markdown",
      "source": [
        "특정 경우에 for문 내의 코드를 끝까지 수행하지 않고 곧바로 다음 반복으로 넘어가고 싶다면 'continue' 키워드를 사용하면 된다. "
      ],
      "metadata": {
        "id": "jcbXyZkIEZGN"
      }
    },
    {
      "cell_type": "code",
      "source": [
        "a = [1, 2, 3, 4, 5, 6]\n",
        "for i in a:\n",
        "    if i % 3 == 0:\n",
        "        continue\n",
        "    print(i)\n",
        "\n",
        "# ans:\n",
        "# 1\n",
        "# 2\n",
        "# 4\n",
        "# 5"
      ],
      "metadata": {
        "id": "pHPYB_b-EZud"
      },
      "execution_count": null,
      "outputs": []
    },
    {
      "cell_type": "markdown",
      "source": [
        "위 코드는 3의 배수가 아닌 원소만 출력하는 코드이다. \n",
        "\n",
        "i가 3의 배수인 경우에는 continue를 만나 이후의 print(i)를 수행하지 않고 곧바로 다음 반복으로 넘어가게 된다. "
      ],
      "metadata": {
        "id": "pI6srDELEdMm"
      }
    },
    {
      "cell_type": "markdown",
      "source": [
        "3. 반복문 (while)"
      ],
      "metadata": {
        "id": "3akDAz4qEw14"
      }
    },
    {
      "cell_type": "code",
      "source": [
        "### 1부터 10까지 자연수의 합 구하기\n",
        "res = 0\n",
        "i = 1\n",
        "while i < 11:\n",
        "    res += i\n",
        "    i += 1\n",
        "print(res) # ans : 55\n",
        "\n",
        "\n",
        "### 20 이하의 3의 배수 출력\n",
        "i = 3\n",
        "while i <= 20:\n",
        "    print(i, end=' ')\n",
        "    i += 3\n",
        "# ans : 3 6 9 12 15 18\n",
        "\n",
        "\n",
        "### 구구단 출력\n",
        "i = 2\n",
        "while i <= 9:\n",
        "    j = 1\n",
        "    while j <= 9:\n",
        "        print(i*j, end=' ')\n",
        "        j+=1\n",
        "    print()\n",
        "    i+=1\n",
        "\n",
        "\n",
        "### 30 이하의 자연수 중 2, 3의 배수를 제외한 수만 출력\n",
        "i = 1\n",
        "while i <= 30:\n",
        "    if i%2 == 0 or i%3 == 0:\n",
        "        i += 1\n",
        "        continue;\n",
        "    else:\n",
        "        print(i)\n",
        "        i += 1\n",
        "\n",
        "### 'no' 를 입력하면 종료되는 프로그램\n",
        "while True:\n",
        "    if input() == 'no':\n",
        "        break\n",
        "    print('press \"no\"')"
      ],
      "metadata": {
        "id": "bM_YMoQwEx0q"
      },
      "execution_count": null,
      "outputs": []
    }
  ]
}