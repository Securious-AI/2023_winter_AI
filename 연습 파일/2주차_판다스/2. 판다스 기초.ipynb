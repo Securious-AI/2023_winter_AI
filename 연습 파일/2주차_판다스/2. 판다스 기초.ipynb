{
 "cells": [
  {
   "cell_type": "markdown",
   "id": "fe46381a",
   "metadata": {},
   "source": [
    "01/16~01/19\n",
    "1. Python 기초 => 조건문 반복문 활용한 매우 간단한 조건 활용\n",
    "=> 각자 조사하여 코드와 주석처리하여 정리해오기\n",
    "2. Pandas 기초 => Pandas, numpy를 이용하여 데이터 분석에 필요한 함수를 정리해보고 Olympics 데이터 혹은 다른 데이터를 이용하여 분석\n",
    "=> 데이터를 Pandas, numpy를 이용해 각자 분석하고 주석처리 및 column 설명\n",
    "3. 데이터 분석과정 중 데이터간 연관성, 설명을 위한 상관계수, 전처리 등 필요한 내용 정리해보기 + boston housing 데이터 선형회귀 모델 구현 및 해석\n",
    "=> boston housing 데이터를 각자 전처리 분석하고 선형회귀\n",
    "=>결과 해석 및 설명 자료\n",
    "------------------------------------------------------------------------\n",
    "\n",
    "01/19~01/22\n",
    "4. breast_cancer 데이터 활용 실습 진행 \n",
    "=> KNN, Decision Tree, Random Forest 이외에 다른 분류 이용해보거나 조사, 해당 기법들 각각 설명, 결과 설명 등\n",
    "5. 3, 4에서 만들었던 모델의 성능을 높이는 방법을 각자 희망하는대로 하여 성능을 높이고 그 내용과 코드를 주석과 마크다운을 이용해서 정리하기"
   ]
  },
  {
   "cell_type": "markdown",
   "id": "4faaaf38",
   "metadata": {},
   "source": [
    "변수에 값을 저장할 때 [ ](대괄호)로 묶어주면 리스트가 되며 각 값은 ,(콤마)로 구분해줍니다.\n",
    "\n",
    "리스트 = [값, 값, 값]"
   ]
  },
  {
   "cell_type": "code",
   "execution_count": 1,
   "id": "e71621c8",
   "metadata": {},
   "outputs": [],
   "source": [
    "import pandas as pd"
   ]
  },
  {
   "cell_type": "markdown",
   "id": "66fccb04",
   "metadata": {},
   "source": [
    "## 시리즈"
   ]
  },
  {
   "cell_type": "code",
   "execution_count": 2,
   "id": "fe1a1a4a",
   "metadata": {},
   "outputs": [
    {
     "data": {
      "text/plain": [
       "0    홍길동\n",
       "1    김수진\n",
       "2    김철수\n",
       "dtype: object"
      ]
     },
     "execution_count": 2,
     "metadata": {},
     "output_type": "execute_result"
    }
   ],
   "source": [
    "customer=['홍길동', '김수진', '김철수']\n",
    "pd.Series(customer)"
   ]
  },
  {
   "cell_type": "code",
   "execution_count": 3,
   "id": "c13bd3fb",
   "metadata": {},
   "outputs": [
    {
     "data": {
      "text/plain": [
       "0    1\n",
       "1    2\n",
       "2    3\n",
       "dtype: int64"
      ]
     },
     "execution_count": 3,
     "metadata": {},
     "output_type": "execute_result"
    }
   ],
   "source": [
    "numbers=[1,2,3]\n",
    "pd.Series(numbers)"
   ]
  },
  {
   "cell_type": "markdown",
   "id": "0a255d22",
   "metadata": {},
   "source": [
    "### 인덱스"
   ]
  },
  {
   "cell_type": "code",
   "execution_count": 5,
   "id": "05faf9e9",
   "metadata": {},
   "outputs": [
    {
     "data": {
      "text/plain": [
       "10011    홍길동\n",
       "10012    김수진\n",
       "10013    김철수\n",
       "dtype: object"
      ]
     },
     "execution_count": 5,
     "metadata": {},
     "output_type": "execute_result"
    }
   ],
   "source": [
    "customer=pd.Series(['홍길동','김수진','김철수'],\n",
    "                  index=['10011','10012','10013'])\n",
    "customer"
   ]
  },
  {
   "cell_type": "code",
   "execution_count": 7,
   "id": "c0c980eb",
   "metadata": {},
   "outputs": [
    {
     "data": {
      "text/plain": [
       "10001    홍인표\n",
       "10002    김학동\n",
       "10003    안은영\n",
       "10004    고길동\n",
       "dtype: object"
      ]
     },
     "execution_count": 7,
     "metadata": {},
     "output_type": "execute_result"
    }
   ],
   "source": [
    "customer_no_name={'10001':'홍인표', \n",
    "                  '10002':'김학동',\n",
    "                  '10003':'안은영',\n",
    "                  '10004':'고길동'}\n",
    "cust_info=pd.Series(customer_no_name)\n",
    "cust_info"
   ]
  },
  {
   "cell_type": "code",
   "execution_count": 8,
   "id": "4414680c",
   "metadata": {},
   "outputs": [
    {
     "data": {
      "text/plain": [
       "Index(['10001', '10002', '10003', '10004'], dtype='object')"
      ]
     },
     "execution_count": 8,
     "metadata": {},
     "output_type": "execute_result"
    }
   ],
   "source": [
    "cust_info.index"
   ]
  },
  {
   "cell_type": "code",
   "execution_count": 13,
   "id": "275605a7",
   "metadata": {},
   "outputs": [
    {
     "data": {
      "text/plain": [
       "10001    홍인표\n",
       "10003    안은영\n",
       "10004    고길동\n",
       "dtype: object"
      ]
     },
     "execution_count": 13,
     "metadata": {},
     "output_type": "execute_result"
    }
   ],
   "source": [
    "#인덱스를 활용하여 추출, series로 변환\n",
    "customer_no_name={'10001':'홍인표','10002':'김학동','10003':'안은영','10004':'고길동'}\n",
    "cust_info=pd.Series(customer_no_name, index=['10001','10003','10004'])\n",
    "cust_info"
   ]
  },
  {
   "cell_type": "code",
   "execution_count": 14,
   "id": "a65248c5",
   "metadata": {},
   "outputs": [
    {
     "data": {
      "text/plain": [
       "'홍인표'"
      ]
     },
     "execution_count": 14,
     "metadata": {},
     "output_type": "execute_result"
    }
   ],
   "source": [
    "#iloc: 실제 순서\n",
    "cust_info.iloc[0]"
   ]
  },
  {
   "cell_type": "code",
   "execution_count": 15,
   "id": "2cc6a7cb",
   "metadata": {},
   "outputs": [
    {
     "data": {
      "text/plain": [
       "'홍인표'"
      ]
     },
     "execution_count": 15,
     "metadata": {},
     "output_type": "execute_result"
    }
   ],
   "source": [
    "#loc: 인덱스\n",
    "cust_info.loc['10001']"
   ]
  },
  {
   "cell_type": "code",
   "execution_count": 19,
   "id": "ea3e4a6d",
   "metadata": {},
   "outputs": [
    {
     "name": "stderr",
     "output_type": "stream",
     "text": [
      "/var/folders/dk/3v6dmwm50cd7177yfz7bz0pm0000gn/T/ipykernel_36914/1950951689.py:5: FutureWarning: The series.append method is deprecated and will be removed from pandas in a future version. Use pandas.concat instead.\n",
      "  customer_list=cust_info.append(customer_2)\n"
     ]
    },
    {
     "data": {
      "text/plain": [
       "10001    홍인표\n",
       "10003    안은영\n",
       "10004    고길동\n",
       "0        홍길동\n",
       "1        김수진\n",
       "2        김철수\n",
       "dtype: object"
      ]
     },
     "execution_count": 19,
     "metadata": {},
     "output_type": "execute_result"
    }
   ],
   "source": [
    "#추가: append 또는 concat 사용\n",
    "customer_2=['홍길동', '김수진', '김철수']\n",
    "customer_2=pd.Series(customer_2)\n",
    "\n",
    "customer_list=cust_info.append(customer_2)\n",
    "customer_list\n",
    "#customer_list=pd.concat([cust_info,customer_2])"
   ]
  },
  {
   "cell_type": "markdown",
   "id": "5b7351c1",
   "metadata": {},
   "source": [
    "## 데이터프레임"
   ]
  },
  {
   "cell_type": "code",
   "execution_count": 20,
   "id": "89e68010",
   "metadata": {},
   "outputs": [],
   "source": [
    "customer_1=pd.Series({'Name': '홍길동',\n",
    "                     'Phone_no': '01011112222',\n",
    "                     '1Q_point': 90})\n",
    "customer_2=pd.Series({'Name':'김수진',\n",
    "                     'Phone_no': '01012341234',\n",
    "                     '1Q_point': 70})\n",
    "customer_3=pd.Series({'Name':'홍길동',\n",
    "                     'Phone_no': '01099998888',\n",
    "                     '1Q_point': 22.5})"
   ]
  },
  {
   "cell_type": "code",
   "execution_count": 23,
   "id": "e2c4ea63",
   "metadata": {},
   "outputs": [
    {
     "data": {
      "text/html": [
       "<div>\n",
       "<style scoped>\n",
       "    .dataframe tbody tr th:only-of-type {\n",
       "        vertical-align: middle;\n",
       "    }\n",
       "\n",
       "    .dataframe tbody tr th {\n",
       "        vertical-align: top;\n",
       "    }\n",
       "\n",
       "    .dataframe thead th {\n",
       "        text-align: right;\n",
       "    }\n",
       "</style>\n",
       "<table border=\"1\" class=\"dataframe\">\n",
       "  <thead>\n",
       "    <tr style=\"text-align: right;\">\n",
       "      <th></th>\n",
       "      <th>Name</th>\n",
       "      <th>Phone_no</th>\n",
       "      <th>1Q_point</th>\n",
       "    </tr>\n",
       "  </thead>\n",
       "  <tbody>\n",
       "    <tr>\n",
       "      <th>0</th>\n",
       "      <td>홍길동</td>\n",
       "      <td>01011112222</td>\n",
       "      <td>90.0</td>\n",
       "    </tr>\n",
       "    <tr>\n",
       "      <th>1</th>\n",
       "      <td>김수진</td>\n",
       "      <td>01012341234</td>\n",
       "      <td>70.0</td>\n",
       "    </tr>\n",
       "    <tr>\n",
       "      <th>2</th>\n",
       "      <td>홍길동</td>\n",
       "      <td>01099998888</td>\n",
       "      <td>22.5</td>\n",
       "    </tr>\n",
       "  </tbody>\n",
       "</table>\n",
       "</div>"
      ],
      "text/plain": [
       "  Name     Phone_no  1Q_point\n",
       "0  홍길동  01011112222      90.0\n",
       "1  김수진  01012341234      70.0\n",
       "2  홍길동  01099998888      22.5"
      ]
     },
     "execution_count": 23,
     "metadata": {},
     "output_type": "execute_result"
    }
   ],
   "source": [
    "df = pd.DataFrame([customer_1,customer_2,customer_3])\n",
    "df"
   ]
  },
  {
   "cell_type": "code",
   "execution_count": 24,
   "id": "a66dd96a",
   "metadata": {},
   "outputs": [
    {
     "data": {
      "text/html": [
       "<div>\n",
       "<style scoped>\n",
       "    .dataframe tbody tr th:only-of-type {\n",
       "        vertical-align: middle;\n",
       "    }\n",
       "\n",
       "    .dataframe tbody tr th {\n",
       "        vertical-align: top;\n",
       "    }\n",
       "\n",
       "    .dataframe thead th {\n",
       "        text-align: right;\n",
       "    }\n",
       "</style>\n",
       "<table border=\"1\" class=\"dataframe\">\n",
       "  <thead>\n",
       "    <tr style=\"text-align: right;\">\n",
       "      <th></th>\n",
       "      <th>Name</th>\n",
       "      <th>Phone_no</th>\n",
       "      <th>1Q_point</th>\n",
       "    </tr>\n",
       "  </thead>\n",
       "  <tbody>\n",
       "    <tr>\n",
       "      <th>10001</th>\n",
       "      <td>홍길동</td>\n",
       "      <td>01011112222</td>\n",
       "      <td>90.0</td>\n",
       "    </tr>\n",
       "    <tr>\n",
       "      <th>10002</th>\n",
       "      <td>김수진</td>\n",
       "      <td>01012341234</td>\n",
       "      <td>70.0</td>\n",
       "    </tr>\n",
       "    <tr>\n",
       "      <th>10003</th>\n",
       "      <td>홍길동</td>\n",
       "      <td>01099998888</td>\n",
       "      <td>22.5</td>\n",
       "    </tr>\n",
       "  </tbody>\n",
       "</table>\n",
       "</div>"
      ],
      "text/plain": [
       "      Name     Phone_no  1Q_point\n",
       "10001  홍길동  01011112222      90.0\n",
       "10002  김수진  01012341234      70.0\n",
       "10003  홍길동  01099998888      22.5"
      ]
     },
     "execution_count": 24,
     "metadata": {},
     "output_type": "execute_result"
    }
   ],
   "source": [
    "#인덱스 변경\n",
    "df=pd.DataFrame([customer_1, customer_2, customer_3],\n",
    "               index=['10001','10002','10003'])\n",
    "df"
   ]
  },
  {
   "cell_type": "code",
   "execution_count": 44,
   "id": "6effb6f4",
   "metadata": {},
   "outputs": [],
   "source": [
    "#같은 실행결과 코드\n",
    "df=pd.DataFrame([{'Name': '홍길동',\n",
    "                  'Phone_no': '01011112222',\n",
    "                  '1Q_point': 90},\n",
    "                 {'Name':'김수진',\n",
    "                  'Phone_no': '01012341234',\n",
    "                  '1Q_point': 70},\n",
    "                 {'Name':'홍길동',\n",
    "                  'Phone_no': '01099998888',\n",
    "                  '1Q_point': 22.5}],\n",
    "                 index=['10001','10002','10003']\n",
    "                )"
   ]
  },
  {
   "cell_type": "code",
   "execution_count": 28,
   "id": "2ef88d05",
   "metadata": {},
   "outputs": [
    {
     "data": {
      "text/plain": [
       "Name                김수진\n",
       "Phone_no    01012341234\n",
       "1Q_point           70.0\n",
       "Name: 10002, dtype: object"
      ]
     },
     "execution_count": 28,
     "metadata": {},
     "output_type": "execute_result"
    }
   ],
   "source": [
    "df.loc['10002']"
   ]
  },
  {
   "cell_type": "code",
   "execution_count": 25,
   "id": "5175bd51",
   "metadata": {},
   "outputs": [
    {
     "data": {
      "text/html": [
       "<div>\n",
       "<style scoped>\n",
       "    .dataframe tbody tr th:only-of-type {\n",
       "        vertical-align: middle;\n",
       "    }\n",
       "\n",
       "    .dataframe tbody tr th {\n",
       "        vertical-align: top;\n",
       "    }\n",
       "\n",
       "    .dataframe thead th {\n",
       "        text-align: right;\n",
       "    }\n",
       "</style>\n",
       "<table border=\"1\" class=\"dataframe\">\n",
       "  <thead>\n",
       "    <tr style=\"text-align: right;\">\n",
       "      <th></th>\n",
       "      <th>Name</th>\n",
       "      <th>Phone_no</th>\n",
       "      <th>1Q_point</th>\n",
       "    </tr>\n",
       "  </thead>\n",
       "  <tbody>\n",
       "    <tr>\n",
       "      <th>10001</th>\n",
       "      <td>홍길동</td>\n",
       "      <td>01011112222</td>\n",
       "      <td>90.0</td>\n",
       "    </tr>\n",
       "    <tr>\n",
       "      <th>10002</th>\n",
       "      <td>김수진</td>\n",
       "      <td>01012341234</td>\n",
       "      <td>70.0</td>\n",
       "    </tr>\n",
       "  </tbody>\n",
       "</table>\n",
       "</div>"
      ],
      "text/plain": [
       "      Name     Phone_no  1Q_point\n",
       "10001  홍길동  01011112222      90.0\n",
       "10002  김수진  01012341234      70.0"
      ]
     },
     "execution_count": 25,
     "metadata": {},
     "output_type": "execute_result"
    }
   ],
   "source": [
    "#a:b -> 원래 인덱스 기준 a부터 b-1 출력\n",
    "df.iloc[0:2]"
   ]
  },
  {
   "cell_type": "code",
   "execution_count": 29,
   "id": "6b971136",
   "metadata": {},
   "outputs": [
    {
     "data": {
      "text/plain": [
       "10001    홍길동\n",
       "10002    김수진\n",
       "10003    홍길동\n",
       "Name: Name, dtype: object"
      ]
     },
     "execution_count": 29,
     "metadata": {},
     "output_type": "execute_result"
    }
   ],
   "source": [
    "#열출력\n",
    "df['Name']"
   ]
  },
  {
   "cell_type": "code",
   "execution_count": 30,
   "id": "8b99fc37",
   "metadata": {},
   "outputs": [
    {
     "data": {
      "text/html": [
       "<div>\n",
       "<style scoped>\n",
       "    .dataframe tbody tr th:only-of-type {\n",
       "        vertical-align: middle;\n",
       "    }\n",
       "\n",
       "    .dataframe tbody tr th {\n",
       "        vertical-align: top;\n",
       "    }\n",
       "\n",
       "    .dataframe thead th {\n",
       "        text-align: right;\n",
       "    }\n",
       "</style>\n",
       "<table border=\"1\" class=\"dataframe\">\n",
       "  <thead>\n",
       "    <tr style=\"text-align: right;\">\n",
       "      <th></th>\n",
       "      <th>Name</th>\n",
       "      <th>1Q_point</th>\n",
       "    </tr>\n",
       "  </thead>\n",
       "  <tbody>\n",
       "    <tr>\n",
       "      <th>10001</th>\n",
       "      <td>홍길동</td>\n",
       "      <td>90.0</td>\n",
       "    </tr>\n",
       "    <tr>\n",
       "      <th>10002</th>\n",
       "      <td>김수진</td>\n",
       "      <td>70.0</td>\n",
       "    </tr>\n",
       "    <tr>\n",
       "      <th>10003</th>\n",
       "      <td>홍길동</td>\n",
       "      <td>22.5</td>\n",
       "    </tr>\n",
       "  </tbody>\n",
       "</table>\n",
       "</div>"
      ],
      "text/plain": [
       "      Name  1Q_point\n",
       "10001  홍길동      90.0\n",
       "10002  김수진      70.0\n",
       "10003  홍길동      22.5"
      ]
     },
     "execution_count": 30,
     "metadata": {},
     "output_type": "execute_result"
    }
   ],
   "source": [
    "#대괄호 사용해서 열 여러개 출력 가능\n",
    "df[['Name','1Q_point']]"
   ]
  },
  {
   "cell_type": "code",
   "execution_count": 31,
   "id": "c41661f8",
   "metadata": {},
   "outputs": [
    {
     "data": {
      "text/html": [
       "<div>\n",
       "<style scoped>\n",
       "    .dataframe tbody tr th:only-of-type {\n",
       "        vertical-align: middle;\n",
       "    }\n",
       "\n",
       "    .dataframe tbody tr th {\n",
       "        vertical-align: top;\n",
       "    }\n",
       "\n",
       "    .dataframe thead th {\n",
       "        text-align: right;\n",
       "    }\n",
       "</style>\n",
       "<table border=\"1\" class=\"dataframe\">\n",
       "  <thead>\n",
       "    <tr style=\"text-align: right;\">\n",
       "      <th></th>\n",
       "      <th>Name</th>\n",
       "      <th>Phone_no</th>\n",
       "      <th>1Q_point</th>\n",
       "    </tr>\n",
       "  </thead>\n",
       "  <tbody>\n",
       "    <tr>\n",
       "      <th>10001</th>\n",
       "      <td>홍길동</td>\n",
       "      <td>01011112222</td>\n",
       "      <td>90.0</td>\n",
       "    </tr>\n",
       "    <tr>\n",
       "      <th>10002</th>\n",
       "      <td>김수진</td>\n",
       "      <td>01012341234</td>\n",
       "      <td>70.0</td>\n",
       "    </tr>\n",
       "    <tr>\n",
       "      <th>10003</th>\n",
       "      <td>홍길동</td>\n",
       "      <td>01099998888</td>\n",
       "      <td>22.5</td>\n",
       "    </tr>\n",
       "  </tbody>\n",
       "</table>\n",
       "</div>"
      ],
      "text/plain": [
       "      Name     Phone_no  1Q_point\n",
       "10001  홍길동  01011112222      90.0\n",
       "10002  김수진  01012341234      70.0\n",
       "10003  홍길동  01099998888      22.5"
      ]
     },
     "execution_count": 31,
     "metadata": {},
     "output_type": "execute_result"
    }
   ],
   "source": [
    "df.iloc[:,:] #[행,열], 숫자를 안적으면 전체 출력"
   ]
  },
  {
   "cell_type": "code",
   "execution_count": 32,
   "id": "368380ec",
   "metadata": {},
   "outputs": [
    {
     "data": {
      "text/html": [
       "<div>\n",
       "<style scoped>\n",
       "    .dataframe tbody tr th:only-of-type {\n",
       "        vertical-align: middle;\n",
       "    }\n",
       "\n",
       "    .dataframe tbody tr th {\n",
       "        vertical-align: top;\n",
       "    }\n",
       "\n",
       "    .dataframe thead th {\n",
       "        text-align: right;\n",
       "    }\n",
       "</style>\n",
       "<table border=\"1\" class=\"dataframe\">\n",
       "  <thead>\n",
       "    <tr style=\"text-align: right;\">\n",
       "      <th></th>\n",
       "      <th>Name</th>\n",
       "      <th>Phone_no</th>\n",
       "    </tr>\n",
       "  </thead>\n",
       "  <tbody>\n",
       "    <tr>\n",
       "      <th>10001</th>\n",
       "      <td>홍길동</td>\n",
       "      <td>01011112222</td>\n",
       "    </tr>\n",
       "    <tr>\n",
       "      <th>10002</th>\n",
       "      <td>김수진</td>\n",
       "      <td>01012341234</td>\n",
       "    </tr>\n",
       "    <tr>\n",
       "      <th>10003</th>\n",
       "      <td>홍길동</td>\n",
       "      <td>01099998888</td>\n",
       "    </tr>\n",
       "  </tbody>\n",
       "</table>\n",
       "</div>"
      ],
      "text/plain": [
       "      Name     Phone_no\n",
       "10001  홍길동  01011112222\n",
       "10002  김수진  01012341234\n",
       "10003  홍길동  01099998888"
      ]
     },
     "execution_count": 32,
     "metadata": {},
     "output_type": "execute_result"
    }
   ],
   "source": [
    "df.iloc[:,0:2]"
   ]
  },
  {
   "cell_type": "code",
   "execution_count": 33,
   "id": "63fa8fb2",
   "metadata": {},
   "outputs": [
    {
     "data": {
      "text/plain": [
       "10001     True\n",
       "10002    False\n",
       "10003     True\n",
       "Name: Name, dtype: bool"
      ]
     },
     "execution_count": 33,
     "metadata": {},
     "output_type": "execute_result"
    }
   ],
   "source": [
    "df['Name']=='홍길동'"
   ]
  },
  {
   "cell_type": "code",
   "execution_count": 34,
   "id": "efa2e4f7",
   "metadata": {},
   "outputs": [
    {
     "data": {
      "text/html": [
       "<div>\n",
       "<style scoped>\n",
       "    .dataframe tbody tr th:only-of-type {\n",
       "        vertical-align: middle;\n",
       "    }\n",
       "\n",
       "    .dataframe tbody tr th {\n",
       "        vertical-align: top;\n",
       "    }\n",
       "\n",
       "    .dataframe thead th {\n",
       "        text-align: right;\n",
       "    }\n",
       "</style>\n",
       "<table border=\"1\" class=\"dataframe\">\n",
       "  <thead>\n",
       "    <tr style=\"text-align: right;\">\n",
       "      <th></th>\n",
       "      <th>Name</th>\n",
       "      <th>Phone_no</th>\n",
       "      <th>1Q_point</th>\n",
       "    </tr>\n",
       "  </thead>\n",
       "  <tbody>\n",
       "    <tr>\n",
       "      <th>10002</th>\n",
       "      <td>김수진</td>\n",
       "      <td>01012341234</td>\n",
       "      <td>70.0</td>\n",
       "    </tr>\n",
       "  </tbody>\n",
       "</table>\n",
       "</div>"
      ],
      "text/plain": [
       "      Name     Phone_no  1Q_point\n",
       "10002  김수진  01012341234      70.0"
      ]
     },
     "execution_count": 34,
     "metadata": {},
     "output_type": "execute_result"
    }
   ],
   "source": [
    "df[df['Name']=='김수진']"
   ]
  },
  {
   "cell_type": "code",
   "execution_count": 35,
   "id": "2f5d5065",
   "metadata": {},
   "outputs": [
    {
     "data": {
      "text/plain": [
       "10001     True\n",
       "10002    False\n",
       "10003    False\n",
       "dtype: bool"
      ]
     },
     "execution_count": 35,
     "metadata": {},
     "output_type": "execute_result"
    }
   ],
   "source": [
    "(df['Name']=='홍길동')&(df['1Q_point']>50)"
   ]
  },
  {
   "cell_type": "code",
   "execution_count": 36,
   "id": "393c1b10",
   "metadata": {},
   "outputs": [
    {
     "data": {
      "text/html": [
       "<div>\n",
       "<style scoped>\n",
       "    .dataframe tbody tr th:only-of-type {\n",
       "        vertical-align: middle;\n",
       "    }\n",
       "\n",
       "    .dataframe tbody tr th {\n",
       "        vertical-align: top;\n",
       "    }\n",
       "\n",
       "    .dataframe thead th {\n",
       "        text-align: right;\n",
       "    }\n",
       "</style>\n",
       "<table border=\"1\" class=\"dataframe\">\n",
       "  <thead>\n",
       "    <tr style=\"text-align: right;\">\n",
       "      <th></th>\n",
       "      <th>Name</th>\n",
       "      <th>Phone_no</th>\n",
       "      <th>1Q_point</th>\n",
       "    </tr>\n",
       "  </thead>\n",
       "  <tbody>\n",
       "    <tr>\n",
       "      <th>10001</th>\n",
       "      <td>홍길동</td>\n",
       "      <td>01011112222</td>\n",
       "      <td>90.0</td>\n",
       "    </tr>\n",
       "  </tbody>\n",
       "</table>\n",
       "</div>"
      ],
      "text/plain": [
       "      Name     Phone_no  1Q_point\n",
       "10001  홍길동  01011112222      90.0"
      ]
     },
     "execution_count": 36,
     "metadata": {},
     "output_type": "execute_result"
    }
   ],
   "source": [
    "#대괄호로 다시 묶으면 데이터 프레임 형태로 출력\n",
    "df[(df['Name']=='홍길동')&(df['1Q_point']>50)]"
   ]
  },
  {
   "cell_type": "markdown",
   "id": "25c42940",
   "metadata": {},
   "source": [
    "## drop"
   ]
  },
  {
   "cell_type": "code",
   "execution_count": 37,
   "id": "fc0bfebc",
   "metadata": {},
   "outputs": [
    {
     "data": {
      "text/html": [
       "<div>\n",
       "<style scoped>\n",
       "    .dataframe tbody tr th:only-of-type {\n",
       "        vertical-align: middle;\n",
       "    }\n",
       "\n",
       "    .dataframe tbody tr th {\n",
       "        vertical-align: top;\n",
       "    }\n",
       "\n",
       "    .dataframe thead th {\n",
       "        text-align: right;\n",
       "    }\n",
       "</style>\n",
       "<table border=\"1\" class=\"dataframe\">\n",
       "  <thead>\n",
       "    <tr style=\"text-align: right;\">\n",
       "      <th></th>\n",
       "      <th>Name</th>\n",
       "      <th>Phone_no</th>\n",
       "      <th>1Q_point</th>\n",
       "    </tr>\n",
       "  </thead>\n",
       "  <tbody>\n",
       "    <tr>\n",
       "      <th>10002</th>\n",
       "      <td>김수진</td>\n",
       "      <td>01012341234</td>\n",
       "      <td>70.0</td>\n",
       "    </tr>\n",
       "    <tr>\n",
       "      <th>10003</th>\n",
       "      <td>홍길동</td>\n",
       "      <td>01099998888</td>\n",
       "      <td>22.5</td>\n",
       "    </tr>\n",
       "  </tbody>\n",
       "</table>\n",
       "</div>"
      ],
      "text/plain": [
       "      Name     Phone_no  1Q_point\n",
       "10002  김수진  01012341234      70.0\n",
       "10003  홍길동  01099998888      22.5"
      ]
     },
     "execution_count": 37,
     "metadata": {},
     "output_type": "execute_result"
    }
   ],
   "source": [
    "df.drop('10001')"
   ]
  },
  {
   "cell_type": "code",
   "execution_count": 38,
   "id": "7d74c1f9",
   "metadata": {},
   "outputs": [
    {
     "data": {
      "text/html": [
       "<div>\n",
       "<style scoped>\n",
       "    .dataframe tbody tr th:only-of-type {\n",
       "        vertical-align: middle;\n",
       "    }\n",
       "\n",
       "    .dataframe tbody tr th {\n",
       "        vertical-align: top;\n",
       "    }\n",
       "\n",
       "    .dataframe thead th {\n",
       "        text-align: right;\n",
       "    }\n",
       "</style>\n",
       "<table border=\"1\" class=\"dataframe\">\n",
       "  <thead>\n",
       "    <tr style=\"text-align: right;\">\n",
       "      <th></th>\n",
       "      <th>Name</th>\n",
       "      <th>Phone_no</th>\n",
       "      <th>1Q_point</th>\n",
       "    </tr>\n",
       "  </thead>\n",
       "  <tbody>\n",
       "    <tr>\n",
       "      <th>10003</th>\n",
       "      <td>홍길동</td>\n",
       "      <td>01099998888</td>\n",
       "      <td>22.5</td>\n",
       "    </tr>\n",
       "  </tbody>\n",
       "</table>\n",
       "</div>"
      ],
      "text/plain": [
       "      Name     Phone_no  1Q_point\n",
       "10003  홍길동  01099998888      22.5"
      ]
     },
     "execution_count": 38,
     "metadata": {},
     "output_type": "execute_result"
    }
   ],
   "source": [
    "#대괄호로 묶어서 여러개의 행 삭제 가능\n",
    "df.drop(['10001','10002'])"
   ]
  },
  {
   "cell_type": "code",
   "execution_count": 39,
   "id": "72ce4104",
   "metadata": {},
   "outputs": [
    {
     "data": {
      "text/html": [
       "<div>\n",
       "<style scoped>\n",
       "    .dataframe tbody tr th:only-of-type {\n",
       "        vertical-align: middle;\n",
       "    }\n",
       "\n",
       "    .dataframe tbody tr th {\n",
       "        vertical-align: top;\n",
       "    }\n",
       "\n",
       "    .dataframe thead th {\n",
       "        text-align: right;\n",
       "    }\n",
       "</style>\n",
       "<table border=\"1\" class=\"dataframe\">\n",
       "  <thead>\n",
       "    <tr style=\"text-align: right;\">\n",
       "      <th></th>\n",
       "      <th>Name</th>\n",
       "      <th>1Q_point</th>\n",
       "    </tr>\n",
       "  </thead>\n",
       "  <tbody>\n",
       "    <tr>\n",
       "      <th>10001</th>\n",
       "      <td>홍길동</td>\n",
       "      <td>90.0</td>\n",
       "    </tr>\n",
       "    <tr>\n",
       "      <th>10002</th>\n",
       "      <td>김수진</td>\n",
       "      <td>70.0</td>\n",
       "    </tr>\n",
       "    <tr>\n",
       "      <th>10003</th>\n",
       "      <td>홍길동</td>\n",
       "      <td>22.5</td>\n",
       "    </tr>\n",
       "  </tbody>\n",
       "</table>\n",
       "</div>"
      ],
      "text/plain": [
       "      Name  1Q_point\n",
       "10001  홍길동      90.0\n",
       "10002  김수진      70.0\n",
       "10003  홍길동      22.5"
      ]
     },
     "execution_count": 39,
     "metadata": {},
     "output_type": "execute_result"
    }
   ],
   "source": [
    "#columns를 이용해 열 삭제\n",
    "df.drop(columns='Phone_no')"
   ]
  },
  {
   "cell_type": "code",
   "execution_count": 40,
   "id": "7e5ff9f3",
   "metadata": {},
   "outputs": [
    {
     "data": {
      "text/html": [
       "<div>\n",
       "<style scoped>\n",
       "    .dataframe tbody tr th:only-of-type {\n",
       "        vertical-align: middle;\n",
       "    }\n",
       "\n",
       "    .dataframe tbody tr th {\n",
       "        vertical-align: top;\n",
       "    }\n",
       "\n",
       "    .dataframe thead th {\n",
       "        text-align: right;\n",
       "    }\n",
       "</style>\n",
       "<table border=\"1\" class=\"dataframe\">\n",
       "  <thead>\n",
       "    <tr style=\"text-align: right;\">\n",
       "      <th></th>\n",
       "      <th>Name</th>\n",
       "    </tr>\n",
       "  </thead>\n",
       "  <tbody>\n",
       "    <tr>\n",
       "      <th>10001</th>\n",
       "      <td>홍길동</td>\n",
       "    </tr>\n",
       "    <tr>\n",
       "      <th>10002</th>\n",
       "      <td>김수진</td>\n",
       "    </tr>\n",
       "    <tr>\n",
       "      <th>10003</th>\n",
       "      <td>홍길동</td>\n",
       "    </tr>\n",
       "  </tbody>\n",
       "</table>\n",
       "</div>"
      ],
      "text/plain": [
       "      Name\n",
       "10001  홍길동\n",
       "10002  김수진\n",
       "10003  홍길동"
      ]
     },
     "execution_count": 40,
     "metadata": {},
     "output_type": "execute_result"
    }
   ],
   "source": [
    "#대괄호로 묶어서 여러개의 열 삭제 가능\n",
    "df.drop(columns=['Phone_no','1Q_point'])"
   ]
  },
  {
   "cell_type": "markdown",
   "id": "917a01c9",
   "metadata": {},
   "source": [
    "### inplace=True 이용하면 변경한 프레임 유지"
   ]
  },
  {
   "cell_type": "code",
   "execution_count": 41,
   "id": "759b07a3",
   "metadata": {},
   "outputs": [
    {
     "data": {
      "text/html": [
       "<div>\n",
       "<style scoped>\n",
       "    .dataframe tbody tr th:only-of-type {\n",
       "        vertical-align: middle;\n",
       "    }\n",
       "\n",
       "    .dataframe tbody tr th {\n",
       "        vertical-align: top;\n",
       "    }\n",
       "\n",
       "    .dataframe thead th {\n",
       "        text-align: right;\n",
       "    }\n",
       "</style>\n",
       "<table border=\"1\" class=\"dataframe\">\n",
       "  <thead>\n",
       "    <tr style=\"text-align: right;\">\n",
       "      <th></th>\n",
       "      <th>Name</th>\n",
       "      <th>Phone_no</th>\n",
       "      <th>1Q_point</th>\n",
       "    </tr>\n",
       "  </thead>\n",
       "  <tbody>\n",
       "    <tr>\n",
       "      <th>10001</th>\n",
       "      <td>홍길동</td>\n",
       "      <td>01011112222</td>\n",
       "      <td>90.0</td>\n",
       "    </tr>\n",
       "    <tr>\n",
       "      <th>10002</th>\n",
       "      <td>김수진</td>\n",
       "      <td>01012341234</td>\n",
       "      <td>70.0</td>\n",
       "    </tr>\n",
       "    <tr>\n",
       "      <th>10003</th>\n",
       "      <td>홍길동</td>\n",
       "      <td>01099998888</td>\n",
       "      <td>22.5</td>\n",
       "    </tr>\n",
       "  </tbody>\n",
       "</table>\n",
       "</div>"
      ],
      "text/plain": [
       "      Name     Phone_no  1Q_point\n",
       "10001  홍길동  01011112222      90.0\n",
       "10002  김수진  01012341234      70.0\n",
       "10003  홍길동  01099998888      22.5"
      ]
     },
     "execution_count": 41,
     "metadata": {},
     "output_type": "execute_result"
    }
   ],
   "source": [
    "df"
   ]
  },
  {
   "cell_type": "code",
   "execution_count": 45,
   "id": "a3775e52",
   "metadata": {},
   "outputs": [],
   "source": [
    "df.drop(columns='1Q_point', inplace=True)"
   ]
  },
  {
   "cell_type": "code",
   "execution_count": 46,
   "id": "c0534331",
   "metadata": {},
   "outputs": [
    {
     "data": {
      "text/html": [
       "<div>\n",
       "<style scoped>\n",
       "    .dataframe tbody tr th:only-of-type {\n",
       "        vertical-align: middle;\n",
       "    }\n",
       "\n",
       "    .dataframe tbody tr th {\n",
       "        vertical-align: top;\n",
       "    }\n",
       "\n",
       "    .dataframe thead th {\n",
       "        text-align: right;\n",
       "    }\n",
       "</style>\n",
       "<table border=\"1\" class=\"dataframe\">\n",
       "  <thead>\n",
       "    <tr style=\"text-align: right;\">\n",
       "      <th></th>\n",
       "      <th>Name</th>\n",
       "      <th>Phone_no</th>\n",
       "    </tr>\n",
       "  </thead>\n",
       "  <tbody>\n",
       "    <tr>\n",
       "      <th>10001</th>\n",
       "      <td>홍길동</td>\n",
       "      <td>01011112222</td>\n",
       "    </tr>\n",
       "    <tr>\n",
       "      <th>10002</th>\n",
       "      <td>김수진</td>\n",
       "      <td>01012341234</td>\n",
       "    </tr>\n",
       "    <tr>\n",
       "      <th>10003</th>\n",
       "      <td>홍길동</td>\n",
       "      <td>01099998888</td>\n",
       "    </tr>\n",
       "  </tbody>\n",
       "</table>\n",
       "</div>"
      ],
      "text/plain": [
       "      Name     Phone_no\n",
       "10001  홍길동  01011112222\n",
       "10002  김수진  01012341234\n",
       "10003  홍길동  01099998888"
      ]
     },
     "execution_count": 46,
     "metadata": {},
     "output_type": "execute_result"
    }
   ],
   "source": [
    "df"
   ]
  },
  {
   "cell_type": "markdown",
   "id": "4d96679a",
   "metadata": {},
   "source": [
    "### 열 이름 변경"
   ]
  },
  {
   "cell_type": "code",
   "execution_count": 47,
   "id": "e8e2d5bf",
   "metadata": {},
   "outputs": [
    {
     "data": {
      "text/html": [
       "<div>\n",
       "<style scoped>\n",
       "    .dataframe tbody tr th:only-of-type {\n",
       "        vertical-align: middle;\n",
       "    }\n",
       "\n",
       "    .dataframe tbody tr th {\n",
       "        vertical-align: top;\n",
       "    }\n",
       "\n",
       "    .dataframe thead th {\n",
       "        text-align: right;\n",
       "    }\n",
       "</style>\n",
       "<table border=\"1\" class=\"dataframe\">\n",
       "  <thead>\n",
       "    <tr style=\"text-align: right;\">\n",
       "      <th></th>\n",
       "      <th>Name</th>\n",
       "      <th>Number</th>\n",
       "    </tr>\n",
       "  </thead>\n",
       "  <tbody>\n",
       "    <tr>\n",
       "      <th>10001</th>\n",
       "      <td>홍길동</td>\n",
       "      <td>01011112222</td>\n",
       "    </tr>\n",
       "    <tr>\n",
       "      <th>10002</th>\n",
       "      <td>김수진</td>\n",
       "      <td>01012341234</td>\n",
       "    </tr>\n",
       "    <tr>\n",
       "      <th>10003</th>\n",
       "      <td>홍길동</td>\n",
       "      <td>01099998888</td>\n",
       "    </tr>\n",
       "  </tbody>\n",
       "</table>\n",
       "</div>"
      ],
      "text/plain": [
       "      Name       Number\n",
       "10001  홍길동  01011112222\n",
       "10002  김수진  01012341234\n",
       "10003  홍길동  01099998888"
      ]
     },
     "execution_count": 47,
     "metadata": {},
     "output_type": "execute_result"
    }
   ],
   "source": [
    "df.rename(columns={'Phone_no':'Number'})"
   ]
  },
  {
   "cell_type": "markdown",
   "id": "a5e93718",
   "metadata": {},
   "source": [
    "### 새로운 열 추가"
   ]
  },
  {
   "cell_type": "code",
   "execution_count": 48,
   "id": "e01f1962",
   "metadata": {},
   "outputs": [
    {
     "data": {
      "text/html": [
       "<div>\n",
       "<style scoped>\n",
       "    .dataframe tbody tr th:only-of-type {\n",
       "        vertical-align: middle;\n",
       "    }\n",
       "\n",
       "    .dataframe tbody tr th {\n",
       "        vertical-align: top;\n",
       "    }\n",
       "\n",
       "    .dataframe thead th {\n",
       "        text-align: right;\n",
       "    }\n",
       "</style>\n",
       "<table border=\"1\" class=\"dataframe\">\n",
       "  <thead>\n",
       "    <tr style=\"text-align: right;\">\n",
       "      <th></th>\n",
       "      <th>Name</th>\n",
       "      <th>Phone_no</th>\n",
       "      <th>1Q_point</th>\n",
       "    </tr>\n",
       "  </thead>\n",
       "  <tbody>\n",
       "    <tr>\n",
       "      <th>10001</th>\n",
       "      <td>홍길동</td>\n",
       "      <td>01011112222</td>\n",
       "      <td>80</td>\n",
       "    </tr>\n",
       "    <tr>\n",
       "      <th>10002</th>\n",
       "      <td>김수진</td>\n",
       "      <td>01012341234</td>\n",
       "      <td>40</td>\n",
       "    </tr>\n",
       "    <tr>\n",
       "      <th>10003</th>\n",
       "      <td>홍길동</td>\n",
       "      <td>01099998888</td>\n",
       "      <td>100</td>\n",
       "    </tr>\n",
       "  </tbody>\n",
       "</table>\n",
       "</div>"
      ],
      "text/plain": [
       "      Name     Phone_no  1Q_point\n",
       "10001  홍길동  01011112222        80\n",
       "10002  김수진  01012341234        40\n",
       "10003  홍길동  01099998888       100"
      ]
     },
     "execution_count": 48,
     "metadata": {},
     "output_type": "execute_result"
    }
   ],
   "source": [
    "df['1Q_point']=[80,40,100]\n",
    "df"
   ]
  },
  {
   "cell_type": "markdown",
   "id": "eb869226",
   "metadata": {},
   "source": [
    "## 데이터프레임 합치기"
   ]
  },
  {
   "cell_type": "code",
   "execution_count": 49,
   "id": "e1d9eaf8",
   "metadata": {},
   "outputs": [],
   "source": [
    "df_customer = pd.DataFrame([{'Name': '홍길동', 'Phone_no': '01011112222'}, \n",
    "                            {'Name': '김수진', 'Phone_no': '01012341234'},\n",
    "                            {'Name': '안은영', 'Phone_no': '01099998888'}],\n",
    "                            index=['20190001', '20190002', '20190003'])"
   ]
  },
  {
   "cell_type": "code",
   "execution_count": 50,
   "id": "06f61411",
   "metadata": {},
   "outputs": [],
   "source": [
    "df_point = pd.DataFrame([{'Name': '김개똥', '1Q_point': 90,'final_point': 80}, \n",
    "                         {'Name': '홍길동', '1Q_point': 70,'final_point': 55},\n",
    "                         {'Name': '이가은', '1Q_point': 22.5,'final_point': 95.5}],\n",
    "                        index=['20190002', '20190001', '20193333'])"
   ]
  },
  {
   "cell_type": "code",
   "execution_count": 51,
   "id": "6de36887",
   "metadata": {},
   "outputs": [
    {
     "data": {
      "text/html": [
       "<div>\n",
       "<style scoped>\n",
       "    .dataframe tbody tr th:only-of-type {\n",
       "        vertical-align: middle;\n",
       "    }\n",
       "\n",
       "    .dataframe tbody tr th {\n",
       "        vertical-align: top;\n",
       "    }\n",
       "\n",
       "    .dataframe thead th {\n",
       "        text-align: right;\n",
       "    }\n",
       "</style>\n",
       "<table border=\"1\" class=\"dataframe\">\n",
       "  <thead>\n",
       "    <tr style=\"text-align: right;\">\n",
       "      <th></th>\n",
       "      <th>Name_x</th>\n",
       "      <th>Phone_no</th>\n",
       "      <th>Name_y</th>\n",
       "      <th>1Q_point</th>\n",
       "      <th>final_point</th>\n",
       "    </tr>\n",
       "  </thead>\n",
       "  <tbody>\n",
       "    <tr>\n",
       "      <th>20190001</th>\n",
       "      <td>홍길동</td>\n",
       "      <td>01011112222</td>\n",
       "      <td>홍길동</td>\n",
       "      <td>70.0</td>\n",
       "      <td>55.0</td>\n",
       "    </tr>\n",
       "    <tr>\n",
       "      <th>20190002</th>\n",
       "      <td>김수진</td>\n",
       "      <td>01012341234</td>\n",
       "      <td>김개똥</td>\n",
       "      <td>90.0</td>\n",
       "      <td>80.0</td>\n",
       "    </tr>\n",
       "    <tr>\n",
       "      <th>20190003</th>\n",
       "      <td>안은영</td>\n",
       "      <td>01099998888</td>\n",
       "      <td>NaN</td>\n",
       "      <td>NaN</td>\n",
       "      <td>NaN</td>\n",
       "    </tr>\n",
       "    <tr>\n",
       "      <th>20193333</th>\n",
       "      <td>NaN</td>\n",
       "      <td>NaN</td>\n",
       "      <td>이가은</td>\n",
       "      <td>22.5</td>\n",
       "      <td>95.5</td>\n",
       "    </tr>\n",
       "  </tbody>\n",
       "</table>\n",
       "</div>"
      ],
      "text/plain": [
       "         Name_x     Phone_no Name_y  1Q_point  final_point\n",
       "20190001    홍길동  01011112222    홍길동      70.0         55.0\n",
       "20190002    김수진  01012341234    김개똥      90.0         80.0\n",
       "20190003    안은영  01099998888    NaN       NaN          NaN\n",
       "20193333    NaN          NaN    이가은      22.5         95.5"
      ]
     },
     "execution_count": 51,
     "metadata": {},
     "output_type": "execute_result"
    }
   ],
   "source": [
    "pd.merge(df_customer,df_point,how='outer',left_index=True,right_index=True)\n",
    "#합집합으로 합치고 해당 데이터가 없으면 NaN"
   ]
  },
  {
   "cell_type": "code",
   "execution_count": 52,
   "id": "34b2de16",
   "metadata": {},
   "outputs": [
    {
     "data": {
      "text/html": [
       "<div>\n",
       "<style scoped>\n",
       "    .dataframe tbody tr th:only-of-type {\n",
       "        vertical-align: middle;\n",
       "    }\n",
       "\n",
       "    .dataframe tbody tr th {\n",
       "        vertical-align: top;\n",
       "    }\n",
       "\n",
       "    .dataframe thead th {\n",
       "        text-align: right;\n",
       "    }\n",
       "</style>\n",
       "<table border=\"1\" class=\"dataframe\">\n",
       "  <thead>\n",
       "    <tr style=\"text-align: right;\">\n",
       "      <th></th>\n",
       "      <th>Name_x</th>\n",
       "      <th>Phone_no</th>\n",
       "      <th>Name_y</th>\n",
       "      <th>1Q_point</th>\n",
       "      <th>final_point</th>\n",
       "    </tr>\n",
       "  </thead>\n",
       "  <tbody>\n",
       "    <tr>\n",
       "      <th>20190001</th>\n",
       "      <td>홍길동</td>\n",
       "      <td>01011112222</td>\n",
       "      <td>홍길동</td>\n",
       "      <td>70.0</td>\n",
       "      <td>55.0</td>\n",
       "    </tr>\n",
       "    <tr>\n",
       "      <th>20190002</th>\n",
       "      <td>김수진</td>\n",
       "      <td>01012341234</td>\n",
       "      <td>김개똥</td>\n",
       "      <td>90.0</td>\n",
       "      <td>80.0</td>\n",
       "    </tr>\n",
       "  </tbody>\n",
       "</table>\n",
       "</div>"
      ],
      "text/plain": [
       "         Name_x     Phone_no Name_y  1Q_point  final_point\n",
       "20190001    홍길동  01011112222    홍길동      70.0         55.0\n",
       "20190002    김수진  01012341234    김개똥      90.0         80.0"
      ]
     },
     "execution_count": 52,
     "metadata": {},
     "output_type": "execute_result"
    }
   ],
   "source": [
    "pd.merge(df_customer,df_point,how='inner',left_index=True,right_index=True)\n",
    "#교집합"
   ]
  },
  {
   "cell_type": "code",
   "execution_count": 53,
   "id": "83010ded",
   "metadata": {},
   "outputs": [
    {
     "data": {
      "text/html": [
       "<div>\n",
       "<style scoped>\n",
       "    .dataframe tbody tr th:only-of-type {\n",
       "        vertical-align: middle;\n",
       "    }\n",
       "\n",
       "    .dataframe tbody tr th {\n",
       "        vertical-align: top;\n",
       "    }\n",
       "\n",
       "    .dataframe thead th {\n",
       "        text-align: right;\n",
       "    }\n",
       "</style>\n",
       "<table border=\"1\" class=\"dataframe\">\n",
       "  <thead>\n",
       "    <tr style=\"text-align: right;\">\n",
       "      <th></th>\n",
       "      <th>Name_x</th>\n",
       "      <th>Phone_no</th>\n",
       "      <th>Name_y</th>\n",
       "      <th>1Q_point</th>\n",
       "      <th>final_point</th>\n",
       "    </tr>\n",
       "  </thead>\n",
       "  <tbody>\n",
       "    <tr>\n",
       "      <th>20190001</th>\n",
       "      <td>홍길동</td>\n",
       "      <td>01011112222</td>\n",
       "      <td>홍길동</td>\n",
       "      <td>70.0</td>\n",
       "      <td>55.0</td>\n",
       "    </tr>\n",
       "    <tr>\n",
       "      <th>20190002</th>\n",
       "      <td>김수진</td>\n",
       "      <td>01012341234</td>\n",
       "      <td>김개똥</td>\n",
       "      <td>90.0</td>\n",
       "      <td>80.0</td>\n",
       "    </tr>\n",
       "    <tr>\n",
       "      <th>20190003</th>\n",
       "      <td>안은영</td>\n",
       "      <td>01099998888</td>\n",
       "      <td>NaN</td>\n",
       "      <td>NaN</td>\n",
       "      <td>NaN</td>\n",
       "    </tr>\n",
       "  </tbody>\n",
       "</table>\n",
       "</div>"
      ],
      "text/plain": [
       "         Name_x     Phone_no Name_y  1Q_point  final_point\n",
       "20190001    홍길동  01011112222    홍길동      70.0         55.0\n",
       "20190002    김수진  01012341234    김개똥      90.0         80.0\n",
       "20190003    안은영  01099998888    NaN       NaN          NaN"
      ]
     },
     "execution_count": 53,
     "metadata": {},
     "output_type": "execute_result"
    }
   ],
   "source": [
    "pd.merge(df_customer,df_point,how='left',left_index=True,right_index=True)\n",
    "#왼쪽에 입력한 데이터 기준"
   ]
  },
  {
   "cell_type": "code",
   "execution_count": 54,
   "id": "d05d4fc9",
   "metadata": {},
   "outputs": [
    {
     "data": {
      "text/html": [
       "<div>\n",
       "<style scoped>\n",
       "    .dataframe tbody tr th:only-of-type {\n",
       "        vertical-align: middle;\n",
       "    }\n",
       "\n",
       "    .dataframe tbody tr th {\n",
       "        vertical-align: top;\n",
       "    }\n",
       "\n",
       "    .dataframe thead th {\n",
       "        text-align: right;\n",
       "    }\n",
       "</style>\n",
       "<table border=\"1\" class=\"dataframe\">\n",
       "  <thead>\n",
       "    <tr style=\"text-align: right;\">\n",
       "      <th></th>\n",
       "      <th>Name_x</th>\n",
       "      <th>Phone_no</th>\n",
       "      <th>Name_y</th>\n",
       "      <th>1Q_point</th>\n",
       "      <th>final_point</th>\n",
       "    </tr>\n",
       "  </thead>\n",
       "  <tbody>\n",
       "    <tr>\n",
       "      <th>20190002</th>\n",
       "      <td>김수진</td>\n",
       "      <td>01012341234</td>\n",
       "      <td>김개똥</td>\n",
       "      <td>90.0</td>\n",
       "      <td>80.0</td>\n",
       "    </tr>\n",
       "    <tr>\n",
       "      <th>20190001</th>\n",
       "      <td>홍길동</td>\n",
       "      <td>01011112222</td>\n",
       "      <td>홍길동</td>\n",
       "      <td>70.0</td>\n",
       "      <td>55.0</td>\n",
       "    </tr>\n",
       "    <tr>\n",
       "      <th>20193333</th>\n",
       "      <td>NaN</td>\n",
       "      <td>NaN</td>\n",
       "      <td>이가은</td>\n",
       "      <td>22.5</td>\n",
       "      <td>95.5</td>\n",
       "    </tr>\n",
       "  </tbody>\n",
       "</table>\n",
       "</div>"
      ],
      "text/plain": [
       "         Name_x     Phone_no Name_y  1Q_point  final_point\n",
       "20190002    김수진  01012341234    김개똥      90.0         80.0\n",
       "20190001    홍길동  01011112222    홍길동      70.0         55.0\n",
       "20193333    NaN          NaN    이가은      22.5         95.5"
      ]
     },
     "execution_count": 54,
     "metadata": {},
     "output_type": "execute_result"
    }
   ],
   "source": [
    "pd.merge(df_customer,df_point,how='right',left_index=True,right_index=True)\n",
    "#오른쪽 기준"
   ]
  },
  {
   "cell_type": "code",
   "execution_count": 64,
   "id": "4b922610",
   "metadata": {},
   "outputs": [],
   "source": [
    "df=pd.read_csv('2_olympics.csv',header=1)"
   ]
  },
  {
   "cell_type": "code",
   "execution_count": 65,
   "id": "61167df1",
   "metadata": {},
   "outputs": [
    {
     "data": {
      "text/html": [
       "<div>\n",
       "<style scoped>\n",
       "    .dataframe tbody tr th:only-of-type {\n",
       "        vertical-align: middle;\n",
       "    }\n",
       "\n",
       "    .dataframe tbody tr th {\n",
       "        vertical-align: top;\n",
       "    }\n",
       "\n",
       "    .dataframe thead th {\n",
       "        text-align: right;\n",
       "    }\n",
       "</style>\n",
       "<table border=\"1\" class=\"dataframe\">\n",
       "  <thead>\n",
       "    <tr style=\"text-align: right;\">\n",
       "      <th></th>\n",
       "      <th>Unnamed: 0</th>\n",
       "      <th>№ Summer</th>\n",
       "      <th>01 !</th>\n",
       "      <th>02 !</th>\n",
       "      <th>03 !</th>\n",
       "      <th>Total</th>\n",
       "      <th>№ Winter</th>\n",
       "      <th>01 !.1</th>\n",
       "      <th>02 !.1</th>\n",
       "      <th>03 !.1</th>\n",
       "      <th>Total.1</th>\n",
       "      <th>№ Games</th>\n",
       "      <th>01 !.2</th>\n",
       "      <th>02 !.2</th>\n",
       "      <th>03 !.2</th>\n",
       "      <th>Combined total</th>\n",
       "    </tr>\n",
       "  </thead>\n",
       "  <tbody>\n",
       "    <tr>\n",
       "      <th>0</th>\n",
       "      <td>Afghanistan (AFG)</td>\n",
       "      <td>13</td>\n",
       "      <td>0</td>\n",
       "      <td>0</td>\n",
       "      <td>2</td>\n",
       "      <td>2</td>\n",
       "      <td>0</td>\n",
       "      <td>0</td>\n",
       "      <td>0</td>\n",
       "      <td>0</td>\n",
       "      <td>0</td>\n",
       "      <td>13</td>\n",
       "      <td>0</td>\n",
       "      <td>0</td>\n",
       "      <td>2</td>\n",
       "      <td>2</td>\n",
       "    </tr>\n",
       "    <tr>\n",
       "      <th>1</th>\n",
       "      <td>Algeria (ALG)</td>\n",
       "      <td>12</td>\n",
       "      <td>5</td>\n",
       "      <td>2</td>\n",
       "      <td>8</td>\n",
       "      <td>15</td>\n",
       "      <td>3</td>\n",
       "      <td>0</td>\n",
       "      <td>0</td>\n",
       "      <td>0</td>\n",
       "      <td>0</td>\n",
       "      <td>15</td>\n",
       "      <td>5</td>\n",
       "      <td>2</td>\n",
       "      <td>8</td>\n",
       "      <td>15</td>\n",
       "    </tr>\n",
       "    <tr>\n",
       "      <th>2</th>\n",
       "      <td>Argentina (ARG)</td>\n",
       "      <td>23</td>\n",
       "      <td>18</td>\n",
       "      <td>24</td>\n",
       "      <td>28</td>\n",
       "      <td>70</td>\n",
       "      <td>18</td>\n",
       "      <td>0</td>\n",
       "      <td>0</td>\n",
       "      <td>0</td>\n",
       "      <td>0</td>\n",
       "      <td>41</td>\n",
       "      <td>18</td>\n",
       "      <td>24</td>\n",
       "      <td>28</td>\n",
       "      <td>70</td>\n",
       "    </tr>\n",
       "    <tr>\n",
       "      <th>3</th>\n",
       "      <td>Armenia (ARM)</td>\n",
       "      <td>5</td>\n",
       "      <td>1</td>\n",
       "      <td>2</td>\n",
       "      <td>9</td>\n",
       "      <td>12</td>\n",
       "      <td>6</td>\n",
       "      <td>0</td>\n",
       "      <td>0</td>\n",
       "      <td>0</td>\n",
       "      <td>0</td>\n",
       "      <td>11</td>\n",
       "      <td>1</td>\n",
       "      <td>2</td>\n",
       "      <td>9</td>\n",
       "      <td>12</td>\n",
       "    </tr>\n",
       "    <tr>\n",
       "      <th>4</th>\n",
       "      <td>Australasia (ANZ) [ANZ]</td>\n",
       "      <td>2</td>\n",
       "      <td>3</td>\n",
       "      <td>4</td>\n",
       "      <td>5</td>\n",
       "      <td>12</td>\n",
       "      <td>0</td>\n",
       "      <td>0</td>\n",
       "      <td>0</td>\n",
       "      <td>0</td>\n",
       "      <td>0</td>\n",
       "      <td>2</td>\n",
       "      <td>3</td>\n",
       "      <td>4</td>\n",
       "      <td>5</td>\n",
       "      <td>12</td>\n",
       "    </tr>\n",
       "  </tbody>\n",
       "</table>\n",
       "</div>"
      ],
      "text/plain": [
       "                Unnamed: 0  № Summer  01 !  02 !  03 !  Total  № Winter  \\\n",
       "0        Afghanistan (AFG)        13     0     0     2      2         0   \n",
       "1            Algeria (ALG)        12     5     2     8     15         3   \n",
       "2          Argentina (ARG)        23    18    24    28     70        18   \n",
       "3            Armenia (ARM)         5     1     2     9     12         6   \n",
       "4  Australasia (ANZ) [ANZ]         2     3     4     5     12         0   \n",
       "\n",
       "   01 !.1  02 !.1  03 !.1  Total.1  № Games  01 !.2  02 !.2  03 !.2  \\\n",
       "0       0       0       0        0       13       0       0       2   \n",
       "1       0       0       0        0       15       5       2       8   \n",
       "2       0       0       0        0       41      18      24      28   \n",
       "3       0       0       0        0       11       1       2       9   \n",
       "4       0       0       0        0        2       3       4       5   \n",
       "\n",
       "   Combined total  \n",
       "0               2  \n",
       "1              15  \n",
       "2              70  \n",
       "3              12  \n",
       "4              12  "
      ]
     },
     "execution_count": 65,
     "metadata": {},
     "output_type": "execute_result"
    }
   ],
   "source": [
    "#위에서 5개의 행 출력\n",
    "df.head()"
   ]
  },
  {
   "cell_type": "code",
   "execution_count": 66,
   "id": "36ccacf8",
   "metadata": {},
   "outputs": [
    {
     "data": {
      "text/html": [
       "<div>\n",
       "<style scoped>\n",
       "    .dataframe tbody tr th:only-of-type {\n",
       "        vertical-align: middle;\n",
       "    }\n",
       "\n",
       "    .dataframe tbody tr th {\n",
       "        vertical-align: top;\n",
       "    }\n",
       "\n",
       "    .dataframe thead th {\n",
       "        text-align: right;\n",
       "    }\n",
       "</style>\n",
       "<table border=\"1\" class=\"dataframe\">\n",
       "  <thead>\n",
       "    <tr style=\"text-align: right;\">\n",
       "      <th></th>\n",
       "      <th>Unnamed: 0</th>\n",
       "      <th>№ Summer</th>\n",
       "      <th>01 !</th>\n",
       "      <th>02 !</th>\n",
       "      <th>03 !</th>\n",
       "      <th>Total</th>\n",
       "      <th>№ Winter</th>\n",
       "      <th>01 !.1</th>\n",
       "      <th>02 !.1</th>\n",
       "      <th>03 !.1</th>\n",
       "      <th>Total.1</th>\n",
       "      <th>№ Games</th>\n",
       "      <th>01 !.2</th>\n",
       "      <th>02 !.2</th>\n",
       "      <th>03 !.2</th>\n",
       "      <th>Combined total</th>\n",
       "    </tr>\n",
       "  </thead>\n",
       "  <tbody>\n",
       "    <tr>\n",
       "      <th>0</th>\n",
       "      <td>Afghanistan (AFG)</td>\n",
       "      <td>13</td>\n",
       "      <td>0</td>\n",
       "      <td>0</td>\n",
       "      <td>2</td>\n",
       "      <td>2</td>\n",
       "      <td>0</td>\n",
       "      <td>0</td>\n",
       "      <td>0</td>\n",
       "      <td>0</td>\n",
       "      <td>0</td>\n",
       "      <td>13</td>\n",
       "      <td>0</td>\n",
       "      <td>0</td>\n",
       "      <td>2</td>\n",
       "      <td>2</td>\n",
       "    </tr>\n",
       "    <tr>\n",
       "      <th>1</th>\n",
       "      <td>Algeria (ALG)</td>\n",
       "      <td>12</td>\n",
       "      <td>5</td>\n",
       "      <td>2</td>\n",
       "      <td>8</td>\n",
       "      <td>15</td>\n",
       "      <td>3</td>\n",
       "      <td>0</td>\n",
       "      <td>0</td>\n",
       "      <td>0</td>\n",
       "      <td>0</td>\n",
       "      <td>15</td>\n",
       "      <td>5</td>\n",
       "      <td>2</td>\n",
       "      <td>8</td>\n",
       "      <td>15</td>\n",
       "    </tr>\n",
       "    <tr>\n",
       "      <th>2</th>\n",
       "      <td>Argentina (ARG)</td>\n",
       "      <td>23</td>\n",
       "      <td>18</td>\n",
       "      <td>24</td>\n",
       "      <td>28</td>\n",
       "      <td>70</td>\n",
       "      <td>18</td>\n",
       "      <td>0</td>\n",
       "      <td>0</td>\n",
       "      <td>0</td>\n",
       "      <td>0</td>\n",
       "      <td>41</td>\n",
       "      <td>18</td>\n",
       "      <td>24</td>\n",
       "      <td>28</td>\n",
       "      <td>70</td>\n",
       "    </tr>\n",
       "    <tr>\n",
       "      <th>3</th>\n",
       "      <td>Armenia (ARM)</td>\n",
       "      <td>5</td>\n",
       "      <td>1</td>\n",
       "      <td>2</td>\n",
       "      <td>9</td>\n",
       "      <td>12</td>\n",
       "      <td>6</td>\n",
       "      <td>0</td>\n",
       "      <td>0</td>\n",
       "      <td>0</td>\n",
       "      <td>0</td>\n",
       "      <td>11</td>\n",
       "      <td>1</td>\n",
       "      <td>2</td>\n",
       "      <td>9</td>\n",
       "      <td>12</td>\n",
       "    </tr>\n",
       "    <tr>\n",
       "      <th>4</th>\n",
       "      <td>Australasia (ANZ) [ANZ]</td>\n",
       "      <td>2</td>\n",
       "      <td>3</td>\n",
       "      <td>4</td>\n",
       "      <td>5</td>\n",
       "      <td>12</td>\n",
       "      <td>0</td>\n",
       "      <td>0</td>\n",
       "      <td>0</td>\n",
       "      <td>0</td>\n",
       "      <td>0</td>\n",
       "      <td>2</td>\n",
       "      <td>3</td>\n",
       "      <td>4</td>\n",
       "      <td>5</td>\n",
       "      <td>12</td>\n",
       "    </tr>\n",
       "    <tr>\n",
       "      <th>5</th>\n",
       "      <td>Australia (AUS) [AUS] [Z]</td>\n",
       "      <td>25</td>\n",
       "      <td>139</td>\n",
       "      <td>152</td>\n",
       "      <td>177</td>\n",
       "      <td>468</td>\n",
       "      <td>18</td>\n",
       "      <td>5</td>\n",
       "      <td>3</td>\n",
       "      <td>4</td>\n",
       "      <td>12</td>\n",
       "      <td>43</td>\n",
       "      <td>144</td>\n",
       "      <td>155</td>\n",
       "      <td>181</td>\n",
       "      <td>480</td>\n",
       "    </tr>\n",
       "    <tr>\n",
       "      <th>6</th>\n",
       "      <td>Austria (AUT)</td>\n",
       "      <td>26</td>\n",
       "      <td>18</td>\n",
       "      <td>33</td>\n",
       "      <td>35</td>\n",
       "      <td>86</td>\n",
       "      <td>22</td>\n",
       "      <td>59</td>\n",
       "      <td>78</td>\n",
       "      <td>81</td>\n",
       "      <td>218</td>\n",
       "      <td>48</td>\n",
       "      <td>77</td>\n",
       "      <td>111</td>\n",
       "      <td>116</td>\n",
       "      <td>304</td>\n",
       "    </tr>\n",
       "    <tr>\n",
       "      <th>7</th>\n",
       "      <td>Azerbaijan (AZE)</td>\n",
       "      <td>5</td>\n",
       "      <td>6</td>\n",
       "      <td>5</td>\n",
       "      <td>15</td>\n",
       "      <td>26</td>\n",
       "      <td>5</td>\n",
       "      <td>0</td>\n",
       "      <td>0</td>\n",
       "      <td>0</td>\n",
       "      <td>0</td>\n",
       "      <td>10</td>\n",
       "      <td>6</td>\n",
       "      <td>5</td>\n",
       "      <td>15</td>\n",
       "      <td>26</td>\n",
       "    </tr>\n",
       "    <tr>\n",
       "      <th>8</th>\n",
       "      <td>Bahamas (BAH)</td>\n",
       "      <td>15</td>\n",
       "      <td>5</td>\n",
       "      <td>2</td>\n",
       "      <td>5</td>\n",
       "      <td>12</td>\n",
       "      <td>0</td>\n",
       "      <td>0</td>\n",
       "      <td>0</td>\n",
       "      <td>0</td>\n",
       "      <td>0</td>\n",
       "      <td>15</td>\n",
       "      <td>5</td>\n",
       "      <td>2</td>\n",
       "      <td>5</td>\n",
       "      <td>12</td>\n",
       "    </tr>\n",
       "    <tr>\n",
       "      <th>9</th>\n",
       "      <td>Bahrain (BRN)</td>\n",
       "      <td>8</td>\n",
       "      <td>0</td>\n",
       "      <td>0</td>\n",
       "      <td>1</td>\n",
       "      <td>1</td>\n",
       "      <td>0</td>\n",
       "      <td>0</td>\n",
       "      <td>0</td>\n",
       "      <td>0</td>\n",
       "      <td>0</td>\n",
       "      <td>8</td>\n",
       "      <td>0</td>\n",
       "      <td>0</td>\n",
       "      <td>1</td>\n",
       "      <td>1</td>\n",
       "    </tr>\n",
       "  </tbody>\n",
       "</table>\n",
       "</div>"
      ],
      "text/plain": [
       "                  Unnamed: 0  № Summer  01 !  02 !  03 !  Total  № Winter  \\\n",
       "0          Afghanistan (AFG)        13     0     0     2      2         0   \n",
       "1              Algeria (ALG)        12     5     2     8     15         3   \n",
       "2            Argentina (ARG)        23    18    24    28     70        18   \n",
       "3              Armenia (ARM)         5     1     2     9     12         6   \n",
       "4    Australasia (ANZ) [ANZ]         2     3     4     5     12         0   \n",
       "5  Australia (AUS) [AUS] [Z]        25   139   152   177    468        18   \n",
       "6              Austria (AUT)        26    18    33    35     86        22   \n",
       "7           Azerbaijan (AZE)         5     6     5    15     26         5   \n",
       "8              Bahamas (BAH)        15     5     2     5     12         0   \n",
       "9              Bahrain (BRN)         8     0     0     1      1         0   \n",
       "\n",
       "   01 !.1  02 !.1  03 !.1  Total.1  № Games  01 !.2  02 !.2  03 !.2  \\\n",
       "0       0       0       0        0       13       0       0       2   \n",
       "1       0       0       0        0       15       5       2       8   \n",
       "2       0       0       0        0       41      18      24      28   \n",
       "3       0       0       0        0       11       1       2       9   \n",
       "4       0       0       0        0        2       3       4       5   \n",
       "5       5       3       4       12       43     144     155     181   \n",
       "6      59      78      81      218       48      77     111     116   \n",
       "7       0       0       0        0       10       6       5      15   \n",
       "8       0       0       0        0       15       5       2       5   \n",
       "9       0       0       0        0        8       0       0       1   \n",
       "\n",
       "   Combined total  \n",
       "0               2  \n",
       "1              15  \n",
       "2              70  \n",
       "3              12  \n",
       "4              12  \n",
       "5             480  \n",
       "6             304  \n",
       "7              26  \n",
       "8              12  \n",
       "9               1  "
      ]
     },
     "execution_count": 66,
     "metadata": {},
     "output_type": "execute_result"
    }
   ],
   "source": [
    "df.head(10) #숫자 지정 가능"
   ]
  },
  {
   "cell_type": "code",
   "execution_count": 67,
   "id": "c01f5e92",
   "metadata": {},
   "outputs": [
    {
     "data": {
      "text/html": [
       "<div>\n",
       "<style scoped>\n",
       "    .dataframe tbody tr th:only-of-type {\n",
       "        vertical-align: middle;\n",
       "    }\n",
       "\n",
       "    .dataframe tbody tr th {\n",
       "        vertical-align: top;\n",
       "    }\n",
       "\n",
       "    .dataframe thead th {\n",
       "        text-align: right;\n",
       "    }\n",
       "</style>\n",
       "<table border=\"1\" class=\"dataframe\">\n",
       "  <thead>\n",
       "    <tr style=\"text-align: right;\">\n",
       "      <th></th>\n",
       "      <th>Unnamed: 0</th>\n",
       "      <th>№ Summer</th>\n",
       "      <th>01 !</th>\n",
       "      <th>02 !</th>\n",
       "      <th>03 !</th>\n",
       "      <th>Total</th>\n",
       "      <th>№ Winter</th>\n",
       "      <th>01 !.1</th>\n",
       "      <th>02 !.1</th>\n",
       "      <th>03 !.1</th>\n",
       "      <th>Total.1</th>\n",
       "      <th>№ Games</th>\n",
       "      <th>01 !.2</th>\n",
       "      <th>02 !.2</th>\n",
       "      <th>03 !.2</th>\n",
       "      <th>Combined total</th>\n",
       "    </tr>\n",
       "  </thead>\n",
       "  <tbody>\n",
       "    <tr>\n",
       "      <th>142</th>\n",
       "      <td>Independent Olympic Participants (IOP) [IOP]</td>\n",
       "      <td>1</td>\n",
       "      <td>0</td>\n",
       "      <td>1</td>\n",
       "      <td>2</td>\n",
       "      <td>3</td>\n",
       "      <td>0</td>\n",
       "      <td>0</td>\n",
       "      <td>0</td>\n",
       "      <td>0</td>\n",
       "      <td>0</td>\n",
       "      <td>1</td>\n",
       "      <td>0</td>\n",
       "      <td>1</td>\n",
       "      <td>2</td>\n",
       "      <td>3</td>\n",
       "    </tr>\n",
       "    <tr>\n",
       "      <th>143</th>\n",
       "      <td>Zambia (ZAM) [ZAM]</td>\n",
       "      <td>12</td>\n",
       "      <td>0</td>\n",
       "      <td>1</td>\n",
       "      <td>1</td>\n",
       "      <td>2</td>\n",
       "      <td>0</td>\n",
       "      <td>0</td>\n",
       "      <td>0</td>\n",
       "      <td>0</td>\n",
       "      <td>0</td>\n",
       "      <td>12</td>\n",
       "      <td>0</td>\n",
       "      <td>1</td>\n",
       "      <td>1</td>\n",
       "      <td>2</td>\n",
       "    </tr>\n",
       "    <tr>\n",
       "      <th>144</th>\n",
       "      <td>Zimbabwe (ZIM) [ZIM]</td>\n",
       "      <td>12</td>\n",
       "      <td>3</td>\n",
       "      <td>4</td>\n",
       "      <td>1</td>\n",
       "      <td>8</td>\n",
       "      <td>1</td>\n",
       "      <td>0</td>\n",
       "      <td>0</td>\n",
       "      <td>0</td>\n",
       "      <td>0</td>\n",
       "      <td>13</td>\n",
       "      <td>3</td>\n",
       "      <td>4</td>\n",
       "      <td>1</td>\n",
       "      <td>8</td>\n",
       "    </tr>\n",
       "    <tr>\n",
       "      <th>145</th>\n",
       "      <td>Mixed team (ZZX) [ZZX]</td>\n",
       "      <td>3</td>\n",
       "      <td>8</td>\n",
       "      <td>5</td>\n",
       "      <td>4</td>\n",
       "      <td>17</td>\n",
       "      <td>0</td>\n",
       "      <td>0</td>\n",
       "      <td>0</td>\n",
       "      <td>0</td>\n",
       "      <td>0</td>\n",
       "      <td>3</td>\n",
       "      <td>8</td>\n",
       "      <td>5</td>\n",
       "      <td>4</td>\n",
       "      <td>17</td>\n",
       "    </tr>\n",
       "    <tr>\n",
       "      <th>146</th>\n",
       "      <td>Totals</td>\n",
       "      <td>27</td>\n",
       "      <td>4809</td>\n",
       "      <td>4775</td>\n",
       "      <td>5130</td>\n",
       "      <td>14714</td>\n",
       "      <td>22</td>\n",
       "      <td>959</td>\n",
       "      <td>958</td>\n",
       "      <td>948</td>\n",
       "      <td>2865</td>\n",
       "      <td>49</td>\n",
       "      <td>5768</td>\n",
       "      <td>5733</td>\n",
       "      <td>6078</td>\n",
       "      <td>17579</td>\n",
       "    </tr>\n",
       "  </tbody>\n",
       "</table>\n",
       "</div>"
      ],
      "text/plain": [
       "                                       Unnamed: 0  № Summer  01 !  02 !  03 !  \\\n",
       "142  Independent Olympic Participants (IOP) [IOP]         1     0     1     2   \n",
       "143                            Zambia (ZAM) [ZAM]        12     0     1     1   \n",
       "144                          Zimbabwe (ZIM) [ZIM]        12     3     4     1   \n",
       "145                        Mixed team (ZZX) [ZZX]         3     8     5     4   \n",
       "146                                        Totals        27  4809  4775  5130   \n",
       "\n",
       "     Total  № Winter  01 !.1  02 !.1  03 !.1  Total.1  № Games  01 !.2  \\\n",
       "142      3         0       0       0       0        0        1       0   \n",
       "143      2         0       0       0       0        0       12       0   \n",
       "144      8         1       0       0       0        0       13       3   \n",
       "145     17         0       0       0       0        0        3       8   \n",
       "146  14714        22     959     958     948     2865       49    5768   \n",
       "\n",
       "     02 !.2  03 !.2  Combined total  \n",
       "142       1       2               3  \n",
       "143       1       1               2  \n",
       "144       4       1               8  \n",
       "145       5       4              17  \n",
       "146    5733    6078           17579  "
      ]
     },
     "execution_count": 67,
     "metadata": {},
     "output_type": "execute_result"
    }
   ],
   "source": [
    "#아래에서 출력\n",
    "df.tail()"
   ]
  },
  {
   "cell_type": "code",
   "execution_count": 69,
   "id": "102cc804",
   "metadata": {},
   "outputs": [],
   "source": [
    "df.drop(index=146,inplace=True)\n",
    "#마지막 행: 전체를 합한 행이므로 삭제"
   ]
  },
  {
   "cell_type": "code",
   "execution_count": 70,
   "id": "5107063e",
   "metadata": {},
   "outputs": [
    {
     "data": {
      "text/plain": [
       "Unnamed: 0        Afghanistan (AFG)Algeria (ALG)Argentina (ARG)A...\n",
       "№ Summer                                                       1954\n",
       "01 !                                                           4809\n",
       "02 !                                                           4775\n",
       "03 !                                                           5130\n",
       "Total                                                         14714\n",
       "№ Winter                                                        963\n",
       "01 !.1                                                          959\n",
       "02 !.1                                                          958\n",
       "03 !.1                                                          948\n",
       "Total.1                                                        2865\n",
       "№ Games                                                        2917\n",
       "01 !.2                                                         5768\n",
       "02 !.2                                                         5733\n",
       "03 !.2                                                         6078\n",
       "Combined total                                                17579\n",
       "dtype: object"
      ]
     },
     "execution_count": 70,
     "metadata": {},
     "output_type": "execute_result"
    }
   ],
   "source": [
    "df.sum()"
   ]
  },
  {
   "cell_type": "code",
   "execution_count": 71,
   "id": "973cdb02",
   "metadata": {},
   "outputs": [
    {
     "name": "stderr",
     "output_type": "stream",
     "text": [
      "/var/folders/dk/3v6dmwm50cd7177yfz7bz0pm0000gn/T/ipykernel_36914/386661471.py:1: FutureWarning: Dropping of nuisance columns in DataFrame reductions (with 'numeric_only=None') is deprecated; in a future version this will raise TypeError.  Select only valid columns before calling the reduction.\n",
      "  df.sum(axis=1) #행기준\n"
     ]
    },
    {
     "data": {
      "text/plain": [
       "0       34\n",
       "1       90\n",
       "2      362\n",
       "3       70\n",
       "4       52\n",
       "      ... \n",
       "141    408\n",
       "142     14\n",
       "143     32\n",
       "144     58\n",
       "145     74\n",
       "Length: 146, dtype: int64"
      ]
     },
     "execution_count": 71,
     "metadata": {},
     "output_type": "execute_result"
    }
   ],
   "source": [
    "df.sum(axis=1) #행기준"
   ]
  },
  {
   "cell_type": "code",
   "execution_count": 72,
   "id": "982c2fdf",
   "metadata": {},
   "outputs": [
    {
     "data": {
      "text/html": [
       "<div>\n",
       "<style scoped>\n",
       "    .dataframe tbody tr th:only-of-type {\n",
       "        vertical-align: middle;\n",
       "    }\n",
       "\n",
       "    .dataframe tbody tr th {\n",
       "        vertical-align: top;\n",
       "    }\n",
       "\n",
       "    .dataframe thead th {\n",
       "        text-align: right;\n",
       "    }\n",
       "</style>\n",
       "<table border=\"1\" class=\"dataframe\">\n",
       "  <thead>\n",
       "    <tr style=\"text-align: right;\">\n",
       "      <th></th>\n",
       "      <th>№ Summer</th>\n",
       "      <th>01 !</th>\n",
       "      <th>02 !</th>\n",
       "      <th>03 !</th>\n",
       "      <th>Total</th>\n",
       "      <th>№ Winter</th>\n",
       "      <th>01 !.1</th>\n",
       "      <th>02 !.1</th>\n",
       "      <th>03 !.1</th>\n",
       "      <th>Total.1</th>\n",
       "      <th>№ Games</th>\n",
       "      <th>01 !.2</th>\n",
       "      <th>02 !.2</th>\n",
       "      <th>03 !.2</th>\n",
       "      <th>Combined total</th>\n",
       "    </tr>\n",
       "  </thead>\n",
       "  <tbody>\n",
       "    <tr>\n",
       "      <th>count</th>\n",
       "      <td>146.000000</td>\n",
       "      <td>146.000000</td>\n",
       "      <td>146.000000</td>\n",
       "      <td>146.000000</td>\n",
       "      <td>146.000000</td>\n",
       "      <td>146.000000</td>\n",
       "      <td>146.000000</td>\n",
       "      <td>146.000000</td>\n",
       "      <td>146.000000</td>\n",
       "      <td>146.000000</td>\n",
       "      <td>146.000000</td>\n",
       "      <td>146.000000</td>\n",
       "      <td>146.000000</td>\n",
       "      <td>146.000000</td>\n",
       "      <td>146.000000</td>\n",
       "    </tr>\n",
       "    <tr>\n",
       "      <th>mean</th>\n",
       "      <td>13.383562</td>\n",
       "      <td>32.938356</td>\n",
       "      <td>32.705479</td>\n",
       "      <td>35.136986</td>\n",
       "      <td>100.780822</td>\n",
       "      <td>6.595890</td>\n",
       "      <td>6.568493</td>\n",
       "      <td>6.561644</td>\n",
       "      <td>6.493151</td>\n",
       "      <td>19.623288</td>\n",
       "      <td>19.979452</td>\n",
       "      <td>39.506849</td>\n",
       "      <td>39.267123</td>\n",
       "      <td>41.630137</td>\n",
       "      <td>120.404110</td>\n",
       "    </tr>\n",
       "    <tr>\n",
       "      <th>std</th>\n",
       "      <td>7.006657</td>\n",
       "      <td>96.745184</td>\n",
       "      <td>80.648421</td>\n",
       "      <td>77.118416</td>\n",
       "      <td>252.700436</td>\n",
       "      <td>7.349012</td>\n",
       "      <td>18.975086</td>\n",
       "      <td>18.606996</td>\n",
       "      <td>17.499654</td>\n",
       "      <td>54.640914</td>\n",
       "      <td>13.084062</td>\n",
       "      <td>109.932471</td>\n",
       "      <td>93.984393</td>\n",
       "      <td>89.826117</td>\n",
       "      <td>291.988913</td>\n",
       "    </tr>\n",
       "    <tr>\n",
       "      <th>min</th>\n",
       "      <td>1.000000</td>\n",
       "      <td>0.000000</td>\n",
       "      <td>0.000000</td>\n",
       "      <td>0.000000</td>\n",
       "      <td>0.000000</td>\n",
       "      <td>0.000000</td>\n",
       "      <td>0.000000</td>\n",
       "      <td>0.000000</td>\n",
       "      <td>0.000000</td>\n",
       "      <td>0.000000</td>\n",
       "      <td>1.000000</td>\n",
       "      <td>0.000000</td>\n",
       "      <td>0.000000</td>\n",
       "      <td>0.000000</td>\n",
       "      <td>1.000000</td>\n",
       "    </tr>\n",
       "    <tr>\n",
       "      <th>25%</th>\n",
       "      <td>8.000000</td>\n",
       "      <td>0.000000</td>\n",
       "      <td>1.000000</td>\n",
       "      <td>1.000000</td>\n",
       "      <td>2.000000</td>\n",
       "      <td>0.000000</td>\n",
       "      <td>0.000000</td>\n",
       "      <td>0.000000</td>\n",
       "      <td>0.000000</td>\n",
       "      <td>0.000000</td>\n",
       "      <td>11.000000</td>\n",
       "      <td>0.000000</td>\n",
       "      <td>1.000000</td>\n",
       "      <td>1.000000</td>\n",
       "      <td>2.250000</td>\n",
       "    </tr>\n",
       "    <tr>\n",
       "      <th>50%</th>\n",
       "      <td>13.000000</td>\n",
       "      <td>3.000000</td>\n",
       "      <td>4.000000</td>\n",
       "      <td>6.000000</td>\n",
       "      <td>12.000000</td>\n",
       "      <td>5.000000</td>\n",
       "      <td>0.000000</td>\n",
       "      <td>0.000000</td>\n",
       "      <td>0.000000</td>\n",
       "      <td>0.000000</td>\n",
       "      <td>15.000000</td>\n",
       "      <td>3.000000</td>\n",
       "      <td>4.000000</td>\n",
       "      <td>6.500000</td>\n",
       "      <td>12.000000</td>\n",
       "    </tr>\n",
       "    <tr>\n",
       "      <th>75%</th>\n",
       "      <td>18.000000</td>\n",
       "      <td>23.000000</td>\n",
       "      <td>26.750000</td>\n",
       "      <td>28.750000</td>\n",
       "      <td>85.250000</td>\n",
       "      <td>10.000000</td>\n",
       "      <td>0.750000</td>\n",
       "      <td>1.750000</td>\n",
       "      <td>1.000000</td>\n",
       "      <td>4.750000</td>\n",
       "      <td>26.000000</td>\n",
       "      <td>24.500000</td>\n",
       "      <td>28.000000</td>\n",
       "      <td>29.000000</td>\n",
       "      <td>87.750000</td>\n",
       "    </tr>\n",
       "    <tr>\n",
       "      <th>max</th>\n",
       "      <td>27.000000</td>\n",
       "      <td>976.000000</td>\n",
       "      <td>757.000000</td>\n",
       "      <td>666.000000</td>\n",
       "      <td>2399.000000</td>\n",
       "      <td>22.000000</td>\n",
       "      <td>118.000000</td>\n",
       "      <td>111.000000</td>\n",
       "      <td>100.000000</td>\n",
       "      <td>329.000000</td>\n",
       "      <td>49.000000</td>\n",
       "      <td>1072.000000</td>\n",
       "      <td>859.000000</td>\n",
       "      <td>750.000000</td>\n",
       "      <td>2681.000000</td>\n",
       "    </tr>\n",
       "  </tbody>\n",
       "</table>\n",
       "</div>"
      ],
      "text/plain": [
       "         № Summer        01 !        02 !        03 !        Total  \\\n",
       "count  146.000000  146.000000  146.000000  146.000000   146.000000   \n",
       "mean    13.383562   32.938356   32.705479   35.136986   100.780822   \n",
       "std      7.006657   96.745184   80.648421   77.118416   252.700436   \n",
       "min      1.000000    0.000000    0.000000    0.000000     0.000000   \n",
       "25%      8.000000    0.000000    1.000000    1.000000     2.000000   \n",
       "50%     13.000000    3.000000    4.000000    6.000000    12.000000   \n",
       "75%     18.000000   23.000000   26.750000   28.750000    85.250000   \n",
       "max     27.000000  976.000000  757.000000  666.000000  2399.000000   \n",
       "\n",
       "         № Winter      01 !.1      02 !.1      03 !.1     Total.1     № Games  \\\n",
       "count  146.000000  146.000000  146.000000  146.000000  146.000000  146.000000   \n",
       "mean     6.595890    6.568493    6.561644    6.493151   19.623288   19.979452   \n",
       "std      7.349012   18.975086   18.606996   17.499654   54.640914   13.084062   \n",
       "min      0.000000    0.000000    0.000000    0.000000    0.000000    1.000000   \n",
       "25%      0.000000    0.000000    0.000000    0.000000    0.000000   11.000000   \n",
       "50%      5.000000    0.000000    0.000000    0.000000    0.000000   15.000000   \n",
       "75%     10.000000    0.750000    1.750000    1.000000    4.750000   26.000000   \n",
       "max     22.000000  118.000000  111.000000  100.000000  329.000000   49.000000   \n",
       "\n",
       "            01 !.2      02 !.2      03 !.2  Combined total  \n",
       "count   146.000000  146.000000  146.000000      146.000000  \n",
       "mean     39.506849   39.267123   41.630137      120.404110  \n",
       "std     109.932471   93.984393   89.826117      291.988913  \n",
       "min       0.000000    0.000000    0.000000        1.000000  \n",
       "25%       0.000000    1.000000    1.000000        2.250000  \n",
       "50%       3.000000    4.000000    6.500000       12.000000  \n",
       "75%      24.500000   28.000000   29.000000       87.750000  \n",
       "max    1072.000000  859.000000  750.000000     2681.000000  "
      ]
     },
     "execution_count": 72,
     "metadata": {},
     "output_type": "execute_result"
    }
   ],
   "source": [
    "df.describe()\n",
    "#여러 지표 제공\n",
    "#count: sum과 다름, 단순한 갯수 세기"
   ]
  },
  {
   "cell_type": "code",
   "execution_count": 74,
   "id": "e8106019",
   "metadata": {},
   "outputs": [],
   "source": [
    "#열이름 변경\n",
    "df.rename(columns={'Unnamed: 0':'Team',\n",
    "                  '№ Summer':'Summer','01 !':'01_S',\n",
    "                  '02 !':'02_S','03 !':'03_S', 'Total':'Total_S',\n",
    "                  '№ Winter':'Winter','01 !.1':'01_W',\n",
    "                  '02 !.1':'02_W','03 !.1':'03_W', 'Total.1':'Total_W',\n",
    "                  '№ Games':'Combined','01 !.2':'01_C',\n",
    "                  '02 !.2':'02_C','03 !.2':'03_C',\n",
    "                   'Combined total':'Total_c'},inplace=True)"
   ]
  },
  {
   "cell_type": "code",
   "execution_count": 75,
   "id": "e1688908",
   "metadata": {},
   "outputs": [
    {
     "data": {
      "text/plain": [
       "Team        Afghanistan (AFG)\n",
       "Summer                     13\n",
       "01_S                        0\n",
       "02_S                        0\n",
       "03_S                        2\n",
       "Total_S                     2\n",
       "Winter                      0\n",
       "01_W                        0\n",
       "02_W                        0\n",
       "03_W                        0\n",
       "Total_W                     0\n",
       "Combined                   13\n",
       "01_C                        0\n",
       "02_C                        0\n",
       "03_C                        2\n",
       "Total_c                     2\n",
       "Name: 0, dtype: object"
      ]
     },
     "execution_count": 75,
     "metadata": {},
     "output_type": "execute_result"
    }
   ],
   "source": [
    "df.iloc[0,:]"
   ]
  },
  {
   "cell_type": "code",
   "execution_count": 78,
   "id": "96d26388",
   "metadata": {},
   "outputs": [
    {
     "data": {
      "text/html": [
       "<div>\n",
       "<style scoped>\n",
       "    .dataframe tbody tr th:only-of-type {\n",
       "        vertical-align: middle;\n",
       "    }\n",
       "\n",
       "    .dataframe tbody tr th {\n",
       "        vertical-align: top;\n",
       "    }\n",
       "\n",
       "    .dataframe thead th {\n",
       "        text-align: right;\n",
       "    }\n",
       "</style>\n",
       "<table border=\"1\" class=\"dataframe\">\n",
       "  <thead>\n",
       "    <tr style=\"text-align: right;\">\n",
       "      <th></th>\n",
       "      <th>Team</th>\n",
       "      <th>Summer</th>\n",
       "      <th>01_S</th>\n",
       "      <th>02_S</th>\n",
       "      <th>03_S</th>\n",
       "      <th>Total_S</th>\n",
       "      <th>Winter</th>\n",
       "      <th>01_W</th>\n",
       "      <th>02_W</th>\n",
       "      <th>03_W</th>\n",
       "      <th>Total_W</th>\n",
       "      <th>Combined</th>\n",
       "      <th>01_C</th>\n",
       "      <th>02_C</th>\n",
       "      <th>03_C</th>\n",
       "      <th>Total_c</th>\n",
       "    </tr>\n",
       "  </thead>\n",
       "  <tbody>\n",
       "    <tr>\n",
       "      <th>135</th>\n",
       "      <td>United States (USA) [P] [Q] [R] [Z]</td>\n",
       "      <td>26</td>\n",
       "      <td>976</td>\n",
       "      <td>757</td>\n",
       "      <td>666</td>\n",
       "      <td>2399</td>\n",
       "      <td>22</td>\n",
       "      <td>96</td>\n",
       "      <td>102</td>\n",
       "      <td>84</td>\n",
       "      <td>282</td>\n",
       "      <td>48</td>\n",
       "      <td>1072</td>\n",
       "      <td>859</td>\n",
       "      <td>750</td>\n",
       "      <td>2681</td>\n",
       "    </tr>\n",
       "  </tbody>\n",
       "</table>\n",
       "</div>"
      ],
      "text/plain": [
       "                                    Team  Summer  01_S  02_S  03_S  Total_S  \\\n",
       "135  United States (USA) [P] [Q] [R] [Z]      26   976   757   666     2399   \n",
       "\n",
       "     Winter  01_W  02_W  03_W  Total_W  Combined  01_C  02_C  03_C  Total_c  \n",
       "135      22    96   102    84      282        48  1072   859   750     2681  "
      ]
     },
     "execution_count": 78,
     "metadata": {},
     "output_type": "execute_result"
    }
   ],
   "source": [
    "#'01_s' 값이 최대인 행 출력\n",
    "df[df['01_S']==df['01_S'].max()]"
   ]
  },
  {
   "cell_type": "code",
   "execution_count": 79,
   "id": "5022e8dc",
   "metadata": {},
   "outputs": [
    {
     "data": {
      "text/html": [
       "<div>\n",
       "<style scoped>\n",
       "    .dataframe tbody tr th:only-of-type {\n",
       "        vertical-align: middle;\n",
       "    }\n",
       "\n",
       "    .dataframe tbody tr th {\n",
       "        vertical-align: top;\n",
       "    }\n",
       "\n",
       "    .dataframe thead th {\n",
       "        text-align: right;\n",
       "    }\n",
       "</style>\n",
       "<table border=\"1\" class=\"dataframe\">\n",
       "  <thead>\n",
       "    <tr style=\"text-align: right;\">\n",
       "      <th></th>\n",
       "      <th>Team</th>\n",
       "      <th>Summer</th>\n",
       "      <th>01_S</th>\n",
       "      <th>02_S</th>\n",
       "      <th>03_S</th>\n",
       "      <th>Total_S</th>\n",
       "      <th>Winter</th>\n",
       "      <th>01_W</th>\n",
       "      <th>02_W</th>\n",
       "      <th>03_W</th>\n",
       "      <th>Total_W</th>\n",
       "      <th>Combined</th>\n",
       "      <th>01_C</th>\n",
       "      <th>02_C</th>\n",
       "      <th>03_C</th>\n",
       "      <th>Total_c</th>\n",
       "    </tr>\n",
       "  </thead>\n",
       "  <tbody>\n",
       "    <tr>\n",
       "      <th>106</th>\n",
       "      <td>Soviet Union (URS) [URS]</td>\n",
       "      <td>9</td>\n",
       "      <td>395</td>\n",
       "      <td>319</td>\n",
       "      <td>296</td>\n",
       "      <td>1010</td>\n",
       "      <td>9</td>\n",
       "      <td>78</td>\n",
       "      <td>57</td>\n",
       "      <td>59</td>\n",
       "      <td>194</td>\n",
       "      <td>18</td>\n",
       "      <td>473</td>\n",
       "      <td>376</td>\n",
       "      <td>355</td>\n",
       "      <td>1204</td>\n",
       "    </tr>\n",
       "    <tr>\n",
       "      <th>135</th>\n",
       "      <td>United States (USA) [P] [Q] [R] [Z]</td>\n",
       "      <td>26</td>\n",
       "      <td>976</td>\n",
       "      <td>757</td>\n",
       "      <td>666</td>\n",
       "      <td>2399</td>\n",
       "      <td>22</td>\n",
       "      <td>96</td>\n",
       "      <td>102</td>\n",
       "      <td>84</td>\n",
       "      <td>282</td>\n",
       "      <td>48</td>\n",
       "      <td>1072</td>\n",
       "      <td>859</td>\n",
       "      <td>750</td>\n",
       "      <td>2681</td>\n",
       "    </tr>\n",
       "  </tbody>\n",
       "</table>\n",
       "</div>"
      ],
      "text/plain": [
       "                                    Team  Summer  01_S  02_S  03_S  Total_S  \\\n",
       "106             Soviet Union (URS) [URS]       9   395   319   296     1010   \n",
       "135  United States (USA) [P] [Q] [R] [Z]      26   976   757   666     2399   \n",
       "\n",
       "     Winter  01_W  02_W  03_W  Total_W  Combined  01_C  02_C  03_C  Total_c  \n",
       "106       9    78    57    59      194        18   473   376   355     1204  \n",
       "135      22    96   102    84      282        48  1072   859   750     2681  "
      ]
     },
     "execution_count": 79,
     "metadata": {},
     "output_type": "execute_result"
    }
   ],
   "source": [
    "#조건에 맞는 행 출력\n",
    "df[(df['01_S']>0)&(df['01_C']>300)]"
   ]
  },
  {
   "cell_type": "code",
   "execution_count": null,
   "id": "348a3141",
   "metadata": {},
   "outputs": [],
   "source": []
  }
 ],
 "metadata": {
  "kernelspec": {
   "display_name": "Python 3 (ipykernel)",
   "language": "python",
   "name": "python3"
  },
  "language_info": {
   "codemirror_mode": {
    "name": "ipython",
    "version": 3
   },
   "file_extension": ".py",
   "mimetype": "text/x-python",
   "name": "python",
   "nbconvert_exporter": "python",
   "pygments_lexer": "ipython3",
   "version": "3.9.12"
  }
 },
 "nbformat": 4,
 "nbformat_minor": 5
}
