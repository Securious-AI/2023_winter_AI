{
 "cells": [
  {
   "cell_type": "markdown",
   "id": "6bca966a",
   "metadata": {},
   "source": [
    "## 1. Pandas(판다스 기초 개념)"
   ]
  },
  {
   "cell_type": "markdown",
   "id": "a63325e1",
   "metadata": {},
   "source": [
    "### 데이터 구조 \n",
    "1. 비정형 데이터: 형태가 정의되지 않았다는 것을 의미함. 정형데이터로 만들어야 모델 생성할 때 사요할 수 있음\n",
    "2. 정형 데이터\n",
    "ex)  학교 에있는 학생 데이터를 사용하려고 할 때, 학번, 이름, 학부, 학년, 전화번호, 주소 등의 데이터가 있을 수 있음.  ⇒ 정해진 데이터가 존재함 "
   ]
  },
  {
   "cell_type": "markdown",
   "id": "82853347",
   "metadata": {},
   "source": [
    "### Numpy(넘파이)\n",
    "- 수학 및 과학 연산을 위한 파이썬 패키지 "
   ]
  },
  {
   "cell_type": "code",
   "execution_count": 13,
   "id": "7fea9fdb",
   "metadata": {},
   "outputs": [],
   "source": [
    "import numpy as np"
   ]
  },
  {
   "cell_type": "markdown",
   "id": "027a6973",
   "metadata": {},
   "source": [
    "### Pandas(판다스)\n",
    "- 파이썬 데이터 처리를 위한 데이터 분석 라이브러리"
   ]
  },
  {
   "cell_type": "code",
   "execution_count": 5,
   "id": "1dd03df6",
   "metadata": {},
   "outputs": [],
   "source": [
    "import pandas as pd #판다스 모듈을 불러오는 수식 pandas 를 pd라고 부르겠다"
   ]
  },
  {
   "cell_type": "markdown",
   "id": "7638f9a3",
   "metadata": {},
   "source": [
    "### Series(시리즈)\n",
    "- single row 또는 single column을 의미함 \n",
    "- 1차원 배열의 자료구조"
   ]
  },
  {
   "cell_type": "markdown",
   "id": "d84e1525",
   "metadata": {},
   "source": [
    "#### [Series 만드는 방법]"
   ]
  },
  {
   "cell_type": "markdown",
   "id": "37b187d1",
   "metadata": {},
   "source": [
    "#### 1) 파이썬 list를 series로 변환"
   ]
  },
  {
   "cell_type": "code",
   "execution_count": 8,
   "id": "79e746e9",
   "metadata": {},
   "outputs": [
    {
     "data": {
      "text/plain": [
       "0    홍길동\n",
       "1    김수진\n",
       "2    김철수\n",
       "dtype: object"
      ]
     },
     "execution_count": 8,
     "metadata": {},
     "output_type": "execute_result"
    }
   ],
   "source": [
    "customer = ['홍길동', '김수진', '김철수']\n",
    "pd.Series(customer)"
   ]
  },
  {
   "cell_type": "code",
   "execution_count": 9,
   "id": "2d77f389",
   "metadata": {},
   "outputs": [
    {
     "data": {
      "text/plain": [
       "0    1\n",
       "1    2\n",
       "2    3\n",
       "dtype: int64"
      ]
     },
     "execution_count": 9,
     "metadata": {},
     "output_type": "execute_result"
    }
   ],
   "source": [
    "numbers = [1,2,3]\n",
    "pd.Series(numbers)"
   ]
  },
  {
   "cell_type": "markdown",
   "id": "4d884478",
   "metadata": {},
   "source": [
    "##### 2) 파이썬 딕셔너리 타입을 series로 변환"
   ]
  },
  {
   "cell_type": "code",
   "execution_count": 10,
   "id": "3f4be15c",
   "metadata": {},
   "outputs": [
    {
     "data": {
      "text/plain": [
       "10001    홍인표\n",
       "10002    김학동\n",
       "10003    안은영\n",
       "10004    고길동\n",
       "dtype: object"
      ]
     },
     "execution_count": 10,
     "metadata": {},
     "output_type": "execute_result"
    }
   ],
   "source": [
    "customer_no_name = {'10001':'홍인표', '10002':'김학동', '10003':'안은영', '10004':'고길동'}\n",
    "cust_info = pd.Series(customer_no_name)\n",
    "cust_info"
   ]
  },
  {
   "cell_type": "code",
   "execution_count": 11,
   "id": "5c2f01d6",
   "metadata": {},
   "outputs": [
    {
     "data": {
      "text/plain": [
       "Index(['10001', '10002', '10003', '10004'], dtype='object')"
      ]
     },
     "execution_count": 11,
     "metadata": {},
     "output_type": "execute_result"
    }
   ],
   "source": [
    "cust_info.index #.index는 해당 series의 index 확인할 수 있음 "
   ]
  },
  {
   "cell_type": "markdown",
   "id": "7c83090f",
   "metadata": {},
   "source": [
    "#### 3) 직접 series와 index 하나하나 쓰기 "
   ]
  },
  {
   "cell_type": "code",
   "execution_count": 6,
   "id": "b29f956c",
   "metadata": {},
   "outputs": [
    {
     "data": {
      "text/plain": [
       "10001    홍길동\n",
       "10002    김수진\n",
       "10003    김철수\n",
       "dtype: object"
      ]
     },
     "execution_count": 6,
     "metadata": {},
     "output_type": "execute_result"
    }
   ],
   "source": [
    "customer = pd.Series(['홍길동', '김수진', '김철수'], index=['10001', '10002', '10003'])\n",
    "customer"
   ]
  },
  {
   "cell_type": "markdown",
   "id": "771dd2f3",
   "metadata": {},
   "source": [
    "### DataFrame(데이터 프레임)\n",
    "- 데이터를 표의 형태로 처리할 수 있는 자료구조"
   ]
  },
  {
   "cell_type": "markdown",
   "id": "57acfdad",
   "metadata": {},
   "source": [
    "#### 1) 파이썬 list 이용하여 DataFrame만들기"
   ]
  },
  {
   "cell_type": "code",
   "execution_count": 19,
   "id": "d240ece5",
   "metadata": {},
   "outputs": [],
   "source": [
    "customer_1 = pd.Series({'Name':'홍길동', 'phone_no':'01011112222', '1Q_point':'90'}) #시리즈\n",
    "customer_2 = pd.Series({'Name':'김수진', 'phone_no':'01012341234', '1Q_point':'70'}) #시리즈\n",
    "customer_3 = pd.Series({'Name':'홍길동', 'phone_no':'01099998888', '1Q_point':'22.5'}) #시리즈\n",
    "df = pd.DataFrame([customer_1, customer_2, customer_3]) #시리즈 3개를 df라는 이름의 데이터 프레임으로 바꾸기"
   ]
  },
  {
   "cell_type": "code",
   "execution_count": 20,
   "id": "7fc17f67",
   "metadata": {},
   "outputs": [
    {
     "data": {
      "text/html": [
       "<div>\n",
       "<style scoped>\n",
       "    .dataframe tbody tr th:only-of-type {\n",
       "        vertical-align: middle;\n",
       "    }\n",
       "\n",
       "    .dataframe tbody tr th {\n",
       "        vertical-align: top;\n",
       "    }\n",
       "\n",
       "    .dataframe thead th {\n",
       "        text-align: right;\n",
       "    }\n",
       "</style>\n",
       "<table border=\"1\" class=\"dataframe\">\n",
       "  <thead>\n",
       "    <tr style=\"text-align: right;\">\n",
       "      <th></th>\n",
       "      <th>Name</th>\n",
       "      <th>phone_no</th>\n",
       "      <th>1Q_point</th>\n",
       "    </tr>\n",
       "  </thead>\n",
       "  <tbody>\n",
       "    <tr>\n",
       "      <th>0</th>\n",
       "      <td>홍길동</td>\n",
       "      <td>01011112222</td>\n",
       "      <td>90</td>\n",
       "    </tr>\n",
       "    <tr>\n",
       "      <th>1</th>\n",
       "      <td>김수진</td>\n",
       "      <td>01012341234</td>\n",
       "      <td>70</td>\n",
       "    </tr>\n",
       "    <tr>\n",
       "      <th>2</th>\n",
       "      <td>홍길동</td>\n",
       "      <td>01099998888</td>\n",
       "      <td>22.5</td>\n",
       "    </tr>\n",
       "  </tbody>\n",
       "</table>\n",
       "</div>"
      ],
      "text/plain": [
       "  Name     phone_no 1Q_point\n",
       "0  홍길동  01011112222       90\n",
       "1  김수진  01012341234       70\n",
       "2  홍길동  01099998888     22.5"
      ]
     },
     "execution_count": 20,
     "metadata": {},
     "output_type": "execute_result"
    }
   ],
   "source": [
    "df #데이터 프레임 확인하기 "
   ]
  },
  {
   "cell_type": "code",
   "execution_count": 21,
   "id": "37e4ee80",
   "metadata": {},
   "outputs": [
    {
     "data": {
      "text/plain": [
       "RangeIndex(start=0, stop=3, step=1)"
      ]
     },
     "execution_count": 21,
     "metadata": {},
     "output_type": "execute_result"
    }
   ],
   "source": [
    "df.index #index값 주지 않았으므로 0부터 3그리고 1씩 증가"
   ]
  },
  {
   "cell_type": "markdown",
   "id": "9c2d7127",
   "metadata": {},
   "source": [
    "#### df에 새로운 index 붙여주기"
   ]
  },
  {
   "cell_type": "code",
   "execution_count": 45,
   "id": "dddac0f9",
   "metadata": {},
   "outputs": [
    {
     "data": {
      "text/html": [
       "<div>\n",
       "<style scoped>\n",
       "    .dataframe tbody tr th:only-of-type {\n",
       "        vertical-align: middle;\n",
       "    }\n",
       "\n",
       "    .dataframe tbody tr th {\n",
       "        vertical-align: top;\n",
       "    }\n",
       "\n",
       "    .dataframe thead th {\n",
       "        text-align: right;\n",
       "    }\n",
       "</style>\n",
       "<table border=\"1\" class=\"dataframe\">\n",
       "  <thead>\n",
       "    <tr style=\"text-align: right;\">\n",
       "      <th></th>\n",
       "      <th>Name</th>\n",
       "      <th>phone_no</th>\n",
       "      <th>1Q_point</th>\n",
       "    </tr>\n",
       "  </thead>\n",
       "  <tbody>\n",
       "    <tr>\n",
       "      <th>10001</th>\n",
       "      <td>홍길동</td>\n",
       "      <td>01011112222</td>\n",
       "      <td>90</td>\n",
       "    </tr>\n",
       "    <tr>\n",
       "      <th>10002</th>\n",
       "      <td>김수진</td>\n",
       "      <td>01012341234</td>\n",
       "      <td>70</td>\n",
       "    </tr>\n",
       "    <tr>\n",
       "      <th>10003</th>\n",
       "      <td>홍길동</td>\n",
       "      <td>01099998888</td>\n",
       "      <td>22.5</td>\n",
       "    </tr>\n",
       "  </tbody>\n",
       "</table>\n",
       "</div>"
      ],
      "text/plain": [
       "      Name     phone_no 1Q_point\n",
       "10001  홍길동  01011112222       90\n",
       "10002  김수진  01012341234       70\n",
       "10003  홍길동  01099998888     22.5"
      ]
     },
     "execution_count": 45,
     "metadata": {},
     "output_type": "execute_result"
    }
   ],
   "source": [
    "df = pd.DataFrame([customer_1, customer_2, customer_3], index=['10001', '10002','10003'])\n",
    "df"
   ]
  },
  {
   "cell_type": "markdown",
   "id": "fb56baba",
   "metadata": {},
   "source": [
    "#### Row(행), Column(열)\n",
    "- Column(열): 데이터의 성격, 데이터의 속성 \n",
    "- row(행): 데이터 "
   ]
  },
  {
   "cell_type": "code",
   "execution_count": 46,
   "id": "3facaf8c",
   "metadata": {},
   "outputs": [
    {
     "data": {
      "text/html": [
       "<div>\n",
       "<style scoped>\n",
       "    .dataframe tbody tr th:only-of-type {\n",
       "        vertical-align: middle;\n",
       "    }\n",
       "\n",
       "    .dataframe tbody tr th {\n",
       "        vertical-align: top;\n",
       "    }\n",
       "\n",
       "    .dataframe thead th {\n",
       "        text-align: right;\n",
       "    }\n",
       "</style>\n",
       "<table border=\"1\" class=\"dataframe\">\n",
       "  <thead>\n",
       "    <tr style=\"text-align: right;\">\n",
       "      <th></th>\n",
       "      <th>Name</th>\n",
       "      <th>phone_no</th>\n",
       "      <th>1Q_point</th>\n",
       "    </tr>\n",
       "  </thead>\n",
       "  <tbody>\n",
       "    <tr>\n",
       "      <th>10001</th>\n",
       "      <td>홍길동</td>\n",
       "      <td>01011112222</td>\n",
       "      <td>90</td>\n",
       "    </tr>\n",
       "    <tr>\n",
       "      <th>10002</th>\n",
       "      <td>김수진</td>\n",
       "      <td>01012341234</td>\n",
       "      <td>70</td>\n",
       "    </tr>\n",
       "    <tr>\n",
       "      <th>10003</th>\n",
       "      <td>홍길동</td>\n",
       "      <td>01099998888</td>\n",
       "      <td>22.5</td>\n",
       "    </tr>\n",
       "  </tbody>\n",
       "</table>\n",
       "</div>"
      ],
      "text/plain": [
       "      Name     phone_no 1Q_point\n",
       "10001  홍길동  01011112222       90\n",
       "10002  김수진  01012341234       70\n",
       "10003  홍길동  01099998888     22.5"
      ]
     },
     "execution_count": 46,
     "metadata": {},
     "output_type": "execute_result"
    }
   ],
   "source": [
    "df"
   ]
  },
  {
   "cell_type": "markdown",
   "id": "312653b5",
   "metadata": {},
   "source": [
    "- Name, phone_no, 1Q_point와 같이 데이터 속성을 나타내는 가로 값을 열이라고 함 \n",
    "- 홍길동, 김수진, 90, 70 등과 같이 데이터 자체의 세로 값을 행이라고 함"
   ]
  },
  {
   "cell_type": "markdown",
   "id": "2dd3411d",
   "metadata": {},
   "source": [
    "### df 다루기/ 다양한 내재 함수 배우기"
   ]
  },
  {
   "cell_type": "code",
   "execution_count": 47,
   "id": "134e9076",
   "metadata": {},
   "outputs": [
    {
     "data": {
      "text/html": [
       "<div>\n",
       "<style scoped>\n",
       "    .dataframe tbody tr th:only-of-type {\n",
       "        vertical-align: middle;\n",
       "    }\n",
       "\n",
       "    .dataframe tbody tr th {\n",
       "        vertical-align: top;\n",
       "    }\n",
       "\n",
       "    .dataframe thead th {\n",
       "        text-align: right;\n",
       "    }\n",
       "</style>\n",
       "<table border=\"1\" class=\"dataframe\">\n",
       "  <thead>\n",
       "    <tr style=\"text-align: right;\">\n",
       "      <th></th>\n",
       "      <th>Name</th>\n",
       "      <th>phone_no</th>\n",
       "      <th>1Q_point</th>\n",
       "    </tr>\n",
       "  </thead>\n",
       "  <tbody>\n",
       "    <tr>\n",
       "      <th>10001</th>\n",
       "      <td>홍길동</td>\n",
       "      <td>01011112222</td>\n",
       "      <td>90</td>\n",
       "    </tr>\n",
       "    <tr>\n",
       "      <th>10002</th>\n",
       "      <td>김수진</td>\n",
       "      <td>01012341234</td>\n",
       "      <td>70</td>\n",
       "    </tr>\n",
       "    <tr>\n",
       "      <th>10003</th>\n",
       "      <td>홍길동</td>\n",
       "      <td>01099998888</td>\n",
       "      <td>22.5</td>\n",
       "    </tr>\n",
       "  </tbody>\n",
       "</table>\n",
       "</div>"
      ],
      "text/plain": [
       "      Name     phone_no 1Q_point\n",
       "10001  홍길동  01011112222       90\n",
       "10002  김수진  01012341234       70\n",
       "10003  홍길동  01099998888     22.5"
      ]
     },
     "execution_count": 47,
     "metadata": {},
     "output_type": "execute_result"
    }
   ],
   "source": [
    "df"
   ]
  },
  {
   "cell_type": "markdown",
   "id": "1356bbb8",
   "metadata": {},
   "source": [
    "#### 1) iloc : 행이나 칼럼의 순서를 나타내는 정수로 특정 값을 추출"
   ]
  },
  {
   "cell_type": "markdown",
   "id": "512437c4",
   "metadata": {},
   "source": [
    "- df.iloc[행 인덱스, 열 인덱스]"
   ]
  },
  {
   "cell_type": "code",
   "execution_count": 48,
   "id": "9530bb4d",
   "metadata": {},
   "outputs": [
    {
     "data": {
      "text/plain": [
       "Name                홍길동\n",
       "phone_no    01011112222\n",
       "1Q_point             90\n",
       "Name: 10001, dtype: object"
      ]
     },
     "execution_count": 48,
     "metadata": {},
     "output_type": "execute_result"
    }
   ],
   "source": [
    "df.iloc[0] #0번째 행 추출"
   ]
  },
  {
   "cell_type": "code",
   "execution_count": 49,
   "id": "6b9d071b",
   "metadata": {},
   "outputs": [
    {
     "data": {
      "text/plain": [
       "'01011112222'"
      ]
     },
     "execution_count": 49,
     "metadata": {},
     "output_type": "execute_result"
    }
   ],
   "source": [
    "df.iloc[0,1] #0번째 행, 1번째 열만 추출"
   ]
  },
  {
   "cell_type": "code",
   "execution_count": 50,
   "id": "2b8cea91",
   "metadata": {},
   "outputs": [
    {
     "data": {
      "text/html": [
       "<div>\n",
       "<style scoped>\n",
       "    .dataframe tbody tr th:only-of-type {\n",
       "        vertical-align: middle;\n",
       "    }\n",
       "\n",
       "    .dataframe tbody tr th {\n",
       "        vertical-align: top;\n",
       "    }\n",
       "\n",
       "    .dataframe thead th {\n",
       "        text-align: right;\n",
       "    }\n",
       "</style>\n",
       "<table border=\"1\" class=\"dataframe\">\n",
       "  <thead>\n",
       "    <tr style=\"text-align: right;\">\n",
       "      <th></th>\n",
       "      <th>Name</th>\n",
       "      <th>phone_no</th>\n",
       "    </tr>\n",
       "  </thead>\n",
       "  <tbody>\n",
       "    <tr>\n",
       "      <th>10001</th>\n",
       "      <td>홍길동</td>\n",
       "      <td>01011112222</td>\n",
       "    </tr>\n",
       "    <tr>\n",
       "      <th>10002</th>\n",
       "      <td>김수진</td>\n",
       "      <td>01012341234</td>\n",
       "    </tr>\n",
       "  </tbody>\n",
       "</table>\n",
       "</div>"
      ],
      "text/plain": [
       "      Name     phone_no\n",
       "10001  홍길동  01011112222\n",
       "10002  김수진  01012341234"
      ]
     },
     "execution_count": 50,
     "metadata": {},
     "output_type": "execute_result"
    }
   ],
   "source": [
    "df.iloc[:2,:2] #2번행까지, 2번 열까지만 추출"
   ]
  },
  {
   "cell_type": "markdown",
   "id": "fd3f22fb",
   "metadata": {},
   "source": [
    "#### 2) loc: 사람이 읽을 수 있는 라벨 값으로 특정 값을 추출"
   ]
  },
  {
   "cell_type": "markdown",
   "id": "7e2c0d16",
   "metadata": {},
   "source": [
    "- df.loc[행 인덱싱 값, 열 인덱싱 값]\n",
    "- loc[]에 하나의 값만 입력하면 그에 해당되는 하나의 행만 뽑아 온다"
   ]
  },
  {
   "cell_type": "code",
   "execution_count": 55,
   "id": "6f1aab0f",
   "metadata": {},
   "outputs": [
    {
     "data": {
      "text/plain": [
       "Name                홍길동\n",
       "phone_no    01011112222\n",
       "1Q_point             90\n",
       "Name: 10001, dtype: object"
      ]
     },
     "execution_count": 55,
     "metadata": {},
     "output_type": "execute_result"
    }
   ],
   "source": [
    "df.loc['10001'] #10001번 인덱스 행"
   ]
  },
  {
   "cell_type": "code",
   "execution_count": 54,
   "id": "1a8d1af7",
   "metadata": {},
   "outputs": [
    {
     "data": {
      "text/plain": [
       "'홍길동'"
      ]
     },
     "execution_count": 54,
     "metadata": {},
     "output_type": "execute_result"
    }
   ],
   "source": [
    "df.loc['10001','Name'] #100001 번 행 값 중 'Name'이라는 열의 값만 추출"
   ]
  },
  {
   "cell_type": "code",
   "execution_count": 35,
   "id": "bc13af69",
   "metadata": {},
   "outputs": [
    {
     "data": {
      "text/plain": [
       "0    홍길동\n",
       "1    김수진\n",
       "2    홍길동\n",
       "Name: Name, dtype: object"
      ]
     },
     "execution_count": 35,
     "metadata": {},
     "output_type": "execute_result"
    }
   ],
   "source": [
    "df['Name'] #loc을 사용하지 않아도 해당 데이터 프레임['열 이름']치면 값을 추출할 수 있다"
   ]
  },
  {
   "cell_type": "code",
   "execution_count": 36,
   "id": "90a40ad4",
   "metadata": {},
   "outputs": [
    {
     "data": {
      "text/html": [
       "<div>\n",
       "<style scoped>\n",
       "    .dataframe tbody tr th:only-of-type {\n",
       "        vertical-align: middle;\n",
       "    }\n",
       "\n",
       "    .dataframe tbody tr th {\n",
       "        vertical-align: top;\n",
       "    }\n",
       "\n",
       "    .dataframe thead th {\n",
       "        text-align: right;\n",
       "    }\n",
       "</style>\n",
       "<table border=\"1\" class=\"dataframe\">\n",
       "  <thead>\n",
       "    <tr style=\"text-align: right;\">\n",
       "      <th></th>\n",
       "      <th>Name</th>\n",
       "    </tr>\n",
       "  </thead>\n",
       "  <tbody>\n",
       "    <tr>\n",
       "      <th>0</th>\n",
       "      <td>홍길동</td>\n",
       "    </tr>\n",
       "    <tr>\n",
       "      <th>1</th>\n",
       "      <td>김수진</td>\n",
       "    </tr>\n",
       "    <tr>\n",
       "      <th>2</th>\n",
       "      <td>홍길동</td>\n",
       "    </tr>\n",
       "  </tbody>\n",
       "</table>\n",
       "</div>"
      ],
      "text/plain": [
       "  Name\n",
       "0  홍길동\n",
       "1  김수진\n",
       "2  홍길동"
      ]
     },
     "execution_count": 36,
     "metadata": {},
     "output_type": "execute_result"
    }
   ],
   "source": [
    "df[['Name']] #데이터프레임으로 "
   ]
  },
  {
   "cell_type": "code",
   "execution_count": 37,
   "id": "bc6c403d",
   "metadata": {},
   "outputs": [
    {
     "data": {
      "text/plain": [
       "0     True\n",
       "1    False\n",
       "2     True\n",
       "Name: Name, dtype: bool"
      ]
     },
     "execution_count": 37,
     "metadata": {},
     "output_type": "execute_result"
    }
   ],
   "source": [
    "df['Name']=='홍길동' #data가 나오는게 아니라 T/F 값으로 나옴 "
   ]
  },
  {
   "cell_type": "code",
   "execution_count": 38,
   "id": "0eeb8297",
   "metadata": {},
   "outputs": [
    {
     "data": {
      "text/html": [
       "<div>\n",
       "<style scoped>\n",
       "    .dataframe tbody tr th:only-of-type {\n",
       "        vertical-align: middle;\n",
       "    }\n",
       "\n",
       "    .dataframe tbody tr th {\n",
       "        vertical-align: top;\n",
       "    }\n",
       "\n",
       "    .dataframe thead th {\n",
       "        text-align: right;\n",
       "    }\n",
       "</style>\n",
       "<table border=\"1\" class=\"dataframe\">\n",
       "  <thead>\n",
       "    <tr style=\"text-align: right;\">\n",
       "      <th></th>\n",
       "      <th>Name</th>\n",
       "      <th>phone_no</th>\n",
       "      <th>1Q_point</th>\n",
       "    </tr>\n",
       "  </thead>\n",
       "  <tbody>\n",
       "    <tr>\n",
       "      <th>0</th>\n",
       "      <td>홍길동</td>\n",
       "      <td>01011112222</td>\n",
       "      <td>90</td>\n",
       "    </tr>\n",
       "    <tr>\n",
       "      <th>2</th>\n",
       "      <td>홍길동</td>\n",
       "      <td>01099998888</td>\n",
       "      <td>22.5</td>\n",
       "    </tr>\n",
       "  </tbody>\n",
       "</table>\n",
       "</div>"
      ],
      "text/plain": [
       "  Name     phone_no 1Q_point\n",
       "0  홍길동  01011112222       90\n",
       "2  홍길동  01099998888     22.5"
      ]
     },
     "execution_count": 38,
     "metadata": {},
     "output_type": "execute_result"
    }
   ],
   "source": [
    "df[df['Name']=='홍길동'] #df안에 condion을 넣어야함 "
   ]
  },
  {
   "cell_type": "code",
   "execution_count": 39,
   "id": "f90c5754",
   "metadata": {},
   "outputs": [
    {
     "data": {
      "text/plain": [
       "0     True\n",
       "1     True\n",
       "2    False\n",
       "Name: 1Q_point, dtype: bool"
      ]
     },
     "execution_count": 39,
     "metadata": {},
     "output_type": "execute_result"
    }
   ],
   "source": [
    "df['1Q_point']> '50'"
   ]
  },
  {
   "cell_type": "code",
   "execution_count": 40,
   "id": "158ade94",
   "metadata": {},
   "outputs": [
    {
     "data": {
      "text/html": [
       "<div>\n",
       "<style scoped>\n",
       "    .dataframe tbody tr th:only-of-type {\n",
       "        vertical-align: middle;\n",
       "    }\n",
       "\n",
       "    .dataframe tbody tr th {\n",
       "        vertical-align: top;\n",
       "    }\n",
       "\n",
       "    .dataframe thead th {\n",
       "        text-align: right;\n",
       "    }\n",
       "</style>\n",
       "<table border=\"1\" class=\"dataframe\">\n",
       "  <thead>\n",
       "    <tr style=\"text-align: right;\">\n",
       "      <th></th>\n",
       "      <th>Name</th>\n",
       "      <th>phone_no</th>\n",
       "      <th>1Q_point</th>\n",
       "    </tr>\n",
       "  </thead>\n",
       "  <tbody>\n",
       "    <tr>\n",
       "      <th>0</th>\n",
       "      <td>홍길동</td>\n",
       "      <td>01011112222</td>\n",
       "      <td>90</td>\n",
       "    </tr>\n",
       "    <tr>\n",
       "      <th>1</th>\n",
       "      <td>김수진</td>\n",
       "      <td>01012341234</td>\n",
       "      <td>70</td>\n",
       "    </tr>\n",
       "  </tbody>\n",
       "</table>\n",
       "</div>"
      ],
      "text/plain": [
       "  Name     phone_no 1Q_point\n",
       "0  홍길동  01011112222       90\n",
       "1  김수진  01012341234       70"
      ]
     },
     "execution_count": 40,
     "metadata": {},
     "output_type": "execute_result"
    }
   ],
   "source": [
    "df[df['1Q_point'] > '50']"
   ]
  },
  {
   "cell_type": "code",
   "execution_count": 41,
   "id": "163f0285",
   "metadata": {},
   "outputs": [
    {
     "data": {
      "text/html": [
       "<div>\n",
       "<style scoped>\n",
       "    .dataframe tbody tr th:only-of-type {\n",
       "        vertical-align: middle;\n",
       "    }\n",
       "\n",
       "    .dataframe tbody tr th {\n",
       "        vertical-align: top;\n",
       "    }\n",
       "\n",
       "    .dataframe thead th {\n",
       "        text-align: right;\n",
       "    }\n",
       "</style>\n",
       "<table border=\"1\" class=\"dataframe\">\n",
       "  <thead>\n",
       "    <tr style=\"text-align: right;\">\n",
       "      <th></th>\n",
       "      <th>Name</th>\n",
       "      <th>phone_no</th>\n",
       "      <th>1Q_point</th>\n",
       "    </tr>\n",
       "  </thead>\n",
       "  <tbody>\n",
       "    <tr>\n",
       "      <th>0</th>\n",
       "      <td>홍길동</td>\n",
       "      <td>01011112222</td>\n",
       "      <td>90</td>\n",
       "    </tr>\n",
       "    <tr>\n",
       "      <th>1</th>\n",
       "      <td>김수진</td>\n",
       "      <td>01012341234</td>\n",
       "      <td>70</td>\n",
       "    </tr>\n",
       "    <tr>\n",
       "      <th>2</th>\n",
       "      <td>홍길동</td>\n",
       "      <td>01099998888</td>\n",
       "      <td>22.5</td>\n",
       "    </tr>\n",
       "  </tbody>\n",
       "</table>\n",
       "</div>"
      ],
      "text/plain": [
       "  Name     phone_no 1Q_point\n",
       "0  홍길동  01011112222       90\n",
       "1  김수진  01012341234       70\n",
       "2  홍길동  01099998888     22.5"
      ]
     },
     "execution_count": 41,
     "metadata": {},
     "output_type": "execute_result"
    }
   ],
   "source": [
    "df[(df['Name']=='홍길동')| (df['1Q_point']>  '50')] # |는 or 의미"
   ]
  },
  {
   "cell_type": "code",
   "execution_count": 42,
   "id": "0ffbeb07",
   "metadata": {},
   "outputs": [
    {
     "data": {
      "text/html": [
       "<div>\n",
       "<style scoped>\n",
       "    .dataframe tbody tr th:only-of-type {\n",
       "        vertical-align: middle;\n",
       "    }\n",
       "\n",
       "    .dataframe tbody tr th {\n",
       "        vertical-align: top;\n",
       "    }\n",
       "\n",
       "    .dataframe thead th {\n",
       "        text-align: right;\n",
       "    }\n",
       "</style>\n",
       "<table border=\"1\" class=\"dataframe\">\n",
       "  <thead>\n",
       "    <tr style=\"text-align: right;\">\n",
       "      <th></th>\n",
       "      <th>Name</th>\n",
       "      <th>phone_no</th>\n",
       "      <th>1Q_point</th>\n",
       "    </tr>\n",
       "  </thead>\n",
       "  <tbody>\n",
       "    <tr>\n",
       "      <th>2</th>\n",
       "      <td>홍길동</td>\n",
       "      <td>01099998888</td>\n",
       "      <td>22.5</td>\n",
       "    </tr>\n",
       "  </tbody>\n",
       "</table>\n",
       "</div>"
      ],
      "text/plain": [
       "  Name     phone_no 1Q_point\n",
       "2  홍길동  01099998888     22.5"
      ]
     },
     "execution_count": 42,
     "metadata": {},
     "output_type": "execute_result"
    }
   ],
   "source": [
    "df[(df['Name']=='홍길동')& (df['1Q_point']< '50')] # &는 and 의미"
   ]
  },
  {
   "cell_type": "markdown",
   "id": "aa034ff1",
   "metadata": {},
   "source": [
    "### .drop()\n",
    "- 해당 열, 행 삭제"
   ]
  },
  {
   "cell_type": "code",
   "execution_count": 56,
   "id": "10cdd774",
   "metadata": {},
   "outputs": [
    {
     "data": {
      "text/html": [
       "<div>\n",
       "<style scoped>\n",
       "    .dataframe tbody tr th:only-of-type {\n",
       "        vertical-align: middle;\n",
       "    }\n",
       "\n",
       "    .dataframe tbody tr th {\n",
       "        vertical-align: top;\n",
       "    }\n",
       "\n",
       "    .dataframe thead th {\n",
       "        text-align: right;\n",
       "    }\n",
       "</style>\n",
       "<table border=\"1\" class=\"dataframe\">\n",
       "  <thead>\n",
       "    <tr style=\"text-align: right;\">\n",
       "      <th></th>\n",
       "      <th>Name</th>\n",
       "      <th>phone_no</th>\n",
       "      <th>1Q_point</th>\n",
       "    </tr>\n",
       "  </thead>\n",
       "  <tbody>\n",
       "    <tr>\n",
       "      <th>10002</th>\n",
       "      <td>김수진</td>\n",
       "      <td>01012341234</td>\n",
       "      <td>70</td>\n",
       "    </tr>\n",
       "    <tr>\n",
       "      <th>10003</th>\n",
       "      <td>홍길동</td>\n",
       "      <td>01099998888</td>\n",
       "      <td>22.5</td>\n",
       "    </tr>\n",
       "  </tbody>\n",
       "</table>\n",
       "</div>"
      ],
      "text/plain": [
       "      Name     phone_no 1Q_point\n",
       "10002  김수진  01012341234       70\n",
       "10003  홍길동  01099998888     22.5"
      ]
     },
     "execution_count": 56,
     "metadata": {},
     "output_type": "execute_result"
    }
   ],
   "source": [
    "df.drop('10001')"
   ]
  },
  {
   "cell_type": "code",
   "execution_count": 57,
   "id": "3272b92c",
   "metadata": {},
   "outputs": [
    {
     "data": {
      "text/html": [
       "<div>\n",
       "<style scoped>\n",
       "    .dataframe tbody tr th:only-of-type {\n",
       "        vertical-align: middle;\n",
       "    }\n",
       "\n",
       "    .dataframe tbody tr th {\n",
       "        vertical-align: top;\n",
       "    }\n",
       "\n",
       "    .dataframe thead th {\n",
       "        text-align: right;\n",
       "    }\n",
       "</style>\n",
       "<table border=\"1\" class=\"dataframe\">\n",
       "  <thead>\n",
       "    <tr style=\"text-align: right;\">\n",
       "      <th></th>\n",
       "      <th>Name</th>\n",
       "      <th>phone_no</th>\n",
       "      <th>1Q_point</th>\n",
       "    </tr>\n",
       "  </thead>\n",
       "  <tbody>\n",
       "    <tr>\n",
       "      <th>10003</th>\n",
       "      <td>홍길동</td>\n",
       "      <td>01099998888</td>\n",
       "      <td>22.5</td>\n",
       "    </tr>\n",
       "  </tbody>\n",
       "</table>\n",
       "</div>"
      ],
      "text/plain": [
       "      Name     phone_no 1Q_point\n",
       "10003  홍길동  01099998888     22.5"
      ]
     },
     "execution_count": 57,
     "metadata": {},
     "output_type": "execute_result"
    }
   ],
   "source": [
    "df.drop(['10001', '10002']) #행 drop"
   ]
  },
  {
   "cell_type": "code",
   "execution_count": 58,
   "id": "6d5d2da0",
   "metadata": {},
   "outputs": [
    {
     "data": {
      "text/html": [
       "<div>\n",
       "<style scoped>\n",
       "    .dataframe tbody tr th:only-of-type {\n",
       "        vertical-align: middle;\n",
       "    }\n",
       "\n",
       "    .dataframe tbody tr th {\n",
       "        vertical-align: top;\n",
       "    }\n",
       "\n",
       "    .dataframe thead th {\n",
       "        text-align: right;\n",
       "    }\n",
       "</style>\n",
       "<table border=\"1\" class=\"dataframe\">\n",
       "  <thead>\n",
       "    <tr style=\"text-align: right;\">\n",
       "      <th></th>\n",
       "      <th>Name</th>\n",
       "    </tr>\n",
       "  </thead>\n",
       "  <tbody>\n",
       "    <tr>\n",
       "      <th>10001</th>\n",
       "      <td>홍길동</td>\n",
       "    </tr>\n",
       "    <tr>\n",
       "      <th>10002</th>\n",
       "      <td>김수진</td>\n",
       "    </tr>\n",
       "    <tr>\n",
       "      <th>10003</th>\n",
       "      <td>홍길동</td>\n",
       "    </tr>\n",
       "  </tbody>\n",
       "</table>\n",
       "</div>"
      ],
      "text/plain": [
       "      Name\n",
       "10001  홍길동\n",
       "10002  김수진\n",
       "10003  홍길동"
      ]
     },
     "execution_count": 58,
     "metadata": {},
     "output_type": "execute_result"
    }
   ],
   "source": [
    "df.drop(columns=['phone_no','1Q_point']) #열  drop "
   ]
  },
  {
   "cell_type": "markdown",
   "id": "147bb833",
   "metadata": {},
   "source": [
    "#### 데이터 프레임 복사/셍성"
   ]
  },
  {
   "cell_type": "code",
   "execution_count": 59,
   "id": "72adcb59",
   "metadata": {},
   "outputs": [
    {
     "data": {
      "text/html": [
       "<div>\n",
       "<style scoped>\n",
       "    .dataframe tbody tr th:only-of-type {\n",
       "        vertical-align: middle;\n",
       "    }\n",
       "\n",
       "    .dataframe tbody tr th {\n",
       "        vertical-align: top;\n",
       "    }\n",
       "\n",
       "    .dataframe thead th {\n",
       "        text-align: right;\n",
       "    }\n",
       "</style>\n",
       "<table border=\"1\" class=\"dataframe\">\n",
       "  <thead>\n",
       "    <tr style=\"text-align: right;\">\n",
       "      <th></th>\n",
       "      <th>Name</th>\n",
       "      <th>phone_no</th>\n",
       "      <th>1Q_point</th>\n",
       "    </tr>\n",
       "  </thead>\n",
       "  <tbody>\n",
       "    <tr>\n",
       "      <th>10002</th>\n",
       "      <td>김수진</td>\n",
       "      <td>01012341234</td>\n",
       "      <td>70</td>\n",
       "    </tr>\n",
       "    <tr>\n",
       "      <th>10003</th>\n",
       "      <td>홍길동</td>\n",
       "      <td>01099998888</td>\n",
       "      <td>22.5</td>\n",
       "    </tr>\n",
       "  </tbody>\n",
       "</table>\n",
       "</div>"
      ],
      "text/plain": [
       "      Name     phone_no 1Q_point\n",
       "10002  김수진  01012341234       70\n",
       "10003  홍길동  01099998888     22.5"
      ]
     },
     "execution_count": 59,
     "metadata": {},
     "output_type": "execute_result"
    }
   ],
   "source": [
    "df_copy = df.drop('10001') #10001번이 drop된 df를 복제헤서 df_copy라는 이름으로 저장\n",
    "df_copy"
   ]
  },
  {
   "cell_type": "markdown",
   "id": "cbaaf4e2",
   "metadata": {},
   "source": [
    "#### 데이터 프레임 칼럼 이름 바꾸기 "
   ]
  },
  {
   "cell_type": "code",
   "execution_count": 60,
   "id": "813e4e8d",
   "metadata": {},
   "outputs": [
    {
     "data": {
      "text/html": [
       "<div>\n",
       "<style scoped>\n",
       "    .dataframe tbody tr th:only-of-type {\n",
       "        vertical-align: middle;\n",
       "    }\n",
       "\n",
       "    .dataframe tbody tr th {\n",
       "        vertical-align: top;\n",
       "    }\n",
       "\n",
       "    .dataframe thead th {\n",
       "        text-align: right;\n",
       "    }\n",
       "</style>\n",
       "<table border=\"1\" class=\"dataframe\">\n",
       "  <thead>\n",
       "    <tr style=\"text-align: right;\">\n",
       "      <th></th>\n",
       "      <th>Name</th>\n",
       "      <th>phone_no</th>\n",
       "      <th>Total_point</th>\n",
       "    </tr>\n",
       "  </thead>\n",
       "  <tbody>\n",
       "    <tr>\n",
       "      <th>10001</th>\n",
       "      <td>홍길동</td>\n",
       "      <td>01011112222</td>\n",
       "      <td>90</td>\n",
       "    </tr>\n",
       "    <tr>\n",
       "      <th>10002</th>\n",
       "      <td>김수진</td>\n",
       "      <td>01012341234</td>\n",
       "      <td>70</td>\n",
       "    </tr>\n",
       "    <tr>\n",
       "      <th>10003</th>\n",
       "      <td>홍길동</td>\n",
       "      <td>01099998888</td>\n",
       "      <td>22.5</td>\n",
       "    </tr>\n",
       "  </tbody>\n",
       "</table>\n",
       "</div>"
      ],
      "text/plain": [
       "      Name     phone_no Total_point\n",
       "10001  홍길동  01011112222          90\n",
       "10002  김수진  01012341234          70\n",
       "10003  홍길동  01099998888        22.5"
      ]
     },
     "execution_count": 60,
     "metadata": {},
     "output_type": "execute_result"
    }
   ],
   "source": [
    "df_1Q = df\n",
    "df_1Q\n",
    "df_1Q.rename(columns={'1Q_point':'Total_point'}) #column 이름 다시 바꾸기 "
   ]
  },
  {
   "cell_type": "code",
   "execution_count": 62,
   "id": "3faa0b7a",
   "metadata": {},
   "outputs": [
    {
     "data": {
      "text/html": [
       "<div>\n",
       "<style scoped>\n",
       "    .dataframe tbody tr th:only-of-type {\n",
       "        vertical-align: middle;\n",
       "    }\n",
       "\n",
       "    .dataframe tbody tr th {\n",
       "        vertical-align: top;\n",
       "    }\n",
       "\n",
       "    .dataframe thead th {\n",
       "        text-align: right;\n",
       "    }\n",
       "</style>\n",
       "<table border=\"1\" class=\"dataframe\">\n",
       "  <thead>\n",
       "    <tr style=\"text-align: right;\">\n",
       "      <th></th>\n",
       "      <th>Name</th>\n",
       "      <th>phone_no</th>\n",
       "      <th>Total_point</th>\n",
       "    </tr>\n",
       "  </thead>\n",
       "  <tbody>\n",
       "    <tr>\n",
       "      <th>10001</th>\n",
       "      <td>홍길동</td>\n",
       "      <td>01011112222</td>\n",
       "      <td>90</td>\n",
       "    </tr>\n",
       "    <tr>\n",
       "      <th>10002</th>\n",
       "      <td>김수진</td>\n",
       "      <td>01012341234</td>\n",
       "      <td>70</td>\n",
       "    </tr>\n",
       "    <tr>\n",
       "      <th>10003</th>\n",
       "      <td>홍길동</td>\n",
       "      <td>01099998888</td>\n",
       "      <td>22.5</td>\n",
       "    </tr>\n",
       "  </tbody>\n",
       "</table>\n",
       "</div>"
      ],
      "text/plain": [
       "      Name     phone_no Total_point\n",
       "10001  홍길동  01011112222          90\n",
       "10002  김수진  01012341234          70\n",
       "10003  홍길동  01099998888        22.5"
      ]
     },
     "execution_count": 62,
     "metadata": {},
     "output_type": "execute_result"
    }
   ],
   "source": [
    "df_1Q.rename(columns={'1Q_point':'Total_point'}, inplace =True) #inplace = True 해야 변경된 값이 저장됨 \n",
    "df_1Q"
   ]
  },
  {
   "cell_type": "markdown",
   "id": "59dba003",
   "metadata": {},
   "source": [
    "#### 새로운 칼럼과 row 추가하기 "
   ]
  },
  {
   "cell_type": "code",
   "execution_count": 63,
   "id": "02c4de19",
   "metadata": {},
   "outputs": [
    {
     "data": {
      "text/html": [
       "<div>\n",
       "<style scoped>\n",
       "    .dataframe tbody tr th:only-of-type {\n",
       "        vertical-align: middle;\n",
       "    }\n",
       "\n",
       "    .dataframe tbody tr th {\n",
       "        vertical-align: top;\n",
       "    }\n",
       "\n",
       "    .dataframe thead th {\n",
       "        text-align: right;\n",
       "    }\n",
       "</style>\n",
       "<table border=\"1\" class=\"dataframe\">\n",
       "  <thead>\n",
       "    <tr style=\"text-align: right;\">\n",
       "      <th></th>\n",
       "      <th>Name</th>\n",
       "      <th>phone_no</th>\n",
       "      <th>Total_point</th>\n",
       "      <th>2Q_point</th>\n",
       "    </tr>\n",
       "  </thead>\n",
       "  <tbody>\n",
       "    <tr>\n",
       "      <th>10001</th>\n",
       "      <td>홍길동</td>\n",
       "      <td>01011112222</td>\n",
       "      <td>90</td>\n",
       "      <td>80</td>\n",
       "    </tr>\n",
       "    <tr>\n",
       "      <th>10002</th>\n",
       "      <td>김수진</td>\n",
       "      <td>01012341234</td>\n",
       "      <td>70</td>\n",
       "      <td>40</td>\n",
       "    </tr>\n",
       "    <tr>\n",
       "      <th>10003</th>\n",
       "      <td>홍길동</td>\n",
       "      <td>01099998888</td>\n",
       "      <td>22.5</td>\n",
       "      <td>100</td>\n",
       "    </tr>\n",
       "  </tbody>\n",
       "</table>\n",
       "</div>"
      ],
      "text/plain": [
       "      Name     phone_no Total_point  2Q_point\n",
       "10001  홍길동  01011112222          90        80\n",
       "10002  김수진  01012341234          70        40\n",
       "10003  홍길동  01099998888        22.5       100"
      ]
     },
     "execution_count": 63,
     "metadata": {},
     "output_type": "execute_result"
    }
   ],
   "source": [
    "df_point = df\n",
    "df_point['2Q_point'] = [80, 40, 100]\n",
    "df_point"
   ]
  },
  {
   "cell_type": "markdown",
   "id": "2fa3afc2",
   "metadata": {},
   "source": [
    "## 2. 올림픽 데이터 사용하면서 pandas 개념 익히기"
   ]
  },
  {
   "cell_type": "code",
   "execution_count": 69,
   "id": "5fda83d4",
   "metadata": {},
   "outputs": [
    {
     "data": {
      "text/html": [
       "<div>\n",
       "<style scoped>\n",
       "    .dataframe tbody tr th:only-of-type {\n",
       "        vertical-align: middle;\n",
       "    }\n",
       "\n",
       "    .dataframe tbody tr th {\n",
       "        vertical-align: top;\n",
       "    }\n",
       "\n",
       "    .dataframe thead th {\n",
       "        text-align: right;\n",
       "    }\n",
       "</style>\n",
       "<table border=\"1\" class=\"dataframe\">\n",
       "  <thead>\n",
       "    <tr style=\"text-align: right;\">\n",
       "      <th></th>\n",
       "      <th>Country</th>\n",
       "      <th># Summer</th>\n",
       "      <th>Gold</th>\n",
       "      <th>Silver</th>\n",
       "      <th>Bronze</th>\n",
       "      <th>Total</th>\n",
       "      <th># Winter</th>\n",
       "      <th>Gold.1</th>\n",
       "      <th>Silver.1</th>\n",
       "      <th>Bronze.1</th>\n",
       "      <th>Total.1</th>\n",
       "      <th># Games</th>\n",
       "      <th>Gold.2</th>\n",
       "      <th>Silver.2</th>\n",
       "      <th>Bronze.2</th>\n",
       "      <th>Combined total</th>\n",
       "    </tr>\n",
       "  </thead>\n",
       "  <tbody>\n",
       "    <tr>\n",
       "      <th>0</th>\n",
       "      <td>Afghanistan</td>\n",
       "      <td>13</td>\n",
       "      <td>0</td>\n",
       "      <td>0</td>\n",
       "      <td>2</td>\n",
       "      <td>2</td>\n",
       "      <td>0</td>\n",
       "      <td>0</td>\n",
       "      <td>0</td>\n",
       "      <td>0</td>\n",
       "      <td>0</td>\n",
       "      <td>13</td>\n",
       "      <td>0</td>\n",
       "      <td>0</td>\n",
       "      <td>2</td>\n",
       "      <td>2</td>\n",
       "    </tr>\n",
       "    <tr>\n",
       "      <th>1</th>\n",
       "      <td>Algeria</td>\n",
       "      <td>12</td>\n",
       "      <td>5</td>\n",
       "      <td>2</td>\n",
       "      <td>8</td>\n",
       "      <td>15</td>\n",
       "      <td>3</td>\n",
       "      <td>0</td>\n",
       "      <td>0</td>\n",
       "      <td>0</td>\n",
       "      <td>0</td>\n",
       "      <td>15</td>\n",
       "      <td>5</td>\n",
       "      <td>2</td>\n",
       "      <td>8</td>\n",
       "      <td>15</td>\n",
       "    </tr>\n",
       "    <tr>\n",
       "      <th>2</th>\n",
       "      <td>Argentina</td>\n",
       "      <td>23</td>\n",
       "      <td>18</td>\n",
       "      <td>24</td>\n",
       "      <td>28</td>\n",
       "      <td>70</td>\n",
       "      <td>18</td>\n",
       "      <td>0</td>\n",
       "      <td>0</td>\n",
       "      <td>0</td>\n",
       "      <td>0</td>\n",
       "      <td>41</td>\n",
       "      <td>18</td>\n",
       "      <td>24</td>\n",
       "      <td>28</td>\n",
       "      <td>70</td>\n",
       "    </tr>\n",
       "    <tr>\n",
       "      <th>3</th>\n",
       "      <td>Armenia</td>\n",
       "      <td>5</td>\n",
       "      <td>1</td>\n",
       "      <td>2</td>\n",
       "      <td>9</td>\n",
       "      <td>12</td>\n",
       "      <td>6</td>\n",
       "      <td>0</td>\n",
       "      <td>0</td>\n",
       "      <td>0</td>\n",
       "      <td>0</td>\n",
       "      <td>11</td>\n",
       "      <td>1</td>\n",
       "      <td>2</td>\n",
       "      <td>9</td>\n",
       "      <td>12</td>\n",
       "    </tr>\n",
       "    <tr>\n",
       "      <th>4</th>\n",
       "      <td>Australasia</td>\n",
       "      <td>2</td>\n",
       "      <td>3</td>\n",
       "      <td>4</td>\n",
       "      <td>5</td>\n",
       "      <td>12</td>\n",
       "      <td>0</td>\n",
       "      <td>0</td>\n",
       "      <td>0</td>\n",
       "      <td>0</td>\n",
       "      <td>0</td>\n",
       "      <td>2</td>\n",
       "      <td>3</td>\n",
       "      <td>4</td>\n",
       "      <td>5</td>\n",
       "      <td>12</td>\n",
       "    </tr>\n",
       "    <tr>\n",
       "      <th>...</th>\n",
       "      <td>...</td>\n",
       "      <td>...</td>\n",
       "      <td>...</td>\n",
       "      <td>...</td>\n",
       "      <td>...</td>\n",
       "      <td>...</td>\n",
       "      <td>...</td>\n",
       "      <td>...</td>\n",
       "      <td>...</td>\n",
       "      <td>...</td>\n",
       "      <td>...</td>\n",
       "      <td>...</td>\n",
       "      <td>...</td>\n",
       "      <td>...</td>\n",
       "      <td>...</td>\n",
       "      <td>...</td>\n",
       "    </tr>\n",
       "    <tr>\n",
       "      <th>141</th>\n",
       "      <td>Yugoslavia</td>\n",
       "      <td>16</td>\n",
       "      <td>26</td>\n",
       "      <td>29</td>\n",
       "      <td>28</td>\n",
       "      <td>83</td>\n",
       "      <td>14</td>\n",
       "      <td>0</td>\n",
       "      <td>3</td>\n",
       "      <td>1</td>\n",
       "      <td>4</td>\n",
       "      <td>30</td>\n",
       "      <td>26</td>\n",
       "      <td>32</td>\n",
       "      <td>29</td>\n",
       "      <td>87</td>\n",
       "    </tr>\n",
       "    <tr>\n",
       "      <th>142</th>\n",
       "      <td>Independent Olympic Participants</td>\n",
       "      <td>1</td>\n",
       "      <td>0</td>\n",
       "      <td>1</td>\n",
       "      <td>2</td>\n",
       "      <td>3</td>\n",
       "      <td>0</td>\n",
       "      <td>0</td>\n",
       "      <td>0</td>\n",
       "      <td>0</td>\n",
       "      <td>0</td>\n",
       "      <td>1</td>\n",
       "      <td>0</td>\n",
       "      <td>1</td>\n",
       "      <td>2</td>\n",
       "      <td>3</td>\n",
       "    </tr>\n",
       "    <tr>\n",
       "      <th>143</th>\n",
       "      <td>Zambia</td>\n",
       "      <td>12</td>\n",
       "      <td>0</td>\n",
       "      <td>1</td>\n",
       "      <td>1</td>\n",
       "      <td>2</td>\n",
       "      <td>0</td>\n",
       "      <td>0</td>\n",
       "      <td>0</td>\n",
       "      <td>0</td>\n",
       "      <td>0</td>\n",
       "      <td>12</td>\n",
       "      <td>0</td>\n",
       "      <td>1</td>\n",
       "      <td>1</td>\n",
       "      <td>2</td>\n",
       "    </tr>\n",
       "    <tr>\n",
       "      <th>144</th>\n",
       "      <td>Zimbabwe</td>\n",
       "      <td>12</td>\n",
       "      <td>3</td>\n",
       "      <td>4</td>\n",
       "      <td>1</td>\n",
       "      <td>8</td>\n",
       "      <td>1</td>\n",
       "      <td>0</td>\n",
       "      <td>0</td>\n",
       "      <td>0</td>\n",
       "      <td>0</td>\n",
       "      <td>13</td>\n",
       "      <td>3</td>\n",
       "      <td>4</td>\n",
       "      <td>1</td>\n",
       "      <td>8</td>\n",
       "    </tr>\n",
       "    <tr>\n",
       "      <th>145</th>\n",
       "      <td>Mixed team</td>\n",
       "      <td>3</td>\n",
       "      <td>8</td>\n",
       "      <td>5</td>\n",
       "      <td>4</td>\n",
       "      <td>17</td>\n",
       "      <td>0</td>\n",
       "      <td>0</td>\n",
       "      <td>0</td>\n",
       "      <td>0</td>\n",
       "      <td>0</td>\n",
       "      <td>3</td>\n",
       "      <td>8</td>\n",
       "      <td>5</td>\n",
       "      <td>4</td>\n",
       "      <td>17</td>\n",
       "    </tr>\n",
       "  </tbody>\n",
       "</table>\n",
       "<p>146 rows × 16 columns</p>\n",
       "</div>"
      ],
      "text/plain": [
       "                              Country  # Summer  Gold  Silver  Bronze  Total  \\\n",
       "0                         Afghanistan        13     0       0       2      2   \n",
       "1                             Algeria        12     5       2       8     15   \n",
       "2                           Argentina        23    18      24      28     70   \n",
       "3                             Armenia         5     1       2       9     12   \n",
       "4                         Australasia         2     3       4       5     12   \n",
       "..                                ...       ...   ...     ...     ...    ...   \n",
       "141                        Yugoslavia        16    26      29      28     83   \n",
       "142  Independent Olympic Participants         1     0       1       2      3   \n",
       "143                            Zambia        12     0       1       1      2   \n",
       "144                          Zimbabwe        12     3       4       1      8   \n",
       "145                        Mixed team         3     8       5       4     17   \n",
       "\n",
       "     # Winter  Gold.1  Silver.1  Bronze.1  Total.1  # Games  Gold.2  Silver.2  \\\n",
       "0           0       0         0         0        0       13       0         0   \n",
       "1           3       0         0         0        0       15       5         2   \n",
       "2          18       0         0         0        0       41      18        24   \n",
       "3           6       0         0         0        0       11       1         2   \n",
       "4           0       0         0         0        0        2       3         4   \n",
       "..        ...     ...       ...       ...      ...      ...     ...       ...   \n",
       "141        14       0         3         1        4       30      26        32   \n",
       "142         0       0         0         0        0        1       0         1   \n",
       "143         0       0         0         0        0       12       0         1   \n",
       "144         1       0         0         0        0       13       3         4   \n",
       "145         0       0         0         0        0        3       8         5   \n",
       "\n",
       "     Bronze.2  Combined total  \n",
       "0           2               2  \n",
       "1           8              15  \n",
       "2          28              70  \n",
       "3           9              12  \n",
       "4           5              12  \n",
       "..        ...             ...  \n",
       "141        29              87  \n",
       "142         2               3  \n",
       "143         1               2  \n",
       "144         1               8  \n",
       "145         4              17  \n",
       "\n",
       "[146 rows x 16 columns]"
      ]
     },
     "execution_count": 69,
     "metadata": {},
     "output_type": "execute_result"
    }
   ],
   "source": [
    "df_olympics = pd.read_excel('C:/Users/82104/Desktop/CAU/2-1/Data/olympics_organized-1.xlsx')\n",
    "df_olympics"
   ]
  },
  {
   "cell_type": "markdown",
   "id": "2a392e88",
   "metadata": {},
   "source": [
    "- 엑셀파일 불러울 때, pd.read_excel 사용 \n",
    "- csv 파일 불러올 때, pd.read_csv 사용 "
   ]
  },
  {
   "cell_type": "markdown",
   "id": "28b4674f",
   "metadata": {},
   "source": [
    "- 괄호 안에 해당 파일 경로 넣어줘야함 \n",
    "- 경로 확인 방법: 해당 파일 우클릭 -> 속성 -> 위치 복사 붙여넣기 -> 뒤에 해당 파일 이름 + 확장자명 넣기    \n",
    "ex) C:/Users/82104/Desktop/CAU/olympics.csv"
   ]
  },
  {
   "cell_type": "markdown",
   "id": "cf962c7d",
   "metadata": {},
   "source": [
    "### .head()/tail()\n",
    "- 데이터 프레임 상위 5개, 하위 5개 행 출력"
   ]
  },
  {
   "cell_type": "code",
   "execution_count": 71,
   "id": "a3980a75",
   "metadata": {},
   "outputs": [
    {
     "data": {
      "text/html": [
       "<div>\n",
       "<style scoped>\n",
       "    .dataframe tbody tr th:only-of-type {\n",
       "        vertical-align: middle;\n",
       "    }\n",
       "\n",
       "    .dataframe tbody tr th {\n",
       "        vertical-align: top;\n",
       "    }\n",
       "\n",
       "    .dataframe thead th {\n",
       "        text-align: right;\n",
       "    }\n",
       "</style>\n",
       "<table border=\"1\" class=\"dataframe\">\n",
       "  <thead>\n",
       "    <tr style=\"text-align: right;\">\n",
       "      <th></th>\n",
       "      <th>Country</th>\n",
       "      <th># Summer</th>\n",
       "      <th>Gold</th>\n",
       "      <th>Silver</th>\n",
       "      <th>Bronze</th>\n",
       "      <th>Total</th>\n",
       "      <th># Winter</th>\n",
       "      <th>Gold.1</th>\n",
       "      <th>Silver.1</th>\n",
       "      <th>Bronze.1</th>\n",
       "      <th>Total.1</th>\n",
       "      <th># Games</th>\n",
       "      <th>Gold.2</th>\n",
       "      <th>Silver.2</th>\n",
       "      <th>Bronze.2</th>\n",
       "      <th>Combined total</th>\n",
       "    </tr>\n",
       "  </thead>\n",
       "  <tbody>\n",
       "    <tr>\n",
       "      <th>0</th>\n",
       "      <td>Afghanistan</td>\n",
       "      <td>13</td>\n",
       "      <td>0</td>\n",
       "      <td>0</td>\n",
       "      <td>2</td>\n",
       "      <td>2</td>\n",
       "      <td>0</td>\n",
       "      <td>0</td>\n",
       "      <td>0</td>\n",
       "      <td>0</td>\n",
       "      <td>0</td>\n",
       "      <td>13</td>\n",
       "      <td>0</td>\n",
       "      <td>0</td>\n",
       "      <td>2</td>\n",
       "      <td>2</td>\n",
       "    </tr>\n",
       "    <tr>\n",
       "      <th>1</th>\n",
       "      <td>Algeria</td>\n",
       "      <td>12</td>\n",
       "      <td>5</td>\n",
       "      <td>2</td>\n",
       "      <td>8</td>\n",
       "      <td>15</td>\n",
       "      <td>3</td>\n",
       "      <td>0</td>\n",
       "      <td>0</td>\n",
       "      <td>0</td>\n",
       "      <td>0</td>\n",
       "      <td>15</td>\n",
       "      <td>5</td>\n",
       "      <td>2</td>\n",
       "      <td>8</td>\n",
       "      <td>15</td>\n",
       "    </tr>\n",
       "    <tr>\n",
       "      <th>2</th>\n",
       "      <td>Argentina</td>\n",
       "      <td>23</td>\n",
       "      <td>18</td>\n",
       "      <td>24</td>\n",
       "      <td>28</td>\n",
       "      <td>70</td>\n",
       "      <td>18</td>\n",
       "      <td>0</td>\n",
       "      <td>0</td>\n",
       "      <td>0</td>\n",
       "      <td>0</td>\n",
       "      <td>41</td>\n",
       "      <td>18</td>\n",
       "      <td>24</td>\n",
       "      <td>28</td>\n",
       "      <td>70</td>\n",
       "    </tr>\n",
       "    <tr>\n",
       "      <th>3</th>\n",
       "      <td>Armenia</td>\n",
       "      <td>5</td>\n",
       "      <td>1</td>\n",
       "      <td>2</td>\n",
       "      <td>9</td>\n",
       "      <td>12</td>\n",
       "      <td>6</td>\n",
       "      <td>0</td>\n",
       "      <td>0</td>\n",
       "      <td>0</td>\n",
       "      <td>0</td>\n",
       "      <td>11</td>\n",
       "      <td>1</td>\n",
       "      <td>2</td>\n",
       "      <td>9</td>\n",
       "      <td>12</td>\n",
       "    </tr>\n",
       "    <tr>\n",
       "      <th>4</th>\n",
       "      <td>Australasia</td>\n",
       "      <td>2</td>\n",
       "      <td>3</td>\n",
       "      <td>4</td>\n",
       "      <td>5</td>\n",
       "      <td>12</td>\n",
       "      <td>0</td>\n",
       "      <td>0</td>\n",
       "      <td>0</td>\n",
       "      <td>0</td>\n",
       "      <td>0</td>\n",
       "      <td>2</td>\n",
       "      <td>3</td>\n",
       "      <td>4</td>\n",
       "      <td>5</td>\n",
       "      <td>12</td>\n",
       "    </tr>\n",
       "  </tbody>\n",
       "</table>\n",
       "</div>"
      ],
      "text/plain": [
       "       Country  # Summer  Gold  Silver  Bronze  Total  # Winter  Gold.1  \\\n",
       "0  Afghanistan        13     0       0       2      2         0       0   \n",
       "1      Algeria        12     5       2       8     15         3       0   \n",
       "2    Argentina        23    18      24      28     70        18       0   \n",
       "3      Armenia         5     1       2       9     12         6       0   \n",
       "4  Australasia         2     3       4       5     12         0       0   \n",
       "\n",
       "   Silver.1  Bronze.1  Total.1  # Games  Gold.2  Silver.2  Bronze.2  \\\n",
       "0         0         0        0       13       0         0         2   \n",
       "1         0         0        0       15       5         2         8   \n",
       "2         0         0        0       41      18        24        28   \n",
       "3         0         0        0       11       1         2         9   \n",
       "4         0         0        0        2       3         4         5   \n",
       "\n",
       "   Combined total  \n",
       "0               2  \n",
       "1              15  \n",
       "2              70  \n",
       "3              12  \n",
       "4              12  "
      ]
     },
     "execution_count": 71,
     "metadata": {},
     "output_type": "execute_result"
    }
   ],
   "source": [
    "df_olympics.head()"
   ]
  },
  {
   "cell_type": "code",
   "execution_count": 72,
   "id": "a8f03332",
   "metadata": {},
   "outputs": [
    {
     "data": {
      "text/html": [
       "<div>\n",
       "<style scoped>\n",
       "    .dataframe tbody tr th:only-of-type {\n",
       "        vertical-align: middle;\n",
       "    }\n",
       "\n",
       "    .dataframe tbody tr th {\n",
       "        vertical-align: top;\n",
       "    }\n",
       "\n",
       "    .dataframe thead th {\n",
       "        text-align: right;\n",
       "    }\n",
       "</style>\n",
       "<table border=\"1\" class=\"dataframe\">\n",
       "  <thead>\n",
       "    <tr style=\"text-align: right;\">\n",
       "      <th></th>\n",
       "      <th>Country</th>\n",
       "      <th># Summer</th>\n",
       "      <th>Gold</th>\n",
       "      <th>Silver</th>\n",
       "      <th>Bronze</th>\n",
       "      <th>Total</th>\n",
       "      <th># Winter</th>\n",
       "      <th>Gold.1</th>\n",
       "      <th>Silver.1</th>\n",
       "      <th>Bronze.1</th>\n",
       "      <th>Total.1</th>\n",
       "      <th># Games</th>\n",
       "      <th>Gold.2</th>\n",
       "      <th>Silver.2</th>\n",
       "      <th>Bronze.2</th>\n",
       "      <th>Combined total</th>\n",
       "    </tr>\n",
       "  </thead>\n",
       "  <tbody>\n",
       "    <tr>\n",
       "      <th>141</th>\n",
       "      <td>Yugoslavia</td>\n",
       "      <td>16</td>\n",
       "      <td>26</td>\n",
       "      <td>29</td>\n",
       "      <td>28</td>\n",
       "      <td>83</td>\n",
       "      <td>14</td>\n",
       "      <td>0</td>\n",
       "      <td>3</td>\n",
       "      <td>1</td>\n",
       "      <td>4</td>\n",
       "      <td>30</td>\n",
       "      <td>26</td>\n",
       "      <td>32</td>\n",
       "      <td>29</td>\n",
       "      <td>87</td>\n",
       "    </tr>\n",
       "    <tr>\n",
       "      <th>142</th>\n",
       "      <td>Independent Olympic Participants</td>\n",
       "      <td>1</td>\n",
       "      <td>0</td>\n",
       "      <td>1</td>\n",
       "      <td>2</td>\n",
       "      <td>3</td>\n",
       "      <td>0</td>\n",
       "      <td>0</td>\n",
       "      <td>0</td>\n",
       "      <td>0</td>\n",
       "      <td>0</td>\n",
       "      <td>1</td>\n",
       "      <td>0</td>\n",
       "      <td>1</td>\n",
       "      <td>2</td>\n",
       "      <td>3</td>\n",
       "    </tr>\n",
       "    <tr>\n",
       "      <th>143</th>\n",
       "      <td>Zambia</td>\n",
       "      <td>12</td>\n",
       "      <td>0</td>\n",
       "      <td>1</td>\n",
       "      <td>1</td>\n",
       "      <td>2</td>\n",
       "      <td>0</td>\n",
       "      <td>0</td>\n",
       "      <td>0</td>\n",
       "      <td>0</td>\n",
       "      <td>0</td>\n",
       "      <td>12</td>\n",
       "      <td>0</td>\n",
       "      <td>1</td>\n",
       "      <td>1</td>\n",
       "      <td>2</td>\n",
       "    </tr>\n",
       "    <tr>\n",
       "      <th>144</th>\n",
       "      <td>Zimbabwe</td>\n",
       "      <td>12</td>\n",
       "      <td>3</td>\n",
       "      <td>4</td>\n",
       "      <td>1</td>\n",
       "      <td>8</td>\n",
       "      <td>1</td>\n",
       "      <td>0</td>\n",
       "      <td>0</td>\n",
       "      <td>0</td>\n",
       "      <td>0</td>\n",
       "      <td>13</td>\n",
       "      <td>3</td>\n",
       "      <td>4</td>\n",
       "      <td>1</td>\n",
       "      <td>8</td>\n",
       "    </tr>\n",
       "    <tr>\n",
       "      <th>145</th>\n",
       "      <td>Mixed team</td>\n",
       "      <td>3</td>\n",
       "      <td>8</td>\n",
       "      <td>5</td>\n",
       "      <td>4</td>\n",
       "      <td>17</td>\n",
       "      <td>0</td>\n",
       "      <td>0</td>\n",
       "      <td>0</td>\n",
       "      <td>0</td>\n",
       "      <td>0</td>\n",
       "      <td>3</td>\n",
       "      <td>8</td>\n",
       "      <td>5</td>\n",
       "      <td>4</td>\n",
       "      <td>17</td>\n",
       "    </tr>\n",
       "  </tbody>\n",
       "</table>\n",
       "</div>"
      ],
      "text/plain": [
       "                              Country  # Summer  Gold  Silver  Bronze  Total  \\\n",
       "141                        Yugoslavia        16    26      29      28     83   \n",
       "142  Independent Olympic Participants         1     0       1       2      3   \n",
       "143                            Zambia        12     0       1       1      2   \n",
       "144                          Zimbabwe        12     3       4       1      8   \n",
       "145                        Mixed team         3     8       5       4     17   \n",
       "\n",
       "     # Winter  Gold.1  Silver.1  Bronze.1  Total.1  # Games  Gold.2  Silver.2  \\\n",
       "141        14       0         3         1        4       30      26        32   \n",
       "142         0       0         0         0        0        1       0         1   \n",
       "143         0       0         0         0        0       12       0         1   \n",
       "144         1       0         0         0        0       13       3         4   \n",
       "145         0       0         0         0        0        3       8         5   \n",
       "\n",
       "     Bronze.2  Combined total  \n",
       "141        29              87  \n",
       "142         2               3  \n",
       "143         1               2  \n",
       "144         1               8  \n",
       "145         4              17  "
      ]
     },
     "execution_count": 72,
     "metadata": {},
     "output_type": "execute_result"
    }
   ],
   "source": [
    "df_olympics.tail()"
   ]
  },
  {
   "cell_type": "markdown",
   "id": "47e83573",
   "metadata": {},
   "source": [
    "### .shape\n",
    "- 행, 열 개수 확인 "
   ]
  },
  {
   "cell_type": "code",
   "execution_count": 79,
   "id": "5b6e90db",
   "metadata": {},
   "outputs": [
    {
     "data": {
      "text/plain": [
       "(146, 16)"
      ]
     },
     "execution_count": 79,
     "metadata": {},
     "output_type": "execute_result"
    }
   ],
   "source": [
    "df_olympics.shape # 146개의 행 16개의 열"
   ]
  },
  {
   "cell_type": "markdown",
   "id": "437b5f7a",
   "metadata": {},
   "source": [
    "### isnull.sum()\n",
    "- 결측치 개수 파악"
   ]
  },
  {
   "cell_type": "code",
   "execution_count": 83,
   "id": "7be1d24c",
   "metadata": {},
   "outputs": [
    {
     "data": {
      "text/html": [
       "<div>\n",
       "<style scoped>\n",
       "    .dataframe tbody tr th:only-of-type {\n",
       "        vertical-align: middle;\n",
       "    }\n",
       "\n",
       "    .dataframe tbody tr th {\n",
       "        vertical-align: top;\n",
       "    }\n",
       "\n",
       "    .dataframe thead th {\n",
       "        text-align: right;\n",
       "    }\n",
       "</style>\n",
       "<table border=\"1\" class=\"dataframe\">\n",
       "  <thead>\n",
       "    <tr style=\"text-align: right;\">\n",
       "      <th></th>\n",
       "      <th>Country</th>\n",
       "      <th># Summer</th>\n",
       "      <th>Gold</th>\n",
       "      <th>Silver</th>\n",
       "      <th>Bronze</th>\n",
       "      <th>Total</th>\n",
       "      <th># Winter</th>\n",
       "      <th>Gold.1</th>\n",
       "      <th>Silver.1</th>\n",
       "      <th>Bronze.1</th>\n",
       "      <th>Total.1</th>\n",
       "      <th># Games</th>\n",
       "      <th>Gold.2</th>\n",
       "      <th>Silver.2</th>\n",
       "      <th>Bronze.2</th>\n",
       "      <th>Combined total</th>\n",
       "    </tr>\n",
       "  </thead>\n",
       "  <tbody>\n",
       "    <tr>\n",
       "      <th>0</th>\n",
       "      <td>False</td>\n",
       "      <td>False</td>\n",
       "      <td>False</td>\n",
       "      <td>False</td>\n",
       "      <td>False</td>\n",
       "      <td>False</td>\n",
       "      <td>False</td>\n",
       "      <td>False</td>\n",
       "      <td>False</td>\n",
       "      <td>False</td>\n",
       "      <td>False</td>\n",
       "      <td>False</td>\n",
       "      <td>False</td>\n",
       "      <td>False</td>\n",
       "      <td>False</td>\n",
       "      <td>False</td>\n",
       "    </tr>\n",
       "    <tr>\n",
       "      <th>1</th>\n",
       "      <td>False</td>\n",
       "      <td>False</td>\n",
       "      <td>False</td>\n",
       "      <td>False</td>\n",
       "      <td>False</td>\n",
       "      <td>False</td>\n",
       "      <td>False</td>\n",
       "      <td>False</td>\n",
       "      <td>False</td>\n",
       "      <td>False</td>\n",
       "      <td>False</td>\n",
       "      <td>False</td>\n",
       "      <td>False</td>\n",
       "      <td>False</td>\n",
       "      <td>False</td>\n",
       "      <td>False</td>\n",
       "    </tr>\n",
       "    <tr>\n",
       "      <th>2</th>\n",
       "      <td>False</td>\n",
       "      <td>False</td>\n",
       "      <td>False</td>\n",
       "      <td>False</td>\n",
       "      <td>False</td>\n",
       "      <td>False</td>\n",
       "      <td>False</td>\n",
       "      <td>False</td>\n",
       "      <td>False</td>\n",
       "      <td>False</td>\n",
       "      <td>False</td>\n",
       "      <td>False</td>\n",
       "      <td>False</td>\n",
       "      <td>False</td>\n",
       "      <td>False</td>\n",
       "      <td>False</td>\n",
       "    </tr>\n",
       "    <tr>\n",
       "      <th>3</th>\n",
       "      <td>False</td>\n",
       "      <td>False</td>\n",
       "      <td>False</td>\n",
       "      <td>False</td>\n",
       "      <td>False</td>\n",
       "      <td>False</td>\n",
       "      <td>False</td>\n",
       "      <td>False</td>\n",
       "      <td>False</td>\n",
       "      <td>False</td>\n",
       "      <td>False</td>\n",
       "      <td>False</td>\n",
       "      <td>False</td>\n",
       "      <td>False</td>\n",
       "      <td>False</td>\n",
       "      <td>False</td>\n",
       "    </tr>\n",
       "    <tr>\n",
       "      <th>4</th>\n",
       "      <td>False</td>\n",
       "      <td>False</td>\n",
       "      <td>False</td>\n",
       "      <td>False</td>\n",
       "      <td>False</td>\n",
       "      <td>False</td>\n",
       "      <td>False</td>\n",
       "      <td>False</td>\n",
       "      <td>False</td>\n",
       "      <td>False</td>\n",
       "      <td>False</td>\n",
       "      <td>False</td>\n",
       "      <td>False</td>\n",
       "      <td>False</td>\n",
       "      <td>False</td>\n",
       "      <td>False</td>\n",
       "    </tr>\n",
       "    <tr>\n",
       "      <th>...</th>\n",
       "      <td>...</td>\n",
       "      <td>...</td>\n",
       "      <td>...</td>\n",
       "      <td>...</td>\n",
       "      <td>...</td>\n",
       "      <td>...</td>\n",
       "      <td>...</td>\n",
       "      <td>...</td>\n",
       "      <td>...</td>\n",
       "      <td>...</td>\n",
       "      <td>...</td>\n",
       "      <td>...</td>\n",
       "      <td>...</td>\n",
       "      <td>...</td>\n",
       "      <td>...</td>\n",
       "      <td>...</td>\n",
       "    </tr>\n",
       "    <tr>\n",
       "      <th>141</th>\n",
       "      <td>False</td>\n",
       "      <td>False</td>\n",
       "      <td>False</td>\n",
       "      <td>False</td>\n",
       "      <td>False</td>\n",
       "      <td>False</td>\n",
       "      <td>False</td>\n",
       "      <td>False</td>\n",
       "      <td>False</td>\n",
       "      <td>False</td>\n",
       "      <td>False</td>\n",
       "      <td>False</td>\n",
       "      <td>False</td>\n",
       "      <td>False</td>\n",
       "      <td>False</td>\n",
       "      <td>False</td>\n",
       "    </tr>\n",
       "    <tr>\n",
       "      <th>142</th>\n",
       "      <td>False</td>\n",
       "      <td>False</td>\n",
       "      <td>False</td>\n",
       "      <td>False</td>\n",
       "      <td>False</td>\n",
       "      <td>False</td>\n",
       "      <td>False</td>\n",
       "      <td>False</td>\n",
       "      <td>False</td>\n",
       "      <td>False</td>\n",
       "      <td>False</td>\n",
       "      <td>False</td>\n",
       "      <td>False</td>\n",
       "      <td>False</td>\n",
       "      <td>False</td>\n",
       "      <td>False</td>\n",
       "    </tr>\n",
       "    <tr>\n",
       "      <th>143</th>\n",
       "      <td>False</td>\n",
       "      <td>False</td>\n",
       "      <td>False</td>\n",
       "      <td>False</td>\n",
       "      <td>False</td>\n",
       "      <td>False</td>\n",
       "      <td>False</td>\n",
       "      <td>False</td>\n",
       "      <td>False</td>\n",
       "      <td>False</td>\n",
       "      <td>False</td>\n",
       "      <td>False</td>\n",
       "      <td>False</td>\n",
       "      <td>False</td>\n",
       "      <td>False</td>\n",
       "      <td>False</td>\n",
       "    </tr>\n",
       "    <tr>\n",
       "      <th>144</th>\n",
       "      <td>False</td>\n",
       "      <td>False</td>\n",
       "      <td>False</td>\n",
       "      <td>False</td>\n",
       "      <td>False</td>\n",
       "      <td>False</td>\n",
       "      <td>False</td>\n",
       "      <td>False</td>\n",
       "      <td>False</td>\n",
       "      <td>False</td>\n",
       "      <td>False</td>\n",
       "      <td>False</td>\n",
       "      <td>False</td>\n",
       "      <td>False</td>\n",
       "      <td>False</td>\n",
       "      <td>False</td>\n",
       "    </tr>\n",
       "    <tr>\n",
       "      <th>145</th>\n",
       "      <td>False</td>\n",
       "      <td>False</td>\n",
       "      <td>False</td>\n",
       "      <td>False</td>\n",
       "      <td>False</td>\n",
       "      <td>False</td>\n",
       "      <td>False</td>\n",
       "      <td>False</td>\n",
       "      <td>False</td>\n",
       "      <td>False</td>\n",
       "      <td>False</td>\n",
       "      <td>False</td>\n",
       "      <td>False</td>\n",
       "      <td>False</td>\n",
       "      <td>False</td>\n",
       "      <td>False</td>\n",
       "    </tr>\n",
       "  </tbody>\n",
       "</table>\n",
       "<p>146 rows × 16 columns</p>\n",
       "</div>"
      ],
      "text/plain": [
       "     Country  # Summer   Gold  Silver  Bronze  Total  # Winter  Gold.1  \\\n",
       "0      False     False  False   False   False  False     False   False   \n",
       "1      False     False  False   False   False  False     False   False   \n",
       "2      False     False  False   False   False  False     False   False   \n",
       "3      False     False  False   False   False  False     False   False   \n",
       "4      False     False  False   False   False  False     False   False   \n",
       "..       ...       ...    ...     ...     ...    ...       ...     ...   \n",
       "141    False     False  False   False   False  False     False   False   \n",
       "142    False     False  False   False   False  False     False   False   \n",
       "143    False     False  False   False   False  False     False   False   \n",
       "144    False     False  False   False   False  False     False   False   \n",
       "145    False     False  False   False   False  False     False   False   \n",
       "\n",
       "     Silver.1  Bronze.1  Total.1  # Games  Gold.2  Silver.2  Bronze.2  \\\n",
       "0       False     False    False    False   False     False     False   \n",
       "1       False     False    False    False   False     False     False   \n",
       "2       False     False    False    False   False     False     False   \n",
       "3       False     False    False    False   False     False     False   \n",
       "4       False     False    False    False   False     False     False   \n",
       "..        ...       ...      ...      ...     ...       ...       ...   \n",
       "141     False     False    False    False   False     False     False   \n",
       "142     False     False    False    False   False     False     False   \n",
       "143     False     False    False    False   False     False     False   \n",
       "144     False     False    False    False   False     False     False   \n",
       "145     False     False    False    False   False     False     False   \n",
       "\n",
       "     Combined total  \n",
       "0             False  \n",
       "1             False  \n",
       "2             False  \n",
       "3             False  \n",
       "4             False  \n",
       "..              ...  \n",
       "141           False  \n",
       "142           False  \n",
       "143           False  \n",
       "144           False  \n",
       "145           False  \n",
       "\n",
       "[146 rows x 16 columns]"
      ]
     },
     "execution_count": 83,
     "metadata": {},
     "output_type": "execute_result"
    }
   ],
   "source": [
    "df_olympics.isnull() #결측치 여부 t/f로 나옴"
   ]
  },
  {
   "cell_type": "code",
   "execution_count": 85,
   "id": "31b48191",
   "metadata": {},
   "outputs": [
    {
     "data": {
      "text/plain": [
       "Country           0\n",
       "# Summer          0\n",
       "Gold              0\n",
       "Silver            0\n",
       "Bronze            0\n",
       "Total             0\n",
       "# Winter          0\n",
       "Gold.1            0\n",
       "Silver.1          0\n",
       "Bronze.1          0\n",
       "Total.1           0\n",
       "# Games           0\n",
       "Gold.2            0\n",
       "Silver.2          0\n",
       "Bronze.2          0\n",
       "Combined total    0\n",
       "dtype: int64"
      ]
     },
     "execution_count": 85,
     "metadata": {},
     "output_type": "execute_result"
    }
   ],
   "source": [
    "df_olympics.isnull().sum() #true값 합산하는 것"
   ]
  },
  {
   "cell_type": "markdown",
   "id": "26230225",
   "metadata": {},
   "source": [
    "### info(): 컬럼별 데이터 수 & 데이터 타입 한번에 확인 "
   ]
  },
  {
   "cell_type": "code",
   "execution_count": 86,
   "id": "44114510",
   "metadata": {},
   "outputs": [
    {
     "name": "stdout",
     "output_type": "stream",
     "text": [
      "<class 'pandas.core.frame.DataFrame'>\n",
      "RangeIndex: 146 entries, 0 to 145\n",
      "Data columns (total 16 columns):\n",
      " #   Column          Non-Null Count  Dtype \n",
      "---  ------          --------------  ----- \n",
      " 0   Country         146 non-null    object\n",
      " 1   # Summer        146 non-null    int64 \n",
      " 2   Gold            146 non-null    int64 \n",
      " 3   Silver          146 non-null    int64 \n",
      " 4   Bronze          146 non-null    int64 \n",
      " 5   Total           146 non-null    int64 \n",
      " 6   # Winter        146 non-null    int64 \n",
      " 7   Gold.1          146 non-null    int64 \n",
      " 8   Silver.1        146 non-null    int64 \n",
      " 9   Bronze.1        146 non-null    int64 \n",
      " 10  Total.1         146 non-null    int64 \n",
      " 11  # Games         146 non-null    int64 \n",
      " 12  Gold.2          146 non-null    int64 \n",
      " 13  Silver.2        146 non-null    int64 \n",
      " 14  Bronze.2        146 non-null    int64 \n",
      " 15  Combined total  146 non-null    int64 \n",
      "dtypes: int64(15), object(1)\n",
      "memory usage: 18.4+ KB\n"
     ]
    }
   ],
   "source": [
    "df_olympics.info()"
   ]
  },
  {
   "cell_type": "markdown",
   "id": "88e5fb6d",
   "metadata": {},
   "source": [
    "### describe(): 수치형 변수 확인 "
   ]
  },
  {
   "cell_type": "code",
   "execution_count": 87,
   "id": "47e3f1d1",
   "metadata": {},
   "outputs": [
    {
     "data": {
      "text/html": [
       "<div>\n",
       "<style scoped>\n",
       "    .dataframe tbody tr th:only-of-type {\n",
       "        vertical-align: middle;\n",
       "    }\n",
       "\n",
       "    .dataframe tbody tr th {\n",
       "        vertical-align: top;\n",
       "    }\n",
       "\n",
       "    .dataframe thead th {\n",
       "        text-align: right;\n",
       "    }\n",
       "</style>\n",
       "<table border=\"1\" class=\"dataframe\">\n",
       "  <thead>\n",
       "    <tr style=\"text-align: right;\">\n",
       "      <th></th>\n",
       "      <th># Summer</th>\n",
       "      <th>Gold</th>\n",
       "      <th>Silver</th>\n",
       "      <th>Bronze</th>\n",
       "      <th>Total</th>\n",
       "      <th># Winter</th>\n",
       "      <th>Gold.1</th>\n",
       "      <th>Silver.1</th>\n",
       "      <th>Bronze.1</th>\n",
       "      <th>Total.1</th>\n",
       "      <th># Games</th>\n",
       "      <th>Gold.2</th>\n",
       "      <th>Silver.2</th>\n",
       "      <th>Bronze.2</th>\n",
       "      <th>Combined total</th>\n",
       "    </tr>\n",
       "  </thead>\n",
       "  <tbody>\n",
       "    <tr>\n",
       "      <th>count</th>\n",
       "      <td>146.000000</td>\n",
       "      <td>146.000000</td>\n",
       "      <td>146.000000</td>\n",
       "      <td>146.000000</td>\n",
       "      <td>146.000000</td>\n",
       "      <td>146.000000</td>\n",
       "      <td>146.000000</td>\n",
       "      <td>146.000000</td>\n",
       "      <td>146.000000</td>\n",
       "      <td>146.000000</td>\n",
       "      <td>146.000000</td>\n",
       "      <td>146.000000</td>\n",
       "      <td>146.000000</td>\n",
       "      <td>146.000000</td>\n",
       "      <td>146.000000</td>\n",
       "    </tr>\n",
       "    <tr>\n",
       "      <th>mean</th>\n",
       "      <td>13.383562</td>\n",
       "      <td>32.938356</td>\n",
       "      <td>32.705479</td>\n",
       "      <td>35.136986</td>\n",
       "      <td>100.780822</td>\n",
       "      <td>6.595890</td>\n",
       "      <td>6.568493</td>\n",
       "      <td>6.561644</td>\n",
       "      <td>6.493151</td>\n",
       "      <td>19.623288</td>\n",
       "      <td>19.979452</td>\n",
       "      <td>39.506849</td>\n",
       "      <td>39.267123</td>\n",
       "      <td>41.630137</td>\n",
       "      <td>120.404110</td>\n",
       "    </tr>\n",
       "    <tr>\n",
       "      <th>std</th>\n",
       "      <td>7.006657</td>\n",
       "      <td>96.745184</td>\n",
       "      <td>80.648421</td>\n",
       "      <td>77.118416</td>\n",
       "      <td>252.700436</td>\n",
       "      <td>7.349012</td>\n",
       "      <td>18.975086</td>\n",
       "      <td>18.606996</td>\n",
       "      <td>17.499654</td>\n",
       "      <td>54.640914</td>\n",
       "      <td>13.084062</td>\n",
       "      <td>109.932471</td>\n",
       "      <td>93.984393</td>\n",
       "      <td>89.826117</td>\n",
       "      <td>291.988913</td>\n",
       "    </tr>\n",
       "    <tr>\n",
       "      <th>min</th>\n",
       "      <td>1.000000</td>\n",
       "      <td>0.000000</td>\n",
       "      <td>0.000000</td>\n",
       "      <td>0.000000</td>\n",
       "      <td>0.000000</td>\n",
       "      <td>0.000000</td>\n",
       "      <td>0.000000</td>\n",
       "      <td>0.000000</td>\n",
       "      <td>0.000000</td>\n",
       "      <td>0.000000</td>\n",
       "      <td>1.000000</td>\n",
       "      <td>0.000000</td>\n",
       "      <td>0.000000</td>\n",
       "      <td>0.000000</td>\n",
       "      <td>1.000000</td>\n",
       "    </tr>\n",
       "    <tr>\n",
       "      <th>25%</th>\n",
       "      <td>8.000000</td>\n",
       "      <td>0.000000</td>\n",
       "      <td>1.000000</td>\n",
       "      <td>1.000000</td>\n",
       "      <td>2.000000</td>\n",
       "      <td>0.000000</td>\n",
       "      <td>0.000000</td>\n",
       "      <td>0.000000</td>\n",
       "      <td>0.000000</td>\n",
       "      <td>0.000000</td>\n",
       "      <td>11.000000</td>\n",
       "      <td>0.000000</td>\n",
       "      <td>1.000000</td>\n",
       "      <td>1.000000</td>\n",
       "      <td>2.250000</td>\n",
       "    </tr>\n",
       "    <tr>\n",
       "      <th>50%</th>\n",
       "      <td>13.000000</td>\n",
       "      <td>3.000000</td>\n",
       "      <td>4.000000</td>\n",
       "      <td>6.000000</td>\n",
       "      <td>12.000000</td>\n",
       "      <td>5.000000</td>\n",
       "      <td>0.000000</td>\n",
       "      <td>0.000000</td>\n",
       "      <td>0.000000</td>\n",
       "      <td>0.000000</td>\n",
       "      <td>15.000000</td>\n",
       "      <td>3.000000</td>\n",
       "      <td>4.000000</td>\n",
       "      <td>6.500000</td>\n",
       "      <td>12.000000</td>\n",
       "    </tr>\n",
       "    <tr>\n",
       "      <th>75%</th>\n",
       "      <td>18.000000</td>\n",
       "      <td>23.000000</td>\n",
       "      <td>26.750000</td>\n",
       "      <td>28.750000</td>\n",
       "      <td>85.250000</td>\n",
       "      <td>10.000000</td>\n",
       "      <td>0.750000</td>\n",
       "      <td>1.750000</td>\n",
       "      <td>1.000000</td>\n",
       "      <td>4.750000</td>\n",
       "      <td>26.000000</td>\n",
       "      <td>24.500000</td>\n",
       "      <td>28.000000</td>\n",
       "      <td>29.000000</td>\n",
       "      <td>87.750000</td>\n",
       "    </tr>\n",
       "    <tr>\n",
       "      <th>max</th>\n",
       "      <td>27.000000</td>\n",
       "      <td>976.000000</td>\n",
       "      <td>757.000000</td>\n",
       "      <td>666.000000</td>\n",
       "      <td>2399.000000</td>\n",
       "      <td>22.000000</td>\n",
       "      <td>118.000000</td>\n",
       "      <td>111.000000</td>\n",
       "      <td>100.000000</td>\n",
       "      <td>329.000000</td>\n",
       "      <td>49.000000</td>\n",
       "      <td>1072.000000</td>\n",
       "      <td>859.000000</td>\n",
       "      <td>750.000000</td>\n",
       "      <td>2681.000000</td>\n",
       "    </tr>\n",
       "  </tbody>\n",
       "</table>\n",
       "</div>"
      ],
      "text/plain": [
       "         # Summer        Gold      Silver      Bronze        Total  \\\n",
       "count  146.000000  146.000000  146.000000  146.000000   146.000000   \n",
       "mean    13.383562   32.938356   32.705479   35.136986   100.780822   \n",
       "std      7.006657   96.745184   80.648421   77.118416   252.700436   \n",
       "min      1.000000    0.000000    0.000000    0.000000     0.000000   \n",
       "25%      8.000000    0.000000    1.000000    1.000000     2.000000   \n",
       "50%     13.000000    3.000000    4.000000    6.000000    12.000000   \n",
       "75%     18.000000   23.000000   26.750000   28.750000    85.250000   \n",
       "max     27.000000  976.000000  757.000000  666.000000  2399.000000   \n",
       "\n",
       "         # Winter      Gold.1    Silver.1    Bronze.1     Total.1     # Games  \\\n",
       "count  146.000000  146.000000  146.000000  146.000000  146.000000  146.000000   \n",
       "mean     6.595890    6.568493    6.561644    6.493151   19.623288   19.979452   \n",
       "std      7.349012   18.975086   18.606996   17.499654   54.640914   13.084062   \n",
       "min      0.000000    0.000000    0.000000    0.000000    0.000000    1.000000   \n",
       "25%      0.000000    0.000000    0.000000    0.000000    0.000000   11.000000   \n",
       "50%      5.000000    0.000000    0.000000    0.000000    0.000000   15.000000   \n",
       "75%     10.000000    0.750000    1.750000    1.000000    4.750000   26.000000   \n",
       "max     22.000000  118.000000  111.000000  100.000000  329.000000   49.000000   \n",
       "\n",
       "            Gold.2    Silver.2    Bronze.2  Combined total  \n",
       "count   146.000000  146.000000  146.000000      146.000000  \n",
       "mean     39.506849   39.267123   41.630137      120.404110  \n",
       "std     109.932471   93.984393   89.826117      291.988913  \n",
       "min       0.000000    0.000000    0.000000        1.000000  \n",
       "25%       0.000000    1.000000    1.000000        2.250000  \n",
       "50%       3.000000    4.000000    6.500000       12.000000  \n",
       "75%      24.500000   28.000000   29.000000       87.750000  \n",
       "max    1072.000000  859.000000  750.000000     2681.000000  "
      ]
     },
     "execution_count": 87,
     "metadata": {},
     "output_type": "execute_result"
    }
   ],
   "source": [
    "df_olympics.describe()"
   ]
  },
  {
   "cell_type": "markdown",
   "id": "3787cf61",
   "metadata": {},
   "source": [
    "### unique(): 특정 칼럼의 듀일한 값 확인 "
   ]
  },
  {
   "cell_type": "code",
   "execution_count": 92,
   "id": "4fc19ce4",
   "metadata": {},
   "outputs": [
    {
     "data": {
      "text/plain": [
       "array([  0,   5,  18,   1,   3, 139,   6,  12,  37,  23,  51,  59,   2,\n",
       "       201,  72,  14,  49,  43,   7,   9,  21, 101, 202, 174,  28, 153,\n",
       "        56, 236,  30, 167,  15, 198,  17, 130,  16,  25,  81,  13,  77,\n",
       "        42,  64,   4,  88, 132, 395,  45, 143,  47,  39,  33, 976,  26,\n",
       "         8], dtype=int64)"
      ]
     },
     "execution_count": 92,
     "metadata": {},
     "output_type": "execute_result"
    }
   ],
   "source": [
    "df_olympics['Gold'].unique()"
   ]
  },
  {
   "cell_type": "markdown",
   "id": "1588a096",
   "metadata": {},
   "source": [
    "### df['칼렁명']: 특정 칼럼의 값 확인 "
   ]
  },
  {
   "cell_type": "code",
   "execution_count": 90,
   "id": "d9af91bb",
   "metadata": {},
   "outputs": [
    {
     "data": {
      "text/plain": [
       "0       0\n",
       "1       5\n",
       "2      18\n",
       "3       1\n",
       "4       3\n",
       "       ..\n",
       "141    26\n",
       "142     0\n",
       "143     0\n",
       "144     3\n",
       "145     8\n",
       "Name: Gold, Length: 146, dtype: int64"
      ]
     },
     "execution_count": 90,
     "metadata": {},
     "output_type": "execute_result"
    }
   ],
   "source": [
    "df_olympics['Gold']"
   ]
  },
  {
   "cell_type": "markdown",
   "id": "2025d1aa",
   "metadata": {},
   "source": [
    "### df['칼럼명'].sort_values() : 특정 칼럼의 값을 정렳기 "
   ]
  },
  {
   "cell_type": "code",
   "execution_count": 93,
   "id": "24337dbc",
   "metadata": {},
   "outputs": [
    {
     "data": {
      "text/plain": [
       "26       0\n",
       "42       0\n",
       "75       0\n",
       "77       0\n",
       "84       0\n",
       "      ... \n",
       "44     217\n",
       "41     246\n",
       "49     272\n",
       "106    296\n",
       "135    666\n",
       "Name: Bronze, Length: 146, dtype: int64"
      ]
     },
     "execution_count": 93,
     "metadata": {},
     "output_type": "execute_result"
    }
   ],
   "source": [
    "df_olympics['Bronze'].sort_values() #default 값은 오름차순 "
   ]
  },
  {
   "cell_type": "code",
   "execution_count": 94,
   "id": "785115ca",
   "metadata": {},
   "outputs": [
    {
     "data": {
      "text/plain": [
       "135    666\n",
       "106    296\n",
       "49     272\n",
       "41     246\n",
       "44     217\n",
       "      ... \n",
       "117      0\n",
       "118      0\n",
       "29       0\n",
       "26       0\n",
       "35       0\n",
       "Name: Bronze, Length: 146, dtype: int64"
      ]
     },
     "execution_count": 94,
     "metadata": {},
     "output_type": "execute_result"
    }
   ],
   "source": [
    "df_olympics['Bronze'].sort_values(ascending=False) #내림차순"
   ]
  },
  {
   "cell_type": "markdown",
   "id": "ae6a1321",
   "metadata": {},
   "source": [
    "### count(): 데이터 개수 세기"
   ]
  },
  {
   "cell_type": "code",
   "execution_count": 96,
   "id": "87e43fc2",
   "metadata": {},
   "outputs": [
    {
     "data": {
      "text/plain": [
       "Country           146\n",
       "# Summer          146\n",
       "Gold              146\n",
       "Silver            146\n",
       "Bronze            146\n",
       "Total             146\n",
       "# Winter          146\n",
       "Gold.1            146\n",
       "Silver.1          146\n",
       "Bronze.1          146\n",
       "Total.1           146\n",
       "# Games           146\n",
       "Gold.2            146\n",
       "Silver.2          146\n",
       "Bronze.2          146\n",
       "Combined total    146\n",
       "dtype: int64"
      ]
     },
     "execution_count": 96,
     "metadata": {},
     "output_type": "execute_result"
    }
   ],
   "source": [
    "df_olympics.count() # 각 칼럼에 몇개의 데이터가 있는지 확인 할 수 있음 "
   ]
  },
  {
   "cell_type": "markdown",
   "id": "ebb284d5",
   "metadata": {},
   "source": [
    "### value_counts(): 카테고리별 데이터 값 세기"
   ]
  },
  {
   "cell_type": "code",
   "execution_count": 97,
   "id": "6311a4ab",
   "metadata": {},
   "outputs": [
    {
     "data": {
      "text/plain": [
       "0      23\n",
       "1      20\n",
       "2      13\n",
       "11      7\n",
       "4       6\n",
       "3       5\n",
       "5       5\n",
       "10      4\n",
       "8       3\n",
       "12      3\n",
       "15      3\n",
       "39      3\n",
       "28      3\n",
       "55      2\n",
       "142     2\n",
       "35      2\n",
       "29      2\n",
       "9       2\n",
       "6       2\n",
       "65      1\n",
       "13      1\n",
       "20      1\n",
       "19      1\n",
       "21      1\n",
       "80      1\n",
       "125     1\n",
       "104     1\n",
       "43      1\n",
       "7       1\n",
       "119     1\n",
       "24      1\n",
       "185     1\n",
       "27      1\n",
       "176     1\n",
       "296     1\n",
       "217     1\n",
       "25      1\n",
       "68      1\n",
       "177     1\n",
       "53      1\n",
       "78      1\n",
       "121     1\n",
       "126     1\n",
       "70      1\n",
       "45      1\n",
       "17      1\n",
       "165     1\n",
       "117     1\n",
       "246     1\n",
       "14      1\n",
       "36      1\n",
       "127     1\n",
       "81      1\n",
       "272     1\n",
       "666     1\n",
       "Name: Bronze, dtype: int64"
      ]
     },
     "execution_count": 97,
     "metadata": {},
     "output_type": "execute_result"
    }
   ],
   "source": [
    "df_olympics['Bronze'].value_counts()"
   ]
  },
  {
   "cell_type": "code",
   "execution_count": null,
   "id": "d46ae1ba",
   "metadata": {},
   "outputs": [],
   "source": []
  }
 ],
 "metadata": {
  "kernelspec": {
   "display_name": "Python 3 (ipykernel)",
   "language": "python",
   "name": "python3"
  },
  "language_info": {
   "codemirror_mode": {
    "name": "ipython",
    "version": 3
   },
   "file_extension": ".py",
   "mimetype": "text/x-python",
   "name": "python",
   "nbconvert_exporter": "python",
   "pygments_lexer": "ipython3",
   "version": "3.9.7"
  }
 },
 "nbformat": 4,
 "nbformat_minor": 5
}
