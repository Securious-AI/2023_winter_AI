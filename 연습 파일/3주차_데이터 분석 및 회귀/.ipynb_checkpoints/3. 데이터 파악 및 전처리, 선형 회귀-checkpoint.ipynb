{
 "cells": [
  {
   "cell_type": "markdown",
   "id": "2c6fc11f",
   "metadata": {},
   "source": [
    "#### 파이썬 기초에서 중점적으로 다뤄야 할 개념\n",
    "1. if-elif-else문: 전처리 시 문자열 카테고리 값을 숫자로 변환\n",
    "2. for문에 리스트 활용: 파라미터 값을 리스트에 담아 for문을 사용하며 각 파라미터를 적용함\n",
    "3. 리스트 append: 파라미터 조정하며 얻은 결과 값을 성능 리스트에 append 해야 함"
   ]
  },
  {
   "cell_type": "markdown",
   "id": "c839e4d3",
   "metadata": {},
   "source": [
    "#### 판다스 기초에서 중점적으로 다뤄야 할 것\n",
    "1. 데이터를 파악하는 기초적인 개념들 value_counts(), descibe() 등\n",
    "2. 데이터 삭제, 열 이름 변경-> 전처리 시 필요 예상\n",
    "3. 데이터프레임을 다루는 능력-> 열과 열, 열과 타겟 간의 관계를 파악\n",
    "-> 새로운 데이터 셋을 과제로 주어 위 3가지 연습! (ex 여러 질문들이 담긴 과제 수행-보데분 과제 예시)"
   ]
  },
  {
   "cell_type": "markdown",
   "id": "7af475b5",
   "metadata": {},
   "source": [
    "#### 데이터 분석 과정에 필요한 내용들 \n",
    "1. 데이터 파악 과정\n",
    "- value_counts(), describe() 등 기초 개념\n",
    "- corr()를 통한 상관관계 확인\n",
    "- 조건에 맞는 데이터 추출 능력\n",
    "2. 전처리\n",
    "- if-elif-else문을 통한 문자열 숫자로 바꾸기\n",
    "- 데이터 열 삭제 \n",
    "- 열 이름 변경\n",
    "\n",
    "++ 모델링 과정: for문에 리스트 활용, 리스트 append"
   ]
  },
  {
   "cell_type": "markdown",
   "id": "8ee132bc",
   "metadata": {},
   "source": [
    "#### 머신러닝 개념\n",
    "머신러닝(Machine Learning)은 인공지능의 분야의 하나로써 기존 컴퓨터 시스템이 미리 정해 놓은 알고리즘에 따라서 작동하는 것과 다르게 기계 스스로 패턴 및 추론을 거쳐 작업을 할 수 있는 알고리즘 및 통계 모델과 관련한 연구입니다. 머신 러닝에 기반한 알고리즘은 예측 또는 결정을 하기 위한 ‘훈련 데이터’를 기반으로 수학적인 모델을 구축하며 이러한 점은 기존의 프로그래밍과 구별되는 점입니다.\n",
    "\n",
    "  즉 쉽게 이야기 하면 기계에 많은 데이터를 주고, 이를 처리할 수 있는 최소한의 모델을 부여한 뒤 일정 시간 훈련을 시킵니다. 그렇게 되면 기계는 스스로 학습을 하고, 데이터, 모델, 훈련시간이 더해져 자신이 학습한 지식을 다른 영역에도 적용 가능할 수 있도록 발전하는 것입니다."
   ]
  },
  {
   "cell_type": "markdown",
   "id": "9b6c1985",
   "metadata": {},
   "source": [
    "### 선형회귀(Linear Regression) 모델링\n",
    "https://hleecaster.com/ml-linear-regression-concept/\n",
    "https://rebro.kr/185"
   ]
  },
  {
   "cell_type": "markdown",
   "id": "e5a3f3d0",
   "metadata": {},
   "source": [
    "머신 러닝의 가장 큰 목적은 실제 데이터를 바탕으로 모델을 생성해서 만약 다른 입력 값을 넣었을 때 발생할 아웃풋을 예측하는 데에 있다.\n",
    "\n",
    "이때 우리가 찾아낼 수 있는 가장 직관적이고 간단한 모델은 선(line)이다. 그래서 데이터를 놓고 그걸 가장 잘 설명할 수 있는 선을 찾는 분석하는 방법을 선형 회귀(Linear Regression) 분석이라 부른다.\n",
    "\n",
    "예를 들어 키와 몸무게 데이터를 펼쳐 놓고 그것들을 가장 잘 설명할 수 있는 선을 하나 잘 그어놓게 되면, 특정 인의 키를 바탕으로 몸무게를 예측할 수 있다.\n",
    "\n",
    "y = mx + b\n",
    "\n",
    "기울기 m, 절편 b에 따라 그 선의 모양이 정해지기 때문에 x를 넣었을 때 y를 구할 수 있다. 선형 회귀 분석의 목적도 결국 우리가 가진 데이터를 가장 잘 설명할 수 있는 최고의 m과 b를 얻는 것이다. 이때 최고의 선은 실제 데이터와 선을 그어 얻은 데이터 간의 오차가 최소가 되도록 할 때이다. 만약 독립 변수 x가 1개라면 단순 선형 회귀라고 하고, 2개 이상이면 다중 선형 회귀라고 한다. \n",
    "\n",
    "파이썬을 이용하여 선형 회귀 분석을 직접 진행하고자 한다. 데이터셋에서 타겟 변수를 설정하고, 데이터셋을 학습하여 타겟을 가장 잘 설명하는 선형 회귀식을 도출한다. "
   ]
  },
  {
   "cell_type": "markdown",
   "id": "60ff0b92",
   "metadata": {},
   "source": [
    "### 중고거래 게시판에 작성된 포스팅 데이터를 이용한 데이터 분석 및 이미지 수 예측 선형 회귀"
   ]
  },
  {
   "cell_type": "markdown",
   "id": "f4ce879e",
   "metadata": {},
   "source": [
    "#### 기초 데이터 파악"
   ]
  },
  {
   "cell_type": "code",
   "execution_count": 59,
   "id": "4ddb3c0f",
   "metadata": {},
   "outputs": [],
   "source": [
    "import pandas as pd"
   ]
  },
  {
   "cell_type": "code",
   "execution_count": 60,
   "id": "c15ec731",
   "metadata": {},
   "outputs": [],
   "source": [
    "df=pd.read_excel(\"Fraud_10000-1.xlsx\")"
   ]
  },
  {
   "cell_type": "code",
   "execution_count": 61,
   "id": "9c09e0d7",
   "metadata": {},
   "outputs": [
    {
     "data": {
      "text/plain": [
       "Index(['serial', 'fraud', 'day', 'membership', 'img_count', 'price',\n",
       "       'len_title', 'len_text'],\n",
       "      dtype='object')"
      ]
     },
     "execution_count": 61,
     "metadata": {},
     "output_type": "execute_result"
    }
   ],
   "source": [
    "df.columns"
   ]
  },
  {
   "cell_type": "markdown",
   "id": "0c9cfdb6",
   "metadata": {},
   "source": [
    "#### 열에 관한 설명은 아래와 같습니다.\n",
    "\n",
    "- serial: 포스팅 식별번호\n",
    "- fraud: 0은 정상글, 1은 사기글\n",
    "- day: 글 작성 요일 (1부터 월요일, 7이 일요일)\n",
    "- membership: 회원 등급\n",
    "- img_count: 포스팅에 작성된 이미지의 수\n",
    "- price: 판매자가 게시한 가격\n",
    "- len_title: 포스팅의 제목 길이\n",
    "- len_text: 포스팅의 글 길이 \n"
   ]
  },
  {
   "cell_type": "code",
   "execution_count": 62,
   "id": "1db5f20e",
   "metadata": {
    "scrolled": true
   },
   "outputs": [
    {
     "data": {
      "text/html": [
       "<div>\n",
       "<style scoped>\n",
       "    .dataframe tbody tr th:only-of-type {\n",
       "        vertical-align: middle;\n",
       "    }\n",
       "\n",
       "    .dataframe tbody tr th {\n",
       "        vertical-align: top;\n",
       "    }\n",
       "\n",
       "    .dataframe thead th {\n",
       "        text-align: right;\n",
       "    }\n",
       "</style>\n",
       "<table border=\"1\" class=\"dataframe\">\n",
       "  <thead>\n",
       "    <tr style=\"text-align: right;\">\n",
       "      <th></th>\n",
       "      <th>serial</th>\n",
       "      <th>fraud</th>\n",
       "      <th>day</th>\n",
       "      <th>membership</th>\n",
       "      <th>img_count</th>\n",
       "      <th>price</th>\n",
       "      <th>len_title</th>\n",
       "      <th>len_text</th>\n",
       "    </tr>\n",
       "  </thead>\n",
       "  <tbody>\n",
       "    <tr>\n",
       "      <th>0</th>\n",
       "      <td>19086</td>\n",
       "      <td>0</td>\n",
       "      <td>2</td>\n",
       "      <td>Silver</td>\n",
       "      <td>9</td>\n",
       "      <td>260000</td>\n",
       "      <td>29</td>\n",
       "      <td>186</td>\n",
       "    </tr>\n",
       "    <tr>\n",
       "      <th>1</th>\n",
       "      <td>45553</td>\n",
       "      <td>0</td>\n",
       "      <td>6</td>\n",
       "      <td>Bronze</td>\n",
       "      <td>9</td>\n",
       "      <td>190000</td>\n",
       "      <td>32</td>\n",
       "      <td>100</td>\n",
       "    </tr>\n",
       "    <tr>\n",
       "      <th>2</th>\n",
       "      <td>74087</td>\n",
       "      <td>0</td>\n",
       "      <td>5</td>\n",
       "      <td>Silver</td>\n",
       "      <td>11</td>\n",
       "      <td>150000</td>\n",
       "      <td>14</td>\n",
       "      <td>33</td>\n",
       "    </tr>\n",
       "    <tr>\n",
       "      <th>3</th>\n",
       "      <td>101237</td>\n",
       "      <td>0</td>\n",
       "      <td>2</td>\n",
       "      <td>Silver</td>\n",
       "      <td>6</td>\n",
       "      <td>7777</td>\n",
       "      <td>12</td>\n",
       "      <td>83</td>\n",
       "    </tr>\n",
       "    <tr>\n",
       "      <th>4</th>\n",
       "      <td>95888</td>\n",
       "      <td>0</td>\n",
       "      <td>1</td>\n",
       "      <td>Silver</td>\n",
       "      <td>315</td>\n",
       "      <td>2000</td>\n",
       "      <td>14</td>\n",
       "      <td>6679</td>\n",
       "    </tr>\n",
       "    <tr>\n",
       "      <th>...</th>\n",
       "      <td>...</td>\n",
       "      <td>...</td>\n",
       "      <td>...</td>\n",
       "      <td>...</td>\n",
       "      <td>...</td>\n",
       "      <td>...</td>\n",
       "      <td>...</td>\n",
       "      <td>...</td>\n",
       "    </tr>\n",
       "    <tr>\n",
       "      <th>9995</th>\n",
       "      <td>75279</td>\n",
       "      <td>0</td>\n",
       "      <td>2</td>\n",
       "      <td>Premium</td>\n",
       "      <td>6</td>\n",
       "      <td>110000</td>\n",
       "      <td>37</td>\n",
       "      <td>582</td>\n",
       "    </tr>\n",
       "    <tr>\n",
       "      <th>9996</th>\n",
       "      <td>696</td>\n",
       "      <td>0</td>\n",
       "      <td>5</td>\n",
       "      <td>Silver</td>\n",
       "      <td>13</td>\n",
       "      <td>2000</td>\n",
       "      <td>30</td>\n",
       "      <td>494</td>\n",
       "    </tr>\n",
       "    <tr>\n",
       "      <th>9997</th>\n",
       "      <td>73280</td>\n",
       "      <td>0</td>\n",
       "      <td>2</td>\n",
       "      <td>Premium</td>\n",
       "      <td>4</td>\n",
       "      <td>17600</td>\n",
       "      <td>18</td>\n",
       "      <td>220</td>\n",
       "    </tr>\n",
       "    <tr>\n",
       "      <th>9998</th>\n",
       "      <td>45212</td>\n",
       "      <td>0</td>\n",
       "      <td>4</td>\n",
       "      <td>Silver</td>\n",
       "      <td>11</td>\n",
       "      <td>150000</td>\n",
       "      <td>7</td>\n",
       "      <td>33</td>\n",
       "    </tr>\n",
       "    <tr>\n",
       "      <th>9999</th>\n",
       "      <td>121915</td>\n",
       "      <td>1</td>\n",
       "      <td>5</td>\n",
       "      <td>Bronze</td>\n",
       "      <td>4</td>\n",
       "      <td>220000</td>\n",
       "      <td>9</td>\n",
       "      <td>109</td>\n",
       "    </tr>\n",
       "  </tbody>\n",
       "</table>\n",
       "<p>10000 rows × 8 columns</p>\n",
       "</div>"
      ],
      "text/plain": [
       "      serial  fraud  day membership  img_count   price  len_title  len_text\n",
       "0      19086      0    2     Silver          9  260000         29       186\n",
       "1      45553      0    6     Bronze          9  190000         32       100\n",
       "2      74087      0    5     Silver         11  150000         14        33\n",
       "3     101237      0    2     Silver          6    7777         12        83\n",
       "4      95888      0    1     Silver        315    2000         14      6679\n",
       "...      ...    ...  ...        ...        ...     ...        ...       ...\n",
       "9995   75279      0    2    Premium          6  110000         37       582\n",
       "9996     696      0    5     Silver         13    2000         30       494\n",
       "9997   73280      0    2    Premium          4   17600         18       220\n",
       "9998   45212      0    4     Silver         11  150000          7        33\n",
       "9999  121915      1    5     Bronze          4  220000          9       109\n",
       "\n",
       "[10000 rows x 8 columns]"
      ]
     },
     "execution_count": 62,
     "metadata": {},
     "output_type": "execute_result"
    }
   ],
   "source": [
    "df"
   ]
  },
  {
   "cell_type": "code",
   "execution_count": 63,
   "id": "105494c4",
   "metadata": {
    "scrolled": true
   },
   "outputs": [
    {
     "data": {
      "text/html": [
       "<div>\n",
       "<style scoped>\n",
       "    .dataframe tbody tr th:only-of-type {\n",
       "        vertical-align: middle;\n",
       "    }\n",
       "\n",
       "    .dataframe tbody tr th {\n",
       "        vertical-align: top;\n",
       "    }\n",
       "\n",
       "    .dataframe thead th {\n",
       "        text-align: right;\n",
       "    }\n",
       "</style>\n",
       "<table border=\"1\" class=\"dataframe\">\n",
       "  <thead>\n",
       "    <tr style=\"text-align: right;\">\n",
       "      <th></th>\n",
       "      <th>serial</th>\n",
       "      <th>fraud</th>\n",
       "      <th>day</th>\n",
       "      <th>membership</th>\n",
       "      <th>img_count</th>\n",
       "      <th>price</th>\n",
       "      <th>len_title</th>\n",
       "      <th>len_text</th>\n",
       "    </tr>\n",
       "  </thead>\n",
       "  <tbody>\n",
       "    <tr>\n",
       "      <th>0</th>\n",
       "      <td>19086</td>\n",
       "      <td>0</td>\n",
       "      <td>2</td>\n",
       "      <td>Silver</td>\n",
       "      <td>9</td>\n",
       "      <td>260000</td>\n",
       "      <td>29</td>\n",
       "      <td>186</td>\n",
       "    </tr>\n",
       "    <tr>\n",
       "      <th>1</th>\n",
       "      <td>45553</td>\n",
       "      <td>0</td>\n",
       "      <td>6</td>\n",
       "      <td>Bronze</td>\n",
       "      <td>9</td>\n",
       "      <td>190000</td>\n",
       "      <td>32</td>\n",
       "      <td>100</td>\n",
       "    </tr>\n",
       "    <tr>\n",
       "      <th>2</th>\n",
       "      <td>74087</td>\n",
       "      <td>0</td>\n",
       "      <td>5</td>\n",
       "      <td>Silver</td>\n",
       "      <td>11</td>\n",
       "      <td>150000</td>\n",
       "      <td>14</td>\n",
       "      <td>33</td>\n",
       "    </tr>\n",
       "    <tr>\n",
       "      <th>3</th>\n",
       "      <td>101237</td>\n",
       "      <td>0</td>\n",
       "      <td>2</td>\n",
       "      <td>Silver</td>\n",
       "      <td>6</td>\n",
       "      <td>7777</td>\n",
       "      <td>12</td>\n",
       "      <td>83</td>\n",
       "    </tr>\n",
       "    <tr>\n",
       "      <th>4</th>\n",
       "      <td>95888</td>\n",
       "      <td>0</td>\n",
       "      <td>1</td>\n",
       "      <td>Silver</td>\n",
       "      <td>315</td>\n",
       "      <td>2000</td>\n",
       "      <td>14</td>\n",
       "      <td>6679</td>\n",
       "    </tr>\n",
       "  </tbody>\n",
       "</table>\n",
       "</div>"
      ],
      "text/plain": [
       "   serial  fraud  day membership  img_count   price  len_title  len_text\n",
       "0   19086      0    2     Silver          9  260000         29       186\n",
       "1   45553      0    6     Bronze          9  190000         32       100\n",
       "2   74087      0    5     Silver         11  150000         14        33\n",
       "3  101237      0    2     Silver          6    7777         12        83\n",
       "4   95888      0    1     Silver        315    2000         14      6679"
      ]
     },
     "execution_count": 63,
     "metadata": {},
     "output_type": "execute_result"
    }
   ],
   "source": [
    "df.head()"
   ]
  },
  {
   "cell_type": "code",
   "execution_count": 64,
   "id": "a162a58d",
   "metadata": {
    "scrolled": true
   },
   "outputs": [
    {
     "data": {
      "text/html": [
       "<div>\n",
       "<style scoped>\n",
       "    .dataframe tbody tr th:only-of-type {\n",
       "        vertical-align: middle;\n",
       "    }\n",
       "\n",
       "    .dataframe tbody tr th {\n",
       "        vertical-align: top;\n",
       "    }\n",
       "\n",
       "    .dataframe thead th {\n",
       "        text-align: right;\n",
       "    }\n",
       "</style>\n",
       "<table border=\"1\" class=\"dataframe\">\n",
       "  <thead>\n",
       "    <tr style=\"text-align: right;\">\n",
       "      <th></th>\n",
       "      <th>serial</th>\n",
       "      <th>fraud</th>\n",
       "      <th>day</th>\n",
       "      <th>membership</th>\n",
       "      <th>img_count</th>\n",
       "      <th>price</th>\n",
       "      <th>len_title</th>\n",
       "      <th>len_text</th>\n",
       "    </tr>\n",
       "  </thead>\n",
       "  <tbody>\n",
       "    <tr>\n",
       "      <th>9995</th>\n",
       "      <td>75279</td>\n",
       "      <td>0</td>\n",
       "      <td>2</td>\n",
       "      <td>Premium</td>\n",
       "      <td>6</td>\n",
       "      <td>110000</td>\n",
       "      <td>37</td>\n",
       "      <td>582</td>\n",
       "    </tr>\n",
       "    <tr>\n",
       "      <th>9996</th>\n",
       "      <td>696</td>\n",
       "      <td>0</td>\n",
       "      <td>5</td>\n",
       "      <td>Silver</td>\n",
       "      <td>13</td>\n",
       "      <td>2000</td>\n",
       "      <td>30</td>\n",
       "      <td>494</td>\n",
       "    </tr>\n",
       "    <tr>\n",
       "      <th>9997</th>\n",
       "      <td>73280</td>\n",
       "      <td>0</td>\n",
       "      <td>2</td>\n",
       "      <td>Premium</td>\n",
       "      <td>4</td>\n",
       "      <td>17600</td>\n",
       "      <td>18</td>\n",
       "      <td>220</td>\n",
       "    </tr>\n",
       "    <tr>\n",
       "      <th>9998</th>\n",
       "      <td>45212</td>\n",
       "      <td>0</td>\n",
       "      <td>4</td>\n",
       "      <td>Silver</td>\n",
       "      <td>11</td>\n",
       "      <td>150000</td>\n",
       "      <td>7</td>\n",
       "      <td>33</td>\n",
       "    </tr>\n",
       "    <tr>\n",
       "      <th>9999</th>\n",
       "      <td>121915</td>\n",
       "      <td>1</td>\n",
       "      <td>5</td>\n",
       "      <td>Bronze</td>\n",
       "      <td>4</td>\n",
       "      <td>220000</td>\n",
       "      <td>9</td>\n",
       "      <td>109</td>\n",
       "    </tr>\n",
       "  </tbody>\n",
       "</table>\n",
       "</div>"
      ],
      "text/plain": [
       "      serial  fraud  day membership  img_count   price  len_title  len_text\n",
       "9995   75279      0    2    Premium          6  110000         37       582\n",
       "9996     696      0    5     Silver         13    2000         30       494\n",
       "9997   73280      0    2    Premium          4   17600         18       220\n",
       "9998   45212      0    4     Silver         11  150000          7        33\n",
       "9999  121915      1    5     Bronze          4  220000          9       109"
      ]
     },
     "execution_count": 64,
     "metadata": {},
     "output_type": "execute_result"
    }
   ],
   "source": [
    "df.tail()"
   ]
  },
  {
   "cell_type": "code",
   "execution_count": 65,
   "id": "bb9cac6d",
   "metadata": {
    "scrolled": false
   },
   "outputs": [
    {
     "data": {
      "text/html": [
       "<div>\n",
       "<style scoped>\n",
       "    .dataframe tbody tr th:only-of-type {\n",
       "        vertical-align: middle;\n",
       "    }\n",
       "\n",
       "    .dataframe tbody tr th {\n",
       "        vertical-align: top;\n",
       "    }\n",
       "\n",
       "    .dataframe thead th {\n",
       "        text-align: right;\n",
       "    }\n",
       "</style>\n",
       "<table border=\"1\" class=\"dataframe\">\n",
       "  <thead>\n",
       "    <tr style=\"text-align: right;\">\n",
       "      <th></th>\n",
       "      <th>serial</th>\n",
       "      <th>fraud</th>\n",
       "      <th>day</th>\n",
       "      <th>img_count</th>\n",
       "      <th>price</th>\n",
       "      <th>len_title</th>\n",
       "      <th>len_text</th>\n",
       "    </tr>\n",
       "  </thead>\n",
       "  <tbody>\n",
       "    <tr>\n",
       "      <th>count</th>\n",
       "      <td>10000.000000</td>\n",
       "      <td>10000.000000</td>\n",
       "      <td>10000.000000</td>\n",
       "      <td>10000.000000</td>\n",
       "      <td>1.000000e+04</td>\n",
       "      <td>10000.000000</td>\n",
       "      <td>10000.000000</td>\n",
       "    </tr>\n",
       "    <tr>\n",
       "      <th>mean</th>\n",
       "      <td>70552.041400</td>\n",
       "      <td>0.231200</td>\n",
       "      <td>3.963900</td>\n",
       "      <td>21.417900</td>\n",
       "      <td>3.762313e+05</td>\n",
       "      <td>25.220500</td>\n",
       "      <td>539.706700</td>\n",
       "    </tr>\n",
       "    <tr>\n",
       "      <th>std</th>\n",
       "      <td>40728.433926</td>\n",
       "      <td>0.421621</td>\n",
       "      <td>2.063255</td>\n",
       "      <td>88.709617</td>\n",
       "      <td>1.736910e+06</td>\n",
       "      <td>15.060271</td>\n",
       "      <td>2098.945413</td>\n",
       "    </tr>\n",
       "    <tr>\n",
       "      <th>min</th>\n",
       "      <td>31.000000</td>\n",
       "      <td>0.000000</td>\n",
       "      <td>1.000000</td>\n",
       "      <td>3.000000</td>\n",
       "      <td>2.000000e+03</td>\n",
       "      <td>2.000000</td>\n",
       "      <td>0.000000</td>\n",
       "    </tr>\n",
       "    <tr>\n",
       "      <th>25%</th>\n",
       "      <td>35469.500000</td>\n",
       "      <td>0.000000</td>\n",
       "      <td>2.000000</td>\n",
       "      <td>7.000000</td>\n",
       "      <td>1.500000e+04</td>\n",
       "      <td>15.000000</td>\n",
       "      <td>89.000000</td>\n",
       "    </tr>\n",
       "    <tr>\n",
       "      <th>50%</th>\n",
       "      <td>69953.000000</td>\n",
       "      <td>0.000000</td>\n",
       "      <td>4.000000</td>\n",
       "      <td>9.000000</td>\n",
       "      <td>7.000000e+04</td>\n",
       "      <td>22.000000</td>\n",
       "      <td>164.000000</td>\n",
       "    </tr>\n",
       "    <tr>\n",
       "      <th>75%</th>\n",
       "      <td>106126.750000</td>\n",
       "      <td>0.000000</td>\n",
       "      <td>6.000000</td>\n",
       "      <td>13.000000</td>\n",
       "      <td>2.600000e+05</td>\n",
       "      <td>32.000000</td>\n",
       "      <td>296.000000</td>\n",
       "    </tr>\n",
       "    <tr>\n",
       "      <th>max</th>\n",
       "      <td>141053.000000</td>\n",
       "      <td>1.000000</td>\n",
       "      <td>7.000000</td>\n",
       "      <td>2293.000000</td>\n",
       "      <td>1.000000e+08</td>\n",
       "      <td>140.000000</td>\n",
       "      <td>32767.000000</td>\n",
       "    </tr>\n",
       "  </tbody>\n",
       "</table>\n",
       "</div>"
      ],
      "text/plain": [
       "              serial         fraud           day     img_count         price  \\\n",
       "count   10000.000000  10000.000000  10000.000000  10000.000000  1.000000e+04   \n",
       "mean    70552.041400      0.231200      3.963900     21.417900  3.762313e+05   \n",
       "std     40728.433926      0.421621      2.063255     88.709617  1.736910e+06   \n",
       "min        31.000000      0.000000      1.000000      3.000000  2.000000e+03   \n",
       "25%     35469.500000      0.000000      2.000000      7.000000  1.500000e+04   \n",
       "50%     69953.000000      0.000000      4.000000      9.000000  7.000000e+04   \n",
       "75%    106126.750000      0.000000      6.000000     13.000000  2.600000e+05   \n",
       "max    141053.000000      1.000000      7.000000   2293.000000  1.000000e+08   \n",
       "\n",
       "          len_title      len_text  \n",
       "count  10000.000000  10000.000000  \n",
       "mean      25.220500    539.706700  \n",
       "std       15.060271   2098.945413  \n",
       "min        2.000000      0.000000  \n",
       "25%       15.000000     89.000000  \n",
       "50%       22.000000    164.000000  \n",
       "75%       32.000000    296.000000  \n",
       "max      140.000000  32767.000000  "
      ]
     },
     "execution_count": 65,
     "metadata": {},
     "output_type": "execute_result"
    }
   ],
   "source": [
    "df.describe()"
   ]
  },
  {
   "cell_type": "markdown",
   "id": "d3412ad9",
   "metadata": {},
   "source": [
    "### 전처리\n",
    "\n",
    "데이터 전처리는 기존의 데이터를 머신러닝 알고리즘에 알맞는 데이터로 바꾸는 과정이다.\n",
    "\n",
    "https://davinci-ai.tistory.com/15"
   ]
  },
  {
   "cell_type": "markdown",
   "id": "2c91f032",
   "metadata": {},
   "source": [
    "#### 1. 데이터 Cleaning\n",
    "1) 결측값 처리\n",
    "\n",
    "대부분의 머신러닝 알고리즘은 결측값이 있을 때 제대로 역할을 하지 못하므로 결측값을 처리해주어야 한다."
   ]
  },
  {
   "cell_type": "code",
   "execution_count": 66,
   "id": "d203e6b5",
   "metadata": {
    "scrolled": true
   },
   "outputs": [
    {
     "data": {
      "text/plain": [
       "serial        0\n",
       "fraud         0\n",
       "day           0\n",
       "membership    0\n",
       "img_count     0\n",
       "price         0\n",
       "len_title     0\n",
       "len_text      0\n",
       "dtype: int64"
      ]
     },
     "execution_count": 66,
     "metadata": {},
     "output_type": "execute_result"
    }
   ],
   "source": [
    "df.isnull().sum()\n",
    "#결측값 없음 확인"
   ]
  },
  {
   "cell_type": "markdown",
   "id": "45144c12",
   "metadata": {},
   "source": [
    "2) 필요없는 열 drop\n",
    "\n",
    "타겟과의 연관성이 없는 열의 경우 학습에 방해가 될 수 있기 때문에 제거해야 한다. \n",
    "\n",
    "이 데이터셋의 경우 'serial'열은 단지 포스팅 식별번호일 뿐 타겟인 이미지 수와 전혀 연관이 없는 열이므로 제거해야 한다,"
   ]
  },
  {
   "cell_type": "code",
   "execution_count": 67,
   "id": "f997d94c",
   "metadata": {},
   "outputs": [],
   "source": [
    "df=df.drop(columns='serial')"
   ]
  },
  {
   "cell_type": "code",
   "execution_count": 68,
   "id": "e4763d5c",
   "metadata": {},
   "outputs": [
    {
     "data": {
      "text/plain": [
       "Index(['fraud', 'day', 'membership', 'img_count', 'price', 'len_title',\n",
       "       'len_text'],\n",
       "      dtype='object')"
      ]
     },
     "execution_count": 68,
     "metadata": {},
     "output_type": "execute_result"
    }
   ],
   "source": [
    "df.columns\n",
    "#제거 후 잘 처리되었는지 확인하는 것 중요"
   ]
  },
  {
   "cell_type": "markdown",
   "id": "a5928ae6",
   "metadata": {},
   "source": [
    "++3) 이상값처리?"
   ]
  },
  {
   "cell_type": "markdown",
   "id": "a5e5e816",
   "metadata": {},
   "source": [
    "#### 2) 문자 데이터 handling\n",
    "대부분의 머신러닝 알고리즘은 숫자 데이터로 학습하는 것을 선호하며 데이터에 문자가 존재하는 경우 이를 숫자형 데이터로 변환해주어야 한다."
   ]
  },
  {
   "cell_type": "code",
   "execution_count": 69,
   "id": "aa938743",
   "metadata": {},
   "outputs": [
    {
     "data": {
      "text/plain": [
       "(array([0, 1, 0, ..., 4, 0, 1], dtype=int64),\n",
       " Index(['Silver', 'Bronze', 'NoLevel', 'Gold', 'Premium', 'VIP'], dtype='object'))"
      ]
     },
     "execution_count": 69,
     "metadata": {},
     "output_type": "execute_result"
    }
   ],
   "source": [
    "#1 factorize() 이용\n",
    "df['membership'].factorize()"
   ]
  },
  {
   "cell_type": "code",
   "execution_count": 70,
   "id": "c33aaa56",
   "metadata": {},
   "outputs": [],
   "source": [
    "#2 파이썬 if,def,apply 이용\n",
    "def changename(feature):\n",
    "    if 'Silver' in feature:\n",
    "        feature=1\n",
    "    elif 'Bronze' in feature:\n",
    "        feature=2\n",
    "    elif 'Premium' in feature:\n",
    "        feature=3\n",
    "    elif 'Gold'in feature:\n",
    "        feature=4\n",
    "    elif 'NoLevel'in feature:\n",
    "        feature=5\n",
    "    else:\n",
    "        feature=6\n",
    "    return feature\n",
    "    \n",
    "df['membership']=df['membership'].apply(changename)"
   ]
  },
  {
   "cell_type": "code",
   "execution_count": 71,
   "id": "7e8be3d4",
   "metadata": {
    "scrolled": true
   },
   "outputs": [
    {
     "data": {
      "text/plain": [
       "1    8165\n",
       "2    1279\n",
       "3     335\n",
       "4     216\n",
       "5       4\n",
       "6       1\n",
       "Name: membership, dtype: int64"
      ]
     },
     "execution_count": 71,
     "metadata": {},
     "output_type": "execute_result"
    }
   ],
   "source": [
    "#변환 후 잘 처리되었는지 및 분포 확인\n",
    "df['membership'].value_counts()"
   ]
  },
  {
   "cell_type": "markdown",
   "id": "0c65ac3e",
   "metadata": {},
   "source": [
    "++ 원핫인코딩 개념?"
   ]
  },
  {
   "cell_type": "markdown",
   "id": "a05dee3b",
   "metadata": {},
   "source": [
    "### 선형회귀 적용"
   ]
  },
  {
   "cell_type": "markdown",
   "id": "b976097a",
   "metadata": {},
   "source": [
    "#### 데이터 셋 분리\n",
    "모델의 성능 측정:주어진 데이터를 학습하여 타겟을 예측하는 모델을 생성한 뒤 새로운 데이터의 타겟을 예측\n",
    "\n",
    "-> 주어진 데이터를 train, test 셋으로 분류하여 train 데이터를 학습하여 모델을 생성한 뒤, test 셋의 타겟을 예측하고 실제 test 셋의 타겟과 비교하여 모델의 성능을 평가할 예정"
   ]
  },
  {
   "cell_type": "code",
   "execution_count": 72,
   "id": "6394c60f",
   "metadata": {},
   "outputs": [],
   "source": [
    "#데이터셋 분할을 위해 train_test_split 함수를 이용\n",
    "from sklearn.model_selection import train_test_split"
   ]
  },
  {
   "cell_type": "code",
   "execution_count": 73,
   "id": "7e0d7632",
   "metadata": {},
   "outputs": [],
   "source": [
    "X_features=df.drop(columns='img_count')\n",
    "X_train, X_test, y_train, y_test= train_test_split(X_features, df['img_count'], random_state=42)\n",
    "#X는 타겟을 뺀 나머지 열, y는 타겟(이미지 개수)\n",
    "#train_test_split함수를 통해 train,test 셋 분리 75:25 비율"
   ]
  },
  {
   "cell_type": "markdown",
   "id": "b27c42e8",
   "metadata": {},
   "source": [
    "#### 회귀 모델 적용"
   ]
  },
  {
   "cell_type": "code",
   "execution_count": 74,
   "id": "1974a64b",
   "metadata": {},
   "outputs": [],
   "source": [
    "#알고리즘 선택-LinearRegresion 임포트\n",
    "from sklearn.linear_model import LinearRegression "
   ]
  },
  {
   "cell_type": "code",
   "execution_count": 75,
   "id": "2ae0457f",
   "metadata": {},
   "outputs": [],
   "source": [
    "lr = LinearRegression().fit(X_train, y_train)\n",
    "#train 데이터셋을 가지고 모델을 만드는 것\n",
    "#LinearRegression 모델이 만들어져 변수 lr에 저장됨"
   ]
  },
  {
   "cell_type": "code",
   "execution_count": 76,
   "id": "b04333b3",
   "metadata": {
    "scrolled": true
   },
   "outputs": [
    {
     "name": "stdout",
     "output_type": "stream",
     "text": [
      "number of coefficients: 6\n",
      "lr.coef_: [-4.87185185e-01  1.05715164e+00 -1.81179652e+00 -5.67507018e-07\n",
      "  1.72501089e-01  2.83246192e-02]\n",
      "lr.intercept_: 0.200523644238924\n",
      "Training set score: 0.48\n",
      "Test set score: 0.44\n"
     ]
    }
   ],
   "source": [
    "print(\"number of coefficients:\", len(lr.coef_))\n",
    "print(\"lr.coef_:\", lr.coef_) \n",
    "print(\"lr.intercept_:\", lr.intercept_)\n",
    "print(\"Training set score: {:.2f}\".format(lr.score(X_train, y_train)))\n",
    "print(\"Test set score: {:.2f}\".format(lr.score(X_test, y_test)))"
   ]
  },
  {
   "cell_type": "markdown",
   "id": "c2cef1f2",
   "metadata": {},
   "source": [
    "타겟 이외의 열들의 개수가 여러 개이므로 다중 선형 회귀임. 각 열들에 대한 기울기는 coefficient라고 하며 lr.coef_에 저장되어 있다. 절편은 lr_intercept에 저장되어있다. \n",
    "\n",
    "train 데이터를 학습하여 train데이터와 test 데이터에 타겟 예측을 진행하였고 이에 대한 정확률은 score 함수를 통해 확인할 수 있다. 위에서는 train에 대해서는 0.48, test에 대해서는 0.44의 정확률을 보인다........."
   ]
  },
  {
   "cell_type": "markdown",
   "id": "69bebbc8",
   "metadata": {},
   "source": [
    "..내가 안한건 이상치 처리랑 원핫인코딩바께 없는데 왤케 ..성능이...이렇죠...?.....?ㅠ........."
   ]
  }
 ],
 "metadata": {
  "kernelspec": {
   "display_name": "Python 3 (ipykernel)",
   "language": "python",
   "name": "python3"
  },
  "language_info": {
   "codemirror_mode": {
    "name": "ipython",
    "version": 3
   },
   "file_extension": ".py",
   "mimetype": "text/x-python",
   "name": "python",
   "nbconvert_exporter": "python",
   "pygments_lexer": "ipython3",
   "version": "3.9.7"
  }
 },
 "nbformat": 4,
 "nbformat_minor": 5
}
