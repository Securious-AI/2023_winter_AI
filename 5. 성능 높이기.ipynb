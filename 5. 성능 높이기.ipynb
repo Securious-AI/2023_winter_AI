{
 "cells": [
  {
   "cell_type": "markdown",
   "id": "79ef0936",
   "metadata": {},
   "source": [
    "01/19~01/22\n",
    "4. breast_cancer 데이터 활용 실습 진행 \n",
    "=> KNN, Decision Tree, Random Forest 이외에 다른 분류 이용해보거나 조사, 해당 기법들 각각 설명, 결과 설명 등\n",
    "5. 3, 4에서 만들었던 모델의 성능을 높이는 방법을 각자 희망하는대로 하여 성능을 높이고 그 내용과 코드를 주석과 마크다운을 이용해서 정리하기"
   ]
  },
  {
   "cell_type": "markdown",
   "id": "e1bf78e3",
   "metadata": {},
   "source": [
    "모델의 성능을 높이는 방법\n",
    "1. 각 모델의 매개변수 조정\n",
    "2. 스케일링\n",
    "3. 오버샘플링, 언더샘플링"
   ]
  },
  {
   "cell_type": "code",
   "execution_count": 2,
   "id": "bc533bd2",
   "metadata": {},
   "outputs": [],
   "source": [
    "#과연 어디까지 가르쳐야 할까........"
   ]
  },
  {
   "cell_type": "markdown",
   "id": "5004ec5a",
   "metadata": {},
   "source": [
    "## LinearRegression"
   ]
  },
  {
   "cell_type": "code",
   "execution_count": 3,
   "id": "b0764b54",
   "metadata": {},
   "outputs": [
    {
     "name": "stderr",
     "output_type": "stream",
     "text": [
      "/Users/ohsongmi/opt/anaconda3/lib/python3.9/site-packages/sklearn/utils/deprecation.py:87: FutureWarning: Function load_boston is deprecated; `load_boston` is deprecated in 1.0 and will be removed in 1.2.\n",
      "\n",
      "    The Boston housing prices dataset has an ethical problem. You can refer to\n",
      "    the documentation of this function for further details.\n",
      "\n",
      "    The scikit-learn maintainers therefore strongly discourage the use of this\n",
      "    dataset unless the purpose of the code is to study and educate about\n",
      "    ethical issues in data science and machine learning.\n",
      "\n",
      "    In this special case, you can fetch the dataset from the original\n",
      "    source::\n",
      "\n",
      "        import pandas as pd\n",
      "        import numpy as np\n",
      "\n",
      "        data_url = \"http://lib.stat.cmu.edu/datasets/boston\"\n",
      "        raw_df = pd.read_csv(data_url, sep=\"\\s+\", skiprows=22, header=None)\n",
      "        data = np.hstack([raw_df.values[::2, :], raw_df.values[1::2, :2]])\n",
      "        target = raw_df.values[1::2, 2]\n",
      "\n",
      "    Alternative datasets include the California housing dataset (i.e.\n",
      "    :func:`~sklearn.datasets.fetch_california_housing`) and the Ames housing\n",
      "    dataset. You can load the datasets as follows::\n",
      "\n",
      "        from sklearn.datasets import fetch_california_housing\n",
      "        housing = fetch_california_housing()\n",
      "\n",
      "    for the California housing dataset and::\n",
      "\n",
      "        from sklearn.datasets import fetch_openml\n",
      "        housing = fetch_openml(name=\"house_prices\", as_frame=True)\n",
      "\n",
      "    for the Ames housing dataset.\n",
      "  warnings.warn(msg, category=FutureWarning)\n"
     ]
    }
   ],
   "source": [
    "from sklearn import datasets\n",
    "housing = datasets.load_boston()"
   ]
  },
  {
   "cell_type": "code",
   "execution_count": 78,
   "id": "8ca43626",
   "metadata": {},
   "outputs": [],
   "source": [
    "from sklearn.model_selection import train_test_split\n",
    "\n",
    "X_train, X_test, y_train, y_test=train_test_split(housing.data, housing.target, random_state=0)"
   ]
  },
  {
   "cell_type": "code",
   "execution_count": 6,
   "id": "dec8c3fc",
   "metadata": {},
   "outputs": [],
   "source": [
    "from sklearn.linear_model import LinearRegression"
   ]
  },
  {
   "cell_type": "code",
   "execution_count": 7,
   "id": "879f38a4",
   "metadata": {},
   "outputs": [
    {
     "name": "stdout",
     "output_type": "stream",
     "text": [
      "Accuracy on training set: 0.770\n",
      "Accuracy on test set: 0.635\n"
     ]
    }
   ],
   "source": [
    "lr = LinearRegression()\n",
    "lr.fit(X_train, y_train)\n",
    "print(\"Accuracy on training set: {:.3f}\".format(lr.score(X_train, y_train))) \n",
    "print(\"Accuracy on test set: {:.3f}\".format(lr.score(X_test, y_test)))"
   ]
  },
  {
   "cell_type": "markdown",
   "id": "528df8e6",
   "metadata": {},
   "source": [
    "#### LinearRegression의 단점: 조정할 매개변수가 없다. 모델의 성능을 높이기 위해서 다른 방법들이 필요\n",
    "#### 이때 스케일링을 잠깐 언급 정도는 할 수 있겠지만 한꺼번에 가르치는 것은 받아들이기 어려울 것으로 예상...\n",
    "#### 그래도 언젠가는 가르칠 가능성이 크니 미리 해보자면.."
   ]
  },
  {
   "cell_type": "markdown",
   "id": "ca9267b4",
   "metadata": {},
   "source": [
    "## 스케일링"
   ]
  },
  {
   "cell_type": "markdown",
   "id": "6f357998",
   "metadata": {},
   "source": [
    "피처들의 단위 차이로 인해 숫자의 스케일이 크게 달라지는 경우, 각 피처의 통계적 속성이 동일한 스케일에 있도록 보장하기 위해 진행\n",
    "1. StandardScaler: 평균이 0, 분산이 1 -> 데이터를 정규분포로 만듬, 이상치의 영향이 유지, 회귀보다 분류에 이용,  최솟값과 최댓값의 크기 제한X, \n",
    "2. MinMaxScaler: 데이터를 0-1 사이에 존재하도록 만듬(가장 작은 값이 0, 가장 큰 값이 1), 이상치의 영향이 줄어듬, 분류보다 회귀\n",
    "3. RobutScaler: 중간값과 사분위값 사용, 이상치의 영향을 최소화한다\n",
    "4. Normalizer: 각 데이터 사이의 유클리드 거리가 1이 되도록 만듬(반지름이 1인 원의 경계선에 데이터 점을 투영), 일반적인 전처리 X, 데이터의 방향(각도)가 중요한 경우에 사용"
   ]
  },
  {
   "cell_type": "code",
   "execution_count": 79,
   "id": "aec7e2d8",
   "metadata": {},
   "outputs": [],
   "source": [
    "from sklearn.preprocessing import MinMaxScaler\n",
    "\n",
    "scaler=MinMaxScaler()"
   ]
  },
  {
   "cell_type": "code",
   "execution_count": 80,
   "id": "b4df4128",
   "metadata": {},
   "outputs": [],
   "source": [
    "scaler.fit(X_train)\n",
    "\n",
    "X_train_scaled = scaler.transform(X_train)\n",
    "X_test_scaled = scaler.transform(X_test)"
   ]
  },
  {
   "cell_type": "code",
   "execution_count": 81,
   "id": "13a494b8",
   "metadata": {},
   "outputs": [
    {
     "name": "stdout",
     "output_type": "stream",
     "text": [
      "Accuracy on training set: 0.770\n",
      "Accuracy on training set: 0.635\n"
     ]
    }
   ],
   "source": [
    "lr = LinearRegression().fit(X_train_scaled, y_train)\n",
    "print(\"Accuracy on training set: {:.3f}\".format(lr.score(X_train_scaled, y_train)))\n",
    "print(\"Accuracy on training set: {:.3f}\".format(lr.score(X_test_scaled, y_test)))"
   ]
  },
  {
   "cell_type": "markdown",
   "id": "fa89b7ca",
   "metadata": {},
   "source": [
    "# KNN"
   ]
  },
  {
   "cell_type": "markdown",
   "id": "87546111",
   "metadata": {},
   "source": [
    "매개변수: n_neighbors (이웃의 수)"
   ]
  },
  {
   "cell_type": "code",
   "execution_count": 8,
   "id": "7ce4ebd0",
   "metadata": {},
   "outputs": [],
   "source": [
    "from sklearn.datasets import load_breast_cancer"
   ]
  },
  {
   "cell_type": "code",
   "execution_count": 9,
   "id": "7989cc41",
   "metadata": {},
   "outputs": [],
   "source": [
    "cancer = load_breast_cancer()"
   ]
  },
  {
   "cell_type": "code",
   "execution_count": 10,
   "id": "84964a37",
   "metadata": {},
   "outputs": [],
   "source": [
    "X_train, X_test, y_train, y_test=train_test_split(cancer.data, cancer.target, stratify=cancer.target, random_state=0)"
   ]
  },
  {
   "cell_type": "code",
   "execution_count": 16,
   "id": "a9d53f41",
   "metadata": {},
   "outputs": [],
   "source": [
    "from sklearn.neighbors import KNeighborsClassifier\n",
    "import matplotlib.pyplot as plt"
   ]
  },
  {
   "cell_type": "code",
   "execution_count": 12,
   "id": "1f361212",
   "metadata": {},
   "outputs": [
    {
     "name": "stdout",
     "output_type": "stream",
     "text": [
      "Accuracy on training set: 1.000\n",
      "Accuracy on test set: 0.916\n"
     ]
    }
   ],
   "source": [
    "knn = KNeighborsClassifier(n_neighbors=1)\n",
    "knn.fit(X_train, y_train)\n",
    "print(\"Accuracy on training set: {:.3f}\".format(knn.score(X_train, y_train))) \n",
    "print(\"Accuracy on test set: {:.3f}\".format(knn.score(X_test, y_test)))"
   ]
  },
  {
   "cell_type": "code",
   "execution_count": 18,
   "id": "cd0a56ca",
   "metadata": {},
   "outputs": [
    {
     "data": {
      "text/plain": [
       "<matplotlib.legend.Legend at 0x7fd1c2714eb0>"
      ]
     },
     "execution_count": 18,
     "metadata": {},
     "output_type": "execute_result"
    },
    {
     "data": {
      "image/png": "[encoded data removed]",
      "text/plain": [
       "<Figure size 432x288 with 1 Axes>"
      ]
     },
     "metadata": {
      "needs_background": "light"
     },
     "output_type": "display_data"
    }
   ],
   "source": [
    "#매개변수 조정 결과를 한번에 보기 위해 시각화\n",
    "#테스트 정확도가 가장 높을 때 매개변수를 선택\n",
    "\n",
    "training_accuracy = [] #리스트 생성: 이 코드를 사용할 때 항상 리스트를 초기화하는 것 주의!!\n",
    "test_accuracy = []\n",
    "\n",
    "neighbors_settings = range(1, 15) #범위 지정\n",
    "for n_neighbors in neighbors_settings: #지정한 범위 안에서 아래 코드 반복\n",
    "    knn = KNeighborsClassifier(n_neighbors = n_neighbors) #매개변수를 바꿈\n",
    "    knn.fit( X_train, y_train) \n",
    "    training_accuracy.append(knn.score( X_train, y_train))  #앞서 만든 리스트에 정확도를 추가\n",
    "    test_accuracy.append(knn.score( X_test, y_test)) \n",
    "    \n",
    "plt.plot(neighbors_settings, training_accuracy, label =\" training accuracy\") \n",
    "plt.plot(neighbors_settings, test_accuracy, label =\" test accuracy\") \n",
    "plt.ylabel(\"Accuracy\") \n",
    "plt.xlabel(\"n_neighbors\") \n",
    "plt.legend()"
   ]
  },
  {
   "cell_type": "code",
   "execution_count": 19,
   "id": "5766c04b",
   "metadata": {},
   "outputs": [
    {
     "name": "stdout",
     "output_type": "stream",
     "text": [
      "Accuracy on training set: 0.946\n",
      "Accuracy on test set: 0.923\n"
     ]
    }
   ],
   "source": [
    "knn = KNeighborsClassifier(n_neighbors=7)\n",
    "knn.fit(X_train, y_train)\n",
    "print(\"Accuracy on training set: {:.3f}\".format(knn.score(X_train, y_train))) \n",
    "print(\"Accuracy on test set: {:.3f}\".format(knn.score(X_test, y_test)))"
   ]
  },
  {
   "cell_type": "markdown",
   "id": "7fa37a16",
   "metadata": {},
   "source": [
    "# Decision Tree"
   ]
  },
  {
   "cell_type": "markdown",
   "id": "24d753be",
   "metadata": {},
   "source": [
    "매개변수: max_depth(나무의 깊이), min_samples_split(노드를 분할할 때 필요한 최소 샘플 수), min_samples_leaf(리프노드에 있어야하는 최소 샘플 수), max_leaf_nodes(리프노드의 최대 갯수)\n",
    "#### 과적합을 막기위해 꼭 필요\n",
    "#### *스케일링 불필요"
   ]
  },
  {
   "cell_type": "code",
   "execution_count": 20,
   "id": "2516c86b",
   "metadata": {},
   "outputs": [],
   "source": [
    "from sklearn.tree import DecisionTreeClassifier"
   ]
  },
  {
   "cell_type": "code",
   "execution_count": 22,
   "id": "68a2d475",
   "metadata": {},
   "outputs": [
    {
     "name": "stdout",
     "output_type": "stream",
     "text": [
      "Accuracy on training set: 1.000\n",
      "Accuracy on test set: 0.902\n"
     ]
    }
   ],
   "source": [
    "tree = DecisionTreeClassifier(random_state=0)\n",
    "tree.fit(X_train, y_train)\n",
    "print(\"Accuracy on training set: {:.3f}\".format(tree.score(X_train, y_train))) \n",
    "print(\"Accuracy on test set: {:.3f}\".format(tree.score(X_test, y_test)))"
   ]
  },
  {
   "cell_type": "code",
   "execution_count": 24,
   "id": "f14ee9fc",
   "metadata": {},
   "outputs": [
    {
     "name": "stdout",
     "output_type": "stream",
     "text": [
      "Accuracy on training set: 0.977\n",
      "Accuracy on test set: 0.916\n"
     ]
    }
   ],
   "source": [
    "tree = DecisionTreeClassifier(max_depth=3,random_state=0)\n",
    "tree.fit(X_train, y_train)\n",
    "print(\"Accuracy on training set: {:.3f}\".format(tree.score(X_train, y_train))) \n",
    "print(\"Accuracy on test set: {:.3f}\".format(tree.score(X_test, y_test)))"
   ]
  },
  {
   "cell_type": "code",
   "execution_count": 26,
   "id": "119802ca",
   "metadata": {},
   "outputs": [
    {
     "name": "stdout",
     "output_type": "stream",
     "text": [
      "Accuracy on training set: 0.977\n",
      "Accuracy on test set: 0.937\n"
     ]
    }
   ],
   "source": [
    "tree = DecisionTreeClassifier(max_leaf_nodes=7, random_state=0)\n",
    "tree.fit(X_train, y_train)\n",
    "print(\"Accuracy on training set: {:.3f}\".format(tree.score(X_train, y_train))) \n",
    "print(\"Accuracy on test set: {:.3f}\".format(tree.score(X_test, y_test)))"
   ]
  },
  {
   "cell_type": "markdown",
   "id": "1bcc9bf1",
   "metadata": {},
   "source": [
    "훈련 데이터에 대한 정확도는 낮아지지만 테스트 데이터에 대한 정확도는 높아짐\n",
    "-> 과적합 방지 가능"
   ]
  },
  {
   "cell_type": "markdown",
   "id": "68cb4fc8",
   "metadata": {},
   "source": [
    "# Random Forest"
   ]
  },
  {
   "cell_type": "markdown",
   "id": "40b7279b",
   "metadata": {},
   "source": [
    "#### 각기 다른 트리를 만드는 방법: 1. bootstrapping sample: 샘플 무작위 추출(원본 데이터와 크기는 같지만 내용이 다름, 일부 데이터의 반복 추출 허용) 2. 알고리즘에 사용되는 피처 무작위 선택\n",
    "매개변수: n_estimators(생성되는 나무 갯수, 많을수록 좋음, 기본값=100), max_features(한 트리에서 선택 가능한 피처 수<-각 트리가 다른 모양을 가지기 위해 필요한 임의성 주입, 작을수록 과적합 가능성이 줄어듬), max_leaf_nodes\n",
    "#### *마찬가지로 스케일링 불필요"
   ]
  },
  {
   "cell_type": "code",
   "execution_count": 57,
   "id": "8803ee8d",
   "metadata": {},
   "outputs": [],
   "source": [
    "from sklearn.ensemble import RandomForestClassifier"
   ]
  },
  {
   "cell_type": "code",
   "execution_count": 58,
   "id": "718cc83f",
   "metadata": {},
   "outputs": [
    {
     "name": "stdout",
     "output_type": "stream",
     "text": [
      "Accuracy on training set: 0.998\n",
      "Accuracy on test set: 0.944\n"
     ]
    }
   ],
   "source": [
    "forest=RandomForestClassifier(random_state=0)\n",
    "forest.fit(X_train, y_train)\n",
    "print(\"Accuracy on training set: {:.3f}\".format(forest.score(X_train, y_train))) \n",
    "print(\"Accuracy on test set: {:.3f}\".format(forest.score(X_test, y_test)))"
   ]
  },
  {
   "cell_type": "code",
   "execution_count": 59,
   "id": "8b73b485",
   "metadata": {},
   "outputs": [
    {
     "name": "stdout",
     "output_type": "stream",
     "text": [
      "Accuracy on training set: 0.998\n",
      "Accuracy on test set: 0.944\n"
     ]
    }
   ],
   "source": [
    "forest=RandomForestClassifier(max_features=10, random_state=0)\n",
    "forest.fit(X_train, y_train)\n",
    "print(\"Accuracy on training set: {:.3f}\".format(forest.score(X_train, y_train))) \n",
    "print(\"Accuracy on test set: {:.3f}\".format(forest.score(X_test, y_test)))"
   ]
  },
  {
   "cell_type": "code",
   "execution_count": 60,
   "id": "607d71f3",
   "metadata": {},
   "outputs": [
    {
     "name": "stdout",
     "output_type": "stream",
     "text": [
      "Accuracy on training set: 0.995\n",
      "Accuracy on test set: 0.944\n"
     ]
    }
   ],
   "source": [
    "forest=RandomForestClassifier(max_leaf_nodes=10, random_state=0)\n",
    "forest.fit(X_train, y_train)\n",
    "print(\"Accuracy on training set: {:.3f}\".format(forest.score(X_train, y_train))) \n",
    "print(\"Accuracy on test set: {:.3f}\".format(forest.score(X_test, y_test)))"
   ]
  },
  {
   "cell_type": "code",
   "execution_count": 61,
   "id": "19fc96ce",
   "metadata": {},
   "outputs": [
    {
     "data": {
      "text/plain": [
       "<matplotlib.legend.Legend at 0x7fd1a0f06310>"
      ]
     },
     "execution_count": 61,
     "metadata": {},
     "output_type": "execute_result"
    },
    {
     "data": {
      "image/png": "[encoded data removed]",
      "text/plain": [
       "<Figure size 432x288 with 1 Axes>"
      ]
     },
     "metadata": {
      "needs_background": "light"
     },
     "output_type": "display_data"
    }
   ],
   "source": [
    "training_accuracy = [] \n",
    "test_accuracy = []\n",
    "\n",
    "features_settings = range(1, 15)\n",
    "for features in features_settings:\n",
    "    forest = RandomForestClassifier(max_features = features) \n",
    "    forest.fit( X_train, y_train) \n",
    "    training_accuracy.append(forest.score( X_train, y_train)) \n",
    "    test_accuracy.append(forest.score( X_test, y_test)) \n",
    "    \n",
    "plt.plot(features_settings, training_accuracy, label =\" training accuracy\") \n",
    "plt.plot(features_settings, test_accuracy, label =\" test accuracy\") \n",
    "plt.ylabel(\"Accuracy\") \n",
    "plt.xlabel(\"max_features\") \n",
    "plt.legend()"
   ]
  },
  {
   "cell_type": "markdown",
   "id": "28fee608",
   "metadata": {},
   "source": [
    "# Gradient Boosting"
   ]
  },
  {
   "cell_type": "markdown",
   "id": "f4802ad8",
   "metadata": {},
   "source": [
    "매개변수: learning_rate(각 트리가 이전 트리의 실수를 수정하려는 강도, 높을수록 많이 수정, 낮을수록 더 많은 트리 수 필요, 기본값=0.1), max_depth(기본값=3), n_estimators(randomforest는 항상 높을수록 좋았지만 gradientboosting은 모델이 복잡해져 과적합 가능성이 올라간다)\n",
    "#### *마찬가지로 스케일링 불필요"
   ]
  },
  {
   "cell_type": "code",
   "execution_count": 62,
   "id": "144ad900",
   "metadata": {},
   "outputs": [],
   "source": [
    "from sklearn.ensemble import GradientBoostingClassifier"
   ]
  },
  {
   "cell_type": "code",
   "execution_count": 63,
   "id": "f656497b",
   "metadata": {},
   "outputs": [
    {
     "name": "stdout",
     "output_type": "stream",
     "text": [
      "Training set accuracy: 1.000\n",
      "Test set accuracy: 0.958\n"
     ]
    }
   ],
   "source": [
    "gbrt = GradientBoostingClassifier(random_state=0)\n",
    "gbrt.fit(X_train, y_train)\n",
    "print(\"Training set accuracy: {:.3f}\".format(gbrt.score(X_train, y_train)))\n",
    "print(\"Test set accuracy: {:.3f}\".format(gbrt.score(X_test, y_test)))"
   ]
  },
  {
   "cell_type": "code",
   "execution_count": 68,
   "id": "b27756f1",
   "metadata": {},
   "outputs": [
    {
     "name": "stdout",
     "output_type": "stream",
     "text": [
      "Training set accuracy: 0.995\n",
      "Test set accuracy: 0.944\n"
     ]
    }
   ],
   "source": [
    "gbrt = GradientBoostingClassifier(learning_rate=0.01, random_state=0)\n",
    "gbrt.fit(X_train, y_train)\n",
    "print(\"Training set accuracy: {:.3f}\".format(gbrt.score(X_train, y_train)))\n",
    "print(\"Test set accuracy: {:.3f}\".format(gbrt.score(X_test, y_test)))"
   ]
  },
  {
   "cell_type": "code",
   "execution_count": 69,
   "id": "bbaa92bb",
   "metadata": {},
   "outputs": [
    {
     "name": "stdout",
     "output_type": "stream",
     "text": [
      "Training set accuracy: 1.000\n",
      "Test set accuracy: 0.944\n"
     ]
    }
   ],
   "source": [
    "gbrt = GradientBoostingClassifier(learning_rate=1,random_state=0)\n",
    "gbrt.fit(X_train, y_train)\n",
    "print(\"Training set accuracy: {:.3f}\".format(gbrt.score(X_train, y_train)))\n",
    "print(\"Test set accuracy: {:.3f}\".format(gbrt.score(X_test, y_test)))\n",
    "#learning_rate는 너무 작거나 너무 크면 성능이 오히려 떨어진다 -> 조정 신중히 "
   ]
  },
  {
   "cell_type": "code",
   "execution_count": 77,
   "id": "7fee090c",
   "metadata": {},
   "outputs": [
    {
     "data": {
      "text/plain": [
       "<matplotlib.legend.Legend at 0x7fd1c27e74c0>"
      ]
     },
     "execution_count": 77,
     "metadata": {},
     "output_type": "execute_result"
    },
    {
     "data": {
      "image/png": "[encoded data removed]",
      "text/plain": [
       "<Figure size 432x288 with 1 Axes>"
      ]
     },
     "metadata": {
      "needs_background": "light"
     },
     "output_type": "display_data"
    }
   ],
   "source": [
    "training_accuracy = [] \n",
    "test_accuracy = []\n",
    "\n",
    "depth_settings = range(1, 15)\n",
    "for depth in depth_settings:\n",
    "    gbrt = GradientBoostingClassifier(max_depth = depth) \n",
    "    gbrt.fit( X_train, y_train) \n",
    "    training_accuracy.append(gbrt.score( X_train, y_train)) \n",
    "    test_accuracy.append(gbrt.score( X_test, y_test)) \n",
    "    \n",
    "plt.plot(depth_settings, training_accuracy, label =\" training accuracy\") \n",
    "plt.plot(depth_settings, test_accuracy, label =\" test accuracy\") \n",
    "plt.ylabel(\"Accuracy\") \n",
    "plt.xlabel(\"max_depth\") \n",
    "plt.legend()"
   ]
  },
  {
   "cell_type": "code",
   "execution_count": 72,
   "id": "8923f3d9",
   "metadata": {},
   "outputs": [
    {
     "name": "stdout",
     "output_type": "stream",
     "text": [
      "Training set accuracy: 0.995\n",
      "Test set accuracy: 0.965\n"
     ]
    }
   ],
   "source": [
    "gbrt = GradientBoostingClassifier(max_depth=1, random_state=0)\n",
    "gbrt.fit(X_train, y_train)\n",
    "print(\"Training set accuracy: {:.3f}\".format(gbrt.score(X_train, y_train)))\n",
    "print(\"Test set accuracy: {:.3f}\".format(gbrt.score(X_test, y_test)))"
   ]
  },
  {
   "cell_type": "code",
   "execution_count": null,
   "id": "1863286f",
   "metadata": {},
   "outputs": [],
   "source": []
  }
 ],
 "metadata": {
  "kernelspec": {
   "display_name": "Python 3 (ipykernel)",
   "language": "python",
   "name": "python3"
  },
  "language_info": {
   "codemirror_mode": {
    "name": "ipython",
    "version": 3
   },
   "file_extension": ".py",
   "mimetype": "text/x-python",
   "name": "python",
   "nbconvert_exporter": "python",
   "pygments_lexer": "ipython3",
   "version": "3.9.12"
  }
 },
 "nbformat": 4,
 "nbformat_minor": 5
}
