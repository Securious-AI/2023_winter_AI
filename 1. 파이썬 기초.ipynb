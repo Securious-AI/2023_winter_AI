{
 "cells": [
  {
   "cell_type": "markdown",
   "id": "17227c86",
   "metadata": {},
   "source": [
    "01/16~01/19\n",
    "1. Python 기초 => 조건문 반복문 활용한 매우 간단한 조건 활용\n",
    "=> 각자 조사하여 코드와 주석처리하여 정리해오기\n",
    "2. Pandas 기초 => Pandas, numpy를 이용하여 데이터 분석에 필요한 함수를 정리해보고 Olympics 데이터 혹은 다른 데이터를 이용하여 분석\n",
    "=> 데이터를 Pandas, numpy를 이용해 각자 분석하고 주석처리 및 column 설명\n",
    "3. 데이터 분석과정 중 데이터간 연관성, 설명을 위한 상관계수, 전처리 등 필요한 내용 정리해보기 + boston housing 데이터 선형회귀 모델 구현 및 해석\n",
    "=> boston housing 데이터를 각자 전처리 분석하고 선형회귀\n",
    "=>결과 해석 및 설명 자료\n",
    "------------------------------------------------------------------------\n",
    "\n",
    "01/19~01/22\n",
    "4. breast_cancer 데이터 활용 실습 진행 \n",
    "=> KNN, Decision Tree, Random Forest 이외에 다른 분류 이용해보거나 조사, 해당 기법들 각각 설명, 결과 설명 등\n",
    "5. 3, 4에서 만들었던 모델의 성능을 높이는 방법을 각자 희망하는대로 하여 성능을 높이고 그 내용과 코드를 주석과 마크다운을 이용해서 정리하기"
   ]
  },
  {
   "cell_type": "markdown",
   "id": "7b0546d0",
   "metadata": {},
   "source": [
    "## 1.파이썬 기초: 조건문, 반복문 활용한 매우 간단한 조건 활용"
   ]
  },
  {
   "cell_type": "markdown",
   "id": "58343082",
   "metadata": {},
   "source": [
    "### 주석"
   ]
  },
  {
   "cell_type": "markdown",
   "id": "40046ad6",
   "metadata": {},
   "source": [
    "코드 맨 앞에 #을 사용하면 해당 줄은 모두 주석이 됩니다. 따라서 다음 print 함수는 동작하지 않습니다."
   ]
  },
  {
   "cell_type": "code",
   "execution_count": 1,
   "id": "28650c47",
   "metadata": {},
   "outputs": [],
   "source": [
    "#print('Hello, world!')"
   ]
  },
  {
   "cell_type": "markdown",
   "id": "9a5133dd",
   "metadata": {},
   "source": [
    "코드 뒤에 #으로 주석을 작성할 수도 있습니다. 이때는 앞에 있는 코드만 정상적으로 동작하며 # 뒤에 있는 코드는 동작하지 않습니다."
   ]
  },
  {
   "cell_type": "code",
   "execution_count": 2,
   "id": "a144984e",
   "metadata": {},
   "outputs": [
    {
     "name": "stdout",
     "output_type": "stream",
     "text": [
      "Hello, world!\n"
     ]
    }
   ],
   "source": [
    "a = 1 + 2 # 더하기\n",
    "print('Hello, world!') #printf('1234567890')"
   ]
  },
  {
   "cell_type": "markdown",
   "id": "4d1c03fc",
   "metadata": {},
   "source": [
    "### 코드블록"
   ]
  },
  {
   "cell_type": "markdown",
   "id": "4fd4490e",
   "metadata": {},
   "source": [
    "코드 블록은 특정한 동작을 위해서 코드가 모여 있는 상태를 뜻하며 파이썬은 들여쓰기를 기준으로 코드 블록을 구성합니다.\n",
    "\n",
    "단, 같은 블록은 들여쓰기 칸 수가 같아야 하고, 공백과 탭 문자를 섞어 쓰면 안 됩니다."
   ]
  },
  {
   "cell_type": "code",
   "execution_count": 4,
   "id": "50644032",
   "metadata": {},
   "outputs": [
    {
     "name": "stdout",
     "output_type": "stream",
     "text": [
      "10\n",
      "입니다.\n"
     ]
    }
   ],
   "source": [
    "if a == 3:\n",
    "      print('10')\n",
    "      print('입니다.')"
   ]
  },
  {
   "cell_type": "markdown",
   "id": "19a2395e",
   "metadata": {},
   "source": [
    "### 연산자"
   ]
  },
  {
   "cell_type": "code",
   "execution_count": 5,
   "id": "5545b81e",
   "metadata": {},
   "outputs": [
    {
     "data": {
      "text/plain": [
       "6.5"
      ]
     },
     "execution_count": 5,
     "metadata": {},
     "output_type": "execute_result"
    }
   ],
   "source": [
    "3+3.5"
   ]
  },
  {
   "cell_type": "code",
   "execution_count": 14,
   "id": "2b324a5e",
   "metadata": {},
   "outputs": [
    {
     "data": {
      "text/plain": [
       "3.0"
      ]
     },
     "execution_count": 14,
     "metadata": {},
     "output_type": "execute_result"
    }
   ],
   "source": [
    "#나누기\n",
    "6/2\n",
    "#완전히 나누어 떨어져도 실수로 출력"
   ]
  },
  {
   "cell_type": "code",
   "execution_count": 15,
   "id": "a965c52c",
   "metadata": {},
   "outputs": [
    {
     "data": {
      "text/plain": [
       "3"
      ]
     },
     "execution_count": 15,
     "metadata": {},
     "output_type": "execute_result"
    }
   ],
   "source": [
    "#//->소수점 이하를 버리는 연산자\n",
    "6//2"
   ]
  },
  {
   "cell_type": "code",
   "execution_count": 16,
   "id": "381e5693",
   "metadata": {},
   "outputs": [
    {
     "data": {
      "text/plain": [
       "1"
      ]
     },
     "execution_count": 16,
     "metadata": {},
     "output_type": "execute_result"
    }
   ],
   "source": [
    "#%->나머지를 구하는 연산자\n",
    "5%2"
   ]
  },
  {
   "cell_type": "code",
   "execution_count": 6,
   "id": "99a04720",
   "metadata": {},
   "outputs": [
    {
     "data": {
      "text/plain": [
       "6"
      ]
     },
     "execution_count": 6,
     "metadata": {},
     "output_type": "execute_result"
    }
   ],
   "source": [
    "int(3+3.5)"
   ]
  },
  {
   "cell_type": "code",
   "execution_count": 7,
   "id": "88f03071",
   "metadata": {},
   "outputs": [
    {
     "data": {
      "text/plain": [
       "8"
      ]
     },
     "execution_count": 7,
     "metadata": {},
     "output_type": "execute_result"
    }
   ],
   "source": [
    "3+5"
   ]
  },
  {
   "cell_type": "code",
   "execution_count": 8,
   "id": "87160323",
   "metadata": {},
   "outputs": [
    {
     "data": {
      "text/plain": [
       "8.0"
      ]
     },
     "execution_count": 8,
     "metadata": {},
     "output_type": "execute_result"
    }
   ],
   "source": [
    "float(3+5)"
   ]
  },
  {
   "cell_type": "markdown",
   "id": "57586b5e",
   "metadata": {},
   "source": [
    "### 논리연산자"
   ]
  },
  {
   "cell_type": "code",
   "execution_count": 23,
   "id": "7101e1a8",
   "metadata": {},
   "outputs": [
    {
     "data": {
      "text/plain": [
       "False"
      ]
     },
     "execution_count": 23,
     "metadata": {},
     "output_type": "execute_result"
    }
   ],
   "source": [
    "3>5"
   ]
  },
  {
   "cell_type": "code",
   "execution_count": 27,
   "id": "cd1f887b",
   "metadata": {},
   "outputs": [
    {
     "name": "stdout",
     "output_type": "stream",
     "text": [
      "True\n",
      "True\n"
     ]
    }
   ],
   "source": [
    "print(10 == 10)    # 10과 10이 같은지 비교\n",
    "print(10 != 5)     # 10과 5가 다른지 비교"
   ]
  },
  {
   "cell_type": "code",
   "execution_count": 26,
   "id": "b8d9b0fd",
   "metadata": {},
   "outputs": [
    {
     "name": "stdout",
     "output_type": "stream",
     "text": [
      "False\n",
      "True\n",
      "True\n",
      "True\n"
     ]
    }
   ],
   "source": [
    "print(10 > 20)    # 10이 20보다 큰지 비교\n",
    "print(10 < 20)    # 10이 20보다 작은지 비교\n",
    "print(10 >= 10)    # 10이 10보다 크거나 같은지 비교\n",
    "print(10 <= 10)    # 10이 10보다 작거나 같은지 비교"
   ]
  },
  {
   "cell_type": "markdown",
   "id": "4f45b6df",
   "metadata": {},
   "source": [
    "and는 두 값이 모두 True라야 True입니다. 하나라도 False이면 False\n",
    "or는 두 값 중 하나라도 True이면 True입니다. 두 값이 모두 False라야 False\n",
    "not은 논릿값을 뒤집습니다. not True는 False, not False는 True"
   ]
  },
  {
   "cell_type": "code",
   "execution_count": 28,
   "id": "3f367747",
   "metadata": {},
   "outputs": [
    {
     "name": "stdout",
     "output_type": "stream",
     "text": [
      "True\n",
      "True\n",
      "False\n"
     ]
    }
   ],
   "source": [
    "print(10 == 10 and 10 != 5)    # True and True\n",
    "print(10 > 5 or 10 < 3)        # True or False\n",
    "print(not 10 > 5)              # not True"
   ]
  },
  {
   "cell_type": "markdown",
   "id": "df81f948",
   "metadata": {},
   "source": [
    "### 변수"
   ]
  },
  {
   "cell_type": "code",
   "execution_count": 13,
   "id": "9a4fe5d3",
   "metadata": {},
   "outputs": [
    {
     "data": {
      "text/plain": [
       "10"
      ]
     },
     "execution_count": 13,
     "metadata": {},
     "output_type": "execute_result"
    }
   ],
   "source": [
    "x = 10\n",
    "x"
   ]
  },
  {
   "cell_type": "markdown",
   "id": "f8948d44",
   "metadata": {},
   "source": [
    "영문 문자와 숫자를 사용할 수 있습니다.\n",
    "대소문자를 구분합니다.\n",
    "문자부터 시작해야 하며 숫자부터 시작하면 안 됩니다.\n",
    "_(밑줄 문자)로 시작할 수 있습니다.\n",
    "특수 문자(+, -, *, /, $, @, &, % 등)는 사용할 수 없습니다.\n",
    "파이썬의 키워드(if, for, while, and, or 등)는 사용할 수 없습니다."
   ]
  },
  {
   "cell_type": "code",
   "execution_count": 11,
   "id": "39194a7d",
   "metadata": {},
   "outputs": [
    {
     "data": {
      "text/plain": [
       "20"
      ]
     },
     "execution_count": 11,
     "metadata": {},
     "output_type": "execute_result"
    }
   ],
   "source": [
    "x, y, z = 10, 20, 30\n",
    "y"
   ]
  },
  {
   "cell_type": "code",
   "execution_count": 12,
   "id": "1daf0501",
   "metadata": {},
   "outputs": [
    {
     "data": {
      "text/plain": [
       "10"
      ]
     },
     "execution_count": 12,
     "metadata": {},
     "output_type": "execute_result"
    }
   ],
   "source": [
    "x = y = z = 10\n",
    "z"
   ]
  },
  {
   "cell_type": "markdown",
   "id": "22697742",
   "metadata": {},
   "source": [
    "### 문자열"
   ]
  },
  {
   "cell_type": "code",
   "execution_count": 29,
   "id": "2fe8f36f",
   "metadata": {},
   "outputs": [
    {
     "data": {
      "text/plain": [
       "'Hello, world!'"
      ]
     },
     "execution_count": 29,
     "metadata": {},
     "output_type": "execute_result"
    }
   ],
   "source": [
    "hello = 'Hello, world!'\n",
    "hello"
   ]
  },
  {
   "cell_type": "markdown",
   "id": "80c5eed7",
   "metadata": {},
   "source": [
    "### 출력"
   ]
  },
  {
   "cell_type": "code",
   "execution_count": 17,
   "id": "353252a3",
   "metadata": {},
   "outputs": [
    {
     "name": "stdout",
     "output_type": "stream",
     "text": [
      "1 2 3\n",
      "Hello Python\n"
     ]
    }
   ],
   "source": [
    "print(1, 2, 3)\n",
    "print('Hello', 'Python')\n",
    "#변수나 값을 콤마로 구분해서 넣으면 각 값이 공백으로 띄워져서 한 줄로 출력"
   ]
  },
  {
   "cell_type": "code",
   "execution_count": 18,
   "id": "417653c3",
   "metadata": {},
   "outputs": [
    {
     "name": "stdout",
     "output_type": "stream",
     "text": [
      "1\n",
      "2\n",
      "3\n"
     ]
    }
   ],
   "source": [
    "#줄바꿈\n",
    "print('1\\n2\\n3')"
   ]
  },
  {
   "cell_type": "code",
   "execution_count": 22,
   "id": "5e2a6837",
   "metadata": {},
   "outputs": [
    {
     "name": "stdout",
     "output_type": "stream",
     "text": [
      "1\u0002\u0003\n",
      "1\\2\\3\n"
     ]
    }
   ],
   "source": [
    "#\\를 쓰고자 할때는 \\\\\n",
    "print('1\\2\\3')\n",
    "print('1\\\\2\\\\3')"
   ]
  },
  {
   "cell_type": "markdown",
   "id": "a8018e85",
   "metadata": {},
   "source": [
    "## 조건문"
   ]
  },
  {
   "cell_type": "markdown",
   "id": "a5158f82",
   "metadata": {},
   "source": [
    "if 조건식:\n",
    "     코드"
   ]
  },
  {
   "cell_type": "code",
   "execution_count": 30,
   "id": "bbd7b72a",
   "metadata": {},
   "outputs": [
    {
     "name": "stdout",
     "output_type": "stream",
     "text": [
      "10입니다.\n"
     ]
    }
   ],
   "source": [
    "x = 10\n",
    "if x == 10:\n",
    "    print('10입니다.')"
   ]
  },
  {
   "cell_type": "code",
   "execution_count": 31,
   "id": "4f56b698",
   "metadata": {},
   "outputs": [],
   "source": [
    "x = 10\n",
    "if x == 20:\n",
    "    print('10입니다.')"
   ]
  },
  {
   "cell_type": "code",
   "execution_count": 32,
   "id": "79513806",
   "metadata": {},
   "outputs": [
    {
     "name": "stdout",
     "output_type": "stream",
     "text": [
      "x에 들어있는 숫자는\n",
      "10입니다.\n"
     ]
    }
   ],
   "source": [
    "x = 10\n",
    "if x == 10:\n",
    "    print('x에 들어있는 숫자는')\n",
    "    print('10입니다.')"
   ]
  },
  {
   "cell_type": "code",
   "execution_count": 34,
   "id": "ab86a4da",
   "metadata": {},
   "outputs": [
    {
     "name": "stdout",
     "output_type": "stream",
     "text": [
      "10입니다.\n"
     ]
    }
   ],
   "source": [
    "x = 10\n",
    "if x == 20:\n",
    "    print('x에 들어있는 숫자는')\n",
    "print('10입니다.')"
   ]
  },
  {
   "cell_type": "code",
   "execution_count": 35,
   "id": "78543b7b",
   "metadata": {},
   "outputs": [
    {
     "name": "stdout",
     "output_type": "stream",
     "text": [
      "10 이상입니다.\n",
      "15입니다.\n"
     ]
    }
   ],
   "source": [
    "x = 15\n",
    "if x >= 10:\n",
    "    print('10 이상입니다.')\n",
    "    if x == 15:\n",
    "        print('15입니다.')\n",
    "    if x == 20:\n",
    "        print('20입니다.')"
   ]
  },
  {
   "cell_type": "markdown",
   "id": "237a09f8",
   "metadata": {},
   "source": [
    "if 조건식:\n",
    "     코드1\n",
    "else:\n",
    "     코드2"
   ]
  },
  {
   "cell_type": "code",
   "execution_count": 37,
   "id": "9a7aab80",
   "metadata": {},
   "outputs": [
    {
     "name": "stdout",
     "output_type": "stream",
     "text": [
      "10이 아닙니다.\n"
     ]
    }
   ],
   "source": [
    "x = 20\n",
    "if x == 10:\n",
    "    print('10입니다.')\n",
    "else:\n",
    "    print('10이 아닙니다.')"
   ]
  },
  {
   "cell_type": "code",
   "execution_count": 38,
   "id": "a42eb83e",
   "metadata": {},
   "outputs": [
    {
     "name": "stdout",
     "output_type": "stream",
     "text": [
      "참\n"
     ]
    }
   ],
   "source": [
    "x = 10\n",
    "y = 20\n",
    " \n",
    "if x == 10 and y == 20:     # x가 10이면서 y가 20일 때\n",
    "    print('참')\n",
    "else:\n",
    "    print('거짓')"
   ]
  },
  {
   "cell_type": "code",
   "execution_count": 39,
   "id": "4a0438dd",
   "metadata": {},
   "outputs": [
    {
     "name": "stdout",
     "output_type": "stream",
     "text": [
      "20보다 작은 양수입니다.\n"
     ]
    }
   ],
   "source": [
    "if x > 0:\n",
    "    if x < 20:\n",
    "        print('20보다 작은 양수입니다.')"
   ]
  },
  {
   "cell_type": "markdown",
   "id": "b405436c",
   "metadata": {},
   "source": [
    "if 조건식:\n",
    "     코드1\n",
    "elif 조건식:\n",
    "     코드2"
   ]
  },
  {
   "cell_type": "code",
   "execution_count": 40,
   "id": "a39193b3",
   "metadata": {},
   "outputs": [
    {
     "name": "stdout",
     "output_type": "stream",
     "text": [
      "20입니다.\n"
     ]
    }
   ],
   "source": [
    "x = 20\n",
    "if x == 10:\n",
    "      print('10입니다.')\n",
    "elif x == 20:\n",
    "      print('20입니다.')"
   ]
  },
  {
   "cell_type": "code",
   "execution_count": 41,
   "id": "c56853df",
   "metadata": {},
   "outputs": [
    {
     "name": "stdout",
     "output_type": "stream",
     "text": [
      "10도 20도 아닙니다.\n"
     ]
    }
   ],
   "source": [
    "x = 30\n",
    " \n",
    "if x == 10:             # x가 10일 때\n",
    "    print('10입니다.')\n",
    "elif x == 20:           # x가 20일 때\n",
    "    print('20입니다.')\n",
    "else:                   # 앞의 조건식에 모두 만족하지 않을 때\n",
    "    print('10도 20도 아닙니다.')"
   ]
  },
  {
   "cell_type": "markdown",
   "id": "9f3e4cd1",
   "metadata": {},
   "source": [
    "## 반복문"
   ]
  },
  {
   "cell_type": "markdown",
   "id": "f25a6949",
   "metadata": {},
   "source": [
    "### for"
   ]
  },
  {
   "cell_type": "markdown",
   "id": "3792d00d",
   "metadata": {},
   "source": [
    "for 변수 in range(횟수):\n",
    "     반복할 코드"
   ]
  },
  {
   "cell_type": "code",
   "execution_count": 43,
   "id": "595e8972",
   "metadata": {},
   "outputs": [
    {
     "name": "stdout",
     "output_type": "stream",
     "text": [
      "Hello, world!\n",
      "Hello, world!\n",
      "Hello, world!\n",
      "Hello, world!\n",
      "Hello, world!\n",
      "Hello, world!\n",
      "Hello, world!\n",
      "Hello, world!\n",
      "Hello, world!\n",
      "Hello, world!\n"
     ]
    }
   ],
   "source": [
    "for i in range(10):\n",
    "      print('Hello, world!')"
   ]
  },
  {
   "cell_type": "code",
   "execution_count": 44,
   "id": "90ee912f",
   "metadata": {},
   "outputs": [
    {
     "name": "stdout",
     "output_type": "stream",
     "text": [
      "Hello, world! 5\n",
      "Hello, world! 6\n",
      "Hello, world! 7\n",
      "Hello, world! 8\n",
      "Hello, world! 9\n",
      "Hello, world! 10\n",
      "Hello, world! 11\n"
     ]
    }
   ],
   "source": [
    "for i in range(5, 12):    # 5부터 11까지 반복\n",
    "     print('Hello, world!', i)"
   ]
  },
  {
   "cell_type": "code",
   "execution_count": 45,
   "id": "6ca30ccc",
   "metadata": {},
   "outputs": [
    {
     "name": "stdout",
     "output_type": "stream",
     "text": [
      "Hello, world! 0\n",
      "Hello, world! 2\n",
      "Hello, world! 4\n",
      "Hello, world! 6\n",
      "Hello, world! 8\n"
     ]
    }
   ],
   "source": [
    "for i in range(0, 10, 2):    # 0부터 8까지 2씩 증가\n",
    "     print('Hello, world!', i)"
   ]
  },
  {
   "cell_type": "markdown",
   "id": "de072ffa",
   "metadata": {},
   "source": [
    "### while"
   ]
  },
  {
   "cell_type": "markdown",
   "id": "a7a5c84a",
   "metadata": {},
   "source": [
    "초기식\n",
    "while 조건식:\n",
    "     반복할 코드\n",
    "     변화식"
   ]
  },
  {
   "cell_type": "code",
   "execution_count": 48,
   "id": "1da9b1e2",
   "metadata": {},
   "outputs": [
    {
     "name": "stdout",
     "output_type": "stream",
     "text": [
      "Hello, world!\n",
      "Hello, world!\n",
      "Hello, world!\n",
      "Hello, world!\n",
      "Hello, world!\n",
      "Hello, world!\n",
      "Hello, world!\n",
      "Hello, world!\n",
      "Hello, world!\n",
      "Hello, world!\n"
     ]
    }
   ],
   "source": [
    "i = 0                     # 초기식\n",
    "while i < 10:            # while 조건식\n",
    "     print('Hello, world!')    # 반복할 코드\n",
    "     i += 1                    # 변화식"
   ]
  },
  {
   "cell_type": "markdown",
   "id": "0e571d28",
   "metadata": {},
   "source": [
    "break: 제어흐름 중단\n",
    "continue: 제어흐름 유지, 코드 실행만 건너뜀"
   ]
  },
  {
   "cell_type": "code",
   "execution_count": 49,
   "id": "e1e87fbe",
   "metadata": {},
   "outputs": [
    {
     "name": "stdout",
     "output_type": "stream",
     "text": [
      "0\n",
      "1\n",
      "2\n",
      "3\n",
      "4\n",
      "5\n",
      "6\n",
      "7\n",
      "8\n",
      "9\n"
     ]
    }
   ],
   "source": [
    "i = 0\n",
    "while True:    # 무한 루프\n",
    "    print(i)\n",
    "    i += 1          # i를 1씩 증가시킴\n",
    "    if i == 10:    # i가 10일 때\n",
    "        break       # 반복문을 끝냄. while의 제어흐름을 벗어남"
   ]
  },
  {
   "cell_type": "code",
   "execution_count": 50,
   "id": "396467fb",
   "metadata": {},
   "outputs": [
    {
     "name": "stdout",
     "output_type": "stream",
     "text": [
      "0\n",
      "1\n",
      "2\n",
      "3\n",
      "4\n",
      "5\n",
      "6\n",
      "7\n",
      "8\n",
      "9\n",
      "10\n"
     ]
    }
   ],
   "source": [
    "for i in range(10000):    # 0부터 9999까지 반복\n",
    "    print(i)\n",
    "    if i == 10:    # i가 10일 때\n",
    "        break   "
   ]
  },
  {
   "cell_type": "code",
   "execution_count": 52,
   "id": "27899205",
   "metadata": {},
   "outputs": [
    {
     "name": "stdout",
     "output_type": "stream",
     "text": [
      "1\n",
      "3\n",
      "5\n",
      "7\n",
      "9\n"
     ]
    }
   ],
   "source": [
    "for i in range(10):       # 0부터 9까지 증가하면서 10번 반복\n",
    "    if i % 2 == 0:         # i를 2로 나누었을 때 나머지가 0면 짝수\n",
    "        continue           # 아래 코드를 실행하지 않고 건너뜀\n",
    "    print(i)"
   ]
  },
  {
   "cell_type": "code",
   "execution_count": null,
   "id": "7cab7836",
   "metadata": {},
   "outputs": [],
   "source": []
  }
 ],
 "metadata": {
  "kernelspec": {
   "display_name": "Python 3 (ipykernel)",
   "language": "python",
   "name": "python3"
  },
  "language_info": {
   "codemirror_mode": {
    "name": "ipython",
    "version": 3
   },
   "file_extension": ".py",
   "mimetype": "text/x-python",
   "name": "python",
   "nbconvert_exporter": "python",
   "pygments_lexer": "ipython3",
   "version": "3.9.12"
  }
 },
 "nbformat": 4,
 "nbformat_minor": 5
}
