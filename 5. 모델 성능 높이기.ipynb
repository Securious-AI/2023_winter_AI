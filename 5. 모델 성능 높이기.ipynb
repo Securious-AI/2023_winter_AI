{
 "cells": [
  {
   "cell_type": "markdown",
   "id": "6bb79362",
   "metadata": {},
   "source": [
    "## 5. 모델 성능 높이기"
   ]
  },
  {
   "cell_type": "code",
   "execution_count": 1,
   "id": "a2f5c181",
   "metadata": {},
   "outputs": [],
   "source": [
    "#유방암 데이터셋\n",
    "from sklearn.datasets import load_breast_cancer \n",
    "cancer = load_breast_cancer() "
   ]
  },
  {
   "cell_type": "code",
   "execution_count": 2,
   "id": "b2e81338",
   "metadata": {},
   "outputs": [],
   "source": [
    "#train-test-split\n",
    "from sklearn.model_selection import train_test_split\n",
    "\n",
    "X_train, X_test, y_train, y_test = train_test_split(cancer.data, \n",
    "                                                    cancer.target, \n",
    "                                                    stratify = cancer.target, \n",
    "                                                    random_state = 66) "
   ]
  },
  {
   "cell_type": "markdown",
   "id": "e5d223ea",
   "metadata": {},
   "source": [
    "### kNN 분류\n",
    "kNN은 주변 데이터 k개를 살펴보아 더 많은 데이터가 포함되어있는 범주로 분류하는 방식으로 몇 개의 데이터를 살펴볼지 정할 수 있음 \n",
    "\n",
    "=k를 조정하며 최적의 성능을 보이는 모델을 구축하기\n",
    "\n",
    "지난 시간에 진행했던 모델은 아무런 파라미터 조정을 하지 않은 것이며 디폴트값은 k=5"
   ]
  },
  {
   "cell_type": "code",
   "execution_count": 3,
   "id": "0e105bf6",
   "metadata": {},
   "outputs": [
    {
     "data": {
      "text/html": [
       "<style>#sk-container-id-1 {color: black;background-color: white;}#sk-container-id-1 pre{padding: 0;}#sk-container-id-1 div.sk-toggleable {background-color: white;}#sk-container-id-1 label.sk-toggleable__label {cursor: pointer;display: block;width: 100%;margin-bottom: 0;padding: 0.3em;box-sizing: border-box;text-align: center;}#sk-container-id-1 label.sk-toggleable__label-arrow:before {content: \"▸\";float: left;margin-right: 0.25em;color: #696969;}#sk-container-id-1 label.sk-toggleable__label-arrow:hover:before {color: black;}#sk-container-id-1 div.sk-estimator:hover label.sk-toggleable__label-arrow:before {color: black;}#sk-container-id-1 div.sk-toggleable__content {max-height: 0;max-width: 0;overflow: hidden;text-align: left;background-color: #f0f8ff;}#sk-container-id-1 div.sk-toggleable__content pre {margin: 0.2em;color: black;border-radius: 0.25em;background-color: #f0f8ff;}#sk-container-id-1 input.sk-toggleable__control:checked~div.sk-toggleable__content {max-height: 200px;max-width: 100%;overflow: auto;}#sk-container-id-1 input.sk-toggleable__control:checked~label.sk-toggleable__label-arrow:before {content: \"▾\";}#sk-container-id-1 div.sk-estimator input.sk-toggleable__control:checked~label.sk-toggleable__label {background-color: #d4ebff;}#sk-container-id-1 div.sk-label input.sk-toggleable__control:checked~label.sk-toggleable__label {background-color: #d4ebff;}#sk-container-id-1 input.sk-hidden--visually {border: 0;clip: rect(1px 1px 1px 1px);clip: rect(1px, 1px, 1px, 1px);height: 1px;margin: -1px;overflow: hidden;padding: 0;position: absolute;width: 1px;}#sk-container-id-1 div.sk-estimator {font-family: monospace;background-color: #f0f8ff;border: 1px dotted black;border-radius: 0.25em;box-sizing: border-box;margin-bottom: 0.5em;}#sk-container-id-1 div.sk-estimator:hover {background-color: #d4ebff;}#sk-container-id-1 div.sk-parallel-item::after {content: \"\";width: 100%;border-bottom: 1px solid gray;flex-grow: 1;}#sk-container-id-1 div.sk-label:hover label.sk-toggleable__label {background-color: #d4ebff;}#sk-container-id-1 div.sk-serial::before {content: \"\";position: absolute;border-left: 1px solid gray;box-sizing: border-box;top: 0;bottom: 0;left: 50%;z-index: 0;}#sk-container-id-1 div.sk-serial {display: flex;flex-direction: column;align-items: center;background-color: white;padding-right: 0.2em;padding-left: 0.2em;position: relative;}#sk-container-id-1 div.sk-item {position: relative;z-index: 1;}#sk-container-id-1 div.sk-parallel {display: flex;align-items: stretch;justify-content: center;background-color: white;position: relative;}#sk-container-id-1 div.sk-item::before, #sk-container-id-1 div.sk-parallel-item::before {content: \"\";position: absolute;border-left: 1px solid gray;box-sizing: border-box;top: 0;bottom: 0;left: 50%;z-index: -1;}#sk-container-id-1 div.sk-parallel-item {display: flex;flex-direction: column;z-index: 1;position: relative;background-color: white;}#sk-container-id-1 div.sk-parallel-item:first-child::after {align-self: flex-end;width: 50%;}#sk-container-id-1 div.sk-parallel-item:last-child::after {align-self: flex-start;width: 50%;}#sk-container-id-1 div.sk-parallel-item:only-child::after {width: 0;}#sk-container-id-1 div.sk-dashed-wrapped {border: 1px dashed gray;margin: 0 0.4em 0.5em 0.4em;box-sizing: border-box;padding-bottom: 0.4em;background-color: white;}#sk-container-id-1 div.sk-label label {font-family: monospace;font-weight: bold;display: inline-block;line-height: 1.2em;}#sk-container-id-1 div.sk-label-container {text-align: center;}#sk-container-id-1 div.sk-container {/* jupyter's `normalize.less` sets `[hidden] { display: none; }` but bootstrap.min.css set `[hidden] { display: none !important; }` so we also need the `!important` here to be able to override the default hidden behavior on the sphinx rendered scikit-learn.org. See: https://github.com/scikit-learn/scikit-learn/issues/21755 */display: inline-block !important;position: relative;}#sk-container-id-1 div.sk-text-repr-fallback {display: none;}</style><div id=\"sk-container-id-1\" class=\"sk-top-container\"><div class=\"sk-text-repr-fallback\"><pre>KNeighborsClassifier()</pre><b>In a Jupyter environment, please rerun this cell to show the HTML representation or trust the notebook. <br />On GitHub, the HTML representation is unable to render, please try loading this page with nbviewer.org.</b></div><div class=\"sk-container\" hidden><div class=\"sk-item\"><div class=\"sk-estimator sk-toggleable\"><input class=\"sk-toggleable__control sk-hidden--visually\" id=\"sk-estimator-id-1\" type=\"checkbox\" checked><label for=\"sk-estimator-id-1\" class=\"sk-toggleable__label sk-toggleable__label-arrow\">KNeighborsClassifier</label><div class=\"sk-toggleable__content\"><pre>KNeighborsClassifier()</pre></div></div></div></div></div>"
      ],
      "text/plain": [
       "KNeighborsClassifier()"
      ]
     },
     "execution_count": 3,
     "metadata": {},
     "output_type": "execute_result"
    }
   ],
   "source": [
    "from sklearn.neighbors import KNeighborsClassifier\n",
    "\n",
    "#k=5로 진행\n",
    "knn=KNeighborsClassifier()\n",
    "knn.fit(X_train,y_train)"
   ]
  },
  {
   "cell_type": "code",
   "execution_count": 4,
   "id": "0bd17fae",
   "metadata": {},
   "outputs": [
    {
     "name": "stdout",
     "output_type": "stream",
     "text": [
      "0.9483568075117371\n",
      "0.9230769230769231\n"
     ]
    }
   ],
   "source": [
    "print(knn.score(X_train, y_train))\n",
    "print(knn.score(X_test, y_test))\n",
    "\n",
    "#train 데이터 성능은 약 0.948\n",
    "#test 데이터 성능은 약 0.923"
   ]
  },
  {
   "cell_type": "markdown",
   "id": "1e76a779",
   "metadata": {},
   "source": [
    "#### k값 조정 - n_neighbors"
   ]
  },
  {
   "cell_type": "code",
   "execution_count": 5,
   "id": "598b952b",
   "metadata": {},
   "outputs": [
    {
     "name": "stdout",
     "output_type": "stream",
     "text": [
      "0.9577464788732394\n",
      "0.9230769230769231\n"
     ]
    }
   ],
   "source": [
    "#n_neighbors가 3일 때\n",
    "knn=KNeighborsClassifier(n_neighbors=3)\n",
    "knn.fit(X_train,y_train)\n",
    "print(knn.score(X_train, y_train))\n",
    "print(knn.score(X_test, y_test))"
   ]
  },
  {
   "cell_type": "markdown",
   "id": "12e53141",
   "metadata": {},
   "source": [
    "n_neighbors가 3일 때 train 정확도가 0.957로 조금 더 나은 성능을 보이고, test 정확도는 5일 때와 같다. "
   ]
  },
  {
   "cell_type": "code",
   "execution_count": 7,
   "id": "897fbc18",
   "metadata": {},
   "outputs": [
    {
     "name": "stdout",
     "output_type": "stream",
     "text": [
      "0.9436619718309859\n",
      "0.9300699300699301\n"
     ]
    }
   ],
   "source": [
    "#n_neighbors가 7일 때\n",
    "knn=KNeighborsClassifier(n_neighbors=7)\n",
    "knn.fit(X_train,y_train)\n",
    "print(knn.score(X_train, y_train))\n",
    "print(knn.score(X_test, y_test))"
   ]
  },
  {
   "cell_type": "markdown",
   "id": "7b4d89ba",
   "metadata": {},
   "source": [
    "n_neighbors가 7일 때 train 정확도는 조금 낮아졌지만, test 정확도는 더 높아졌다. 즉 좀 더 나은 일반화 성능을 보인다."
   ]
  },
  {
   "cell_type": "markdown",
   "id": "7bed79d0",
   "metadata": {},
   "source": [
    "#### for 반복문을 이용해 가장 좋은 파라미터 한번에 확인하기"
   ]
  },
  {
   "cell_type": "code",
   "execution_count": 8,
   "id": "86597912",
   "metadata": {},
   "outputs": [],
   "source": [
    "#k값을 변경하며 각각의 성능을 담을 리스트 생성\n",
    "training_accuracy = [] \n",
    "test_accuracy = [] "
   ]
  },
  {
   "cell_type": "code",
   "execution_count": 9,
   "id": "73352618",
   "metadata": {},
   "outputs": [],
   "source": [
    "#k값은 1부터 10까지\n",
    "neighbors_settings = range(1, 11)\n",
    "\n",
    "#neighbors_settings를 for문에 적용하여 n_neighbors에 대입\n",
    "for n_neighbors in neighbors_settings:\n",
    "    knn= KNeighborsClassifier(n_neighbors = n_neighbors) \n",
    "    knn.fit( X_train, y_train) \n",
    "    # 리스트에 추가\n",
    "    training_accuracy.append(knn.score( X_train, y_train)) \n",
    "    test_accuracy.append(knn.score( X_test, y_test)) "
   ]
  },
  {
   "cell_type": "code",
   "execution_count": 10,
   "id": "313371e8",
   "metadata": {},
   "outputs": [
    {
     "data": {
      "text/plain": [
       "[1.0,\n",
       " 0.9765258215962441,\n",
       " 0.9577464788732394,\n",
       " 0.9553990610328639,\n",
       " 0.9483568075117371,\n",
       " 0.9460093896713615,\n",
       " 0.9436619718309859,\n",
       " 0.9413145539906104,\n",
       " 0.9342723004694836,\n",
       " 0.9389671361502347]"
      ]
     },
     "execution_count": 10,
     "metadata": {},
     "output_type": "execute_result"
    }
   ],
   "source": [
    "training_accuracy"
   ]
  },
  {
   "cell_type": "code",
   "execution_count": 11,
   "id": "bde66fb9",
   "metadata": {},
   "outputs": [
    {
     "data": {
      "text/plain": [
       "[0.9020979020979021,\n",
       " 0.8881118881118881,\n",
       " 0.9230769230769231,\n",
       " 0.9230769230769231,\n",
       " 0.9230769230769231,\n",
       " 0.9370629370629371,\n",
       " 0.9300699300699301,\n",
       " 0.9300699300699301,\n",
       " 0.916083916083916,\n",
       " 0.916083916083916]"
      ]
     },
     "execution_count": 11,
     "metadata": {},
     "output_type": "execute_result"
    }
   ],
   "source": [
    "test_accuracy"
   ]
  },
  {
   "cell_type": "code",
   "execution_count": 12,
   "id": "77ff4ad9",
   "metadata": {},
   "outputs": [
    {
     "data": {
      "text/plain": [
       "<matplotlib.legend.Legend at 0x189d155c7f0>"
      ]
     },
     "execution_count": 12,
     "metadata": {},
     "output_type": "execute_result"
    },
    {
     "data": {
      "image/png": "[encoded data removed]",
      "text/plain": [
       "<Figure size 640x480 with 1 Axes>"
      ]
     },
     "metadata": {},
     "output_type": "display_data"
    }
   ],
   "source": [
    "#시각화로 한눈에 파악\n",
    "import matplotlib.pyplot as plt\n",
    "\n",
    "plt.plot(neighbors_settings, training_accuracy, label =\" training accuracy\") \n",
    "plt.plot(neighbors_settings, test_accuracy, label =\" test accuracy\") \n",
    "plt.ylabel(\"Accuracy\") \n",
    "plt.xlabel(\"n_neighbors\") \n",
    "plt.legend()"
   ]
  },
  {
   "cell_type": "markdown",
   "id": "5a836f79",
   "metadata": {},
   "source": [
    "기본적으로 test 정확도가 가장 높은 순간이 가장 좋은 모델이라고 판단함\n",
    "위의 경우 n_neighbors가 6일 때 가장 좋은 모델이라고 할 수 있음"
   ]
  },
  {
   "cell_type": "markdown",
   "id": "74568eb5",
   "metadata": {},
   "source": [
    "### Decision Tree\n",
    "특정 기준(질문)에 따라 데이터를 구분하여 트리 모양의 모델을 구축함. \n",
    "\n",
    "트리의 깊이(질문수)가 깊을 수록 train 데이터셋에 과하게 적합되어 일반화 성능이 떨어지고, 트리의 깊이(질문수)가 얕으면 train 데이터셋 조차 잘 설명하지 못하는 과소적합이 일어난다. \n",
    "\n",
    "트리의 최대 깊이(질문수) 조정을 통해 과대적합, 과소적합을 줄이고 일반화 성능을 높일 수 있다. "
   ]
  },
  {
   "cell_type": "code",
   "execution_count": 13,
   "id": "c7fe9a53",
   "metadata": {},
   "outputs": [
    {
     "data": {
      "text/html": [
       "<style>#sk-container-id-2 {color: black;background-color: white;}#sk-container-id-2 pre{padding: 0;}#sk-container-id-2 div.sk-toggleable {background-color: white;}#sk-container-id-2 label.sk-toggleable__label {cursor: pointer;display: block;width: 100%;margin-bottom: 0;padding: 0.3em;box-sizing: border-box;text-align: center;}#sk-container-id-2 label.sk-toggleable__label-arrow:before {content: \"▸\";float: left;margin-right: 0.25em;color: #696969;}#sk-container-id-2 label.sk-toggleable__label-arrow:hover:before {color: black;}#sk-container-id-2 div.sk-estimator:hover label.sk-toggleable__label-arrow:before {color: black;}#sk-container-id-2 div.sk-toggleable__content {max-height: 0;max-width: 0;overflow: hidden;text-align: left;background-color: #f0f8ff;}#sk-container-id-2 div.sk-toggleable__content pre {margin: 0.2em;color: black;border-radius: 0.25em;background-color: #f0f8ff;}#sk-container-id-2 input.sk-toggleable__control:checked~div.sk-toggleable__content {max-height: 200px;max-width: 100%;overflow: auto;}#sk-container-id-2 input.sk-toggleable__control:checked~label.sk-toggleable__label-arrow:before {content: \"▾\";}#sk-container-id-2 div.sk-estimator input.sk-toggleable__control:checked~label.sk-toggleable__label {background-color: #d4ebff;}#sk-container-id-2 div.sk-label input.sk-toggleable__control:checked~label.sk-toggleable__label {background-color: #d4ebff;}#sk-container-id-2 input.sk-hidden--visually {border: 0;clip: rect(1px 1px 1px 1px);clip: rect(1px, 1px, 1px, 1px);height: 1px;margin: -1px;overflow: hidden;padding: 0;position: absolute;width: 1px;}#sk-container-id-2 div.sk-estimator {font-family: monospace;background-color: #f0f8ff;border: 1px dotted black;border-radius: 0.25em;box-sizing: border-box;margin-bottom: 0.5em;}#sk-container-id-2 div.sk-estimator:hover {background-color: #d4ebff;}#sk-container-id-2 div.sk-parallel-item::after {content: \"\";width: 100%;border-bottom: 1px solid gray;flex-grow: 1;}#sk-container-id-2 div.sk-label:hover label.sk-toggleable__label {background-color: #d4ebff;}#sk-container-id-2 div.sk-serial::before {content: \"\";position: absolute;border-left: 1px solid gray;box-sizing: border-box;top: 0;bottom: 0;left: 50%;z-index: 0;}#sk-container-id-2 div.sk-serial {display: flex;flex-direction: column;align-items: center;background-color: white;padding-right: 0.2em;padding-left: 0.2em;position: relative;}#sk-container-id-2 div.sk-item {position: relative;z-index: 1;}#sk-container-id-2 div.sk-parallel {display: flex;align-items: stretch;justify-content: center;background-color: white;position: relative;}#sk-container-id-2 div.sk-item::before, #sk-container-id-2 div.sk-parallel-item::before {content: \"\";position: absolute;border-left: 1px solid gray;box-sizing: border-box;top: 0;bottom: 0;left: 50%;z-index: -1;}#sk-container-id-2 div.sk-parallel-item {display: flex;flex-direction: column;z-index: 1;position: relative;background-color: white;}#sk-container-id-2 div.sk-parallel-item:first-child::after {align-self: flex-end;width: 50%;}#sk-container-id-2 div.sk-parallel-item:last-child::after {align-self: flex-start;width: 50%;}#sk-container-id-2 div.sk-parallel-item:only-child::after {width: 0;}#sk-container-id-2 div.sk-dashed-wrapped {border: 1px dashed gray;margin: 0 0.4em 0.5em 0.4em;box-sizing: border-box;padding-bottom: 0.4em;background-color: white;}#sk-container-id-2 div.sk-label label {font-family: monospace;font-weight: bold;display: inline-block;line-height: 1.2em;}#sk-container-id-2 div.sk-label-container {text-align: center;}#sk-container-id-2 div.sk-container {/* jupyter's `normalize.less` sets `[hidden] { display: none; }` but bootstrap.min.css set `[hidden] { display: none !important; }` so we also need the `!important` here to be able to override the default hidden behavior on the sphinx rendered scikit-learn.org. See: https://github.com/scikit-learn/scikit-learn/issues/21755 */display: inline-block !important;position: relative;}#sk-container-id-2 div.sk-text-repr-fallback {display: none;}</style><div id=\"sk-container-id-2\" class=\"sk-top-container\"><div class=\"sk-text-repr-fallback\"><pre>DecisionTreeClassifier(random_state=0)</pre><b>In a Jupyter environment, please rerun this cell to show the HTML representation or trust the notebook. <br />On GitHub, the HTML representation is unable to render, please try loading this page with nbviewer.org.</b></div><div class=\"sk-container\" hidden><div class=\"sk-item\"><div class=\"sk-estimator sk-toggleable\"><input class=\"sk-toggleable__control sk-hidden--visually\" id=\"sk-estimator-id-2\" type=\"checkbox\" checked><label for=\"sk-estimator-id-2\" class=\"sk-toggleable__label sk-toggleable__label-arrow\">DecisionTreeClassifier</label><div class=\"sk-toggleable__content\"><pre>DecisionTreeClassifier(random_state=0)</pre></div></div></div></div></div>"
      ],
      "text/plain": [
       "DecisionTreeClassifier(random_state=0)"
      ]
     },
     "execution_count": 13,
     "metadata": {},
     "output_type": "execute_result"
    }
   ],
   "source": [
    "from sklearn.tree import DecisionTreeClassifier\n",
    "\n",
    "tree = DecisionTreeClassifier(random_state=0)\n",
    "tree.fit(X_train, y_train)"
   ]
  },
  {
   "cell_type": "code",
   "execution_count": 14,
   "id": "0be5d462",
   "metadata": {
    "scrolled": true
   },
   "outputs": [
    {
     "name": "stdout",
     "output_type": "stream",
     "text": [
      "1.0\n",
      "0.8951048951048951\n"
     ]
    }
   ],
   "source": [
    "print(tree.score(X_train, y_train))\n",
    "print(tree.score(X_test, y_test))\n",
    "\n",
    "#train 데이터 성능은 1.0\n",
    "#test 데이터 성능은 약 0.895"
   ]
  },
  {
   "cell_type": "markdown",
   "id": "13b8e830",
   "metadata": {},
   "source": [
    "#### 트리의 깊이 조절- max_depth"
   ]
  },
  {
   "cell_type": "code",
   "execution_count": 17,
   "id": "a6792b8a",
   "metadata": {},
   "outputs": [],
   "source": [
    "tree.max_depth"
   ]
  },
  {
   "cell_type": "markdown",
   "id": "66a26871",
   "metadata": {},
   "source": [
    "트리의 최대 깊이 max_depth의 디폴트값은 없다. 완벽하게 클래스 값이 결정될 때까지 분할한다."
   ]
  },
  {
   "cell_type": "code",
   "execution_count": 22,
   "id": "672ddfa4",
   "metadata": {},
   "outputs": [],
   "source": [
    "#k값을 변경하며 각각의 성능을 담을 리스트 생성\n",
    "training_accuracy = [] \n",
    "test_accuracy = [] "
   ]
  },
  {
   "cell_type": "code",
   "execution_count": 23,
   "id": "acb05ac1",
   "metadata": {},
   "outputs": [],
   "source": [
    "#k값은 1부터 10까지\n",
    "max_depth_settings = range(1, 11)\n",
    "\n",
    "#max_depth_settings를 for문에 적용하여 max_depth에 대입\n",
    "for max_depth in max_depth_settings:\n",
    "    tree = DecisionTreeClassifier(random_state=0, max_depth=max_depth)\n",
    "    tree.fit( X_train, y_train) \n",
    "    # 리스트에 추가\n",
    "    training_accuracy.append(tree.score( X_train, y_train)) \n",
    "    test_accuracy.append(tree.score( X_test, y_test)) "
   ]
  },
  {
   "cell_type": "code",
   "execution_count": 25,
   "id": "10467dc7",
   "metadata": {},
   "outputs": [
    {
     "data": {
      "text/plain": [
       "<matplotlib.legend.Legend at 0x189d178e3d0>"
      ]
     },
     "execution_count": 25,
     "metadata": {},
     "output_type": "execute_result"
    },
    {
     "data": {
      "image/png": "[encoded data removed]",
      "text/plain": [
       "<Figure size 640x480 with 1 Axes>"
      ]
     },
     "metadata": {},
     "output_type": "display_data"
    }
   ],
   "source": [
    "#시각화로 한눈에 파악\n",
    "plt.plot(max_depth_settings, training_accuracy, label =\" training accuracy\") \n",
    "plt.plot(max_depth_settings, test_accuracy, label =\" test accuracy\") \n",
    "plt.ylabel(\"Accuracy\") \n",
    "plt.xlabel(\"max_depth\") \n",
    "plt.legend()"
   ]
  },
  {
   "cell_type": "markdown",
   "id": "bc9eae1a",
   "metadata": {},
   "source": [
    "최대 트리 깊이 5이상은 모두 같음=더이상 나눌 수 없음\n",
    "\n",
    "5 이하의 경우 더 나눌 수 있지만 과적합을 막기 위해 조절한 것임. \n",
    "\n",
    "test 정확도가 가장 높아 일반화 성능이 가장 높은 경우는 max_depth가 3인 경우이고 가장 좋은 모델이다."
   ]
  },
  {
   "cell_type": "markdown",
   "id": "7fad04ea",
   "metadata": {},
   "source": [
    "https://injo.tistory.com/15\n",
    "결정트리 관련 파라미터 조정"
   ]
  },
  {
   "cell_type": "markdown",
   "id": "0548e8de",
   "metadata": {},
   "source": [
    "### Random Forest\n",
    "랜덤포레스트는 랜덤으로 추출된 데이터셋에 대한 결정트리의 집합으로 대표적인 파라미터는n_estimators, max_features이다. \n",
    "\n",
    "n_estimators는 몇 개의 트리를 만들지 조정하는 것이고, max_features는 각 결정트리 생성 시 몇 개의 열을 선택할지 조정하는 것이다."
   ]
  },
  {
   "cell_type": "code",
   "execution_count": 26,
   "id": "07890cae",
   "metadata": {},
   "outputs": [
    {
     "data": {
      "text/html": [
       "<style>#sk-container-id-4 {color: black;background-color: white;}#sk-container-id-4 pre{padding: 0;}#sk-container-id-4 div.sk-toggleable {background-color: white;}#sk-container-id-4 label.sk-toggleable__label {cursor: pointer;display: block;width: 100%;margin-bottom: 0;padding: 0.3em;box-sizing: border-box;text-align: center;}#sk-container-id-4 label.sk-toggleable__label-arrow:before {content: \"▸\";float: left;margin-right: 0.25em;color: #696969;}#sk-container-id-4 label.sk-toggleable__label-arrow:hover:before {color: black;}#sk-container-id-4 div.sk-estimator:hover label.sk-toggleable__label-arrow:before {color: black;}#sk-container-id-4 div.sk-toggleable__content {max-height: 0;max-width: 0;overflow: hidden;text-align: left;background-color: #f0f8ff;}#sk-container-id-4 div.sk-toggleable__content pre {margin: 0.2em;color: black;border-radius: 0.25em;background-color: #f0f8ff;}#sk-container-id-4 input.sk-toggleable__control:checked~div.sk-toggleable__content {max-height: 200px;max-width: 100%;overflow: auto;}#sk-container-id-4 input.sk-toggleable__control:checked~label.sk-toggleable__label-arrow:before {content: \"▾\";}#sk-container-id-4 div.sk-estimator input.sk-toggleable__control:checked~label.sk-toggleable__label {background-color: #d4ebff;}#sk-container-id-4 div.sk-label input.sk-toggleable__control:checked~label.sk-toggleable__label {background-color: #d4ebff;}#sk-container-id-4 input.sk-hidden--visually {border: 0;clip: rect(1px 1px 1px 1px);clip: rect(1px, 1px, 1px, 1px);height: 1px;margin: -1px;overflow: hidden;padding: 0;position: absolute;width: 1px;}#sk-container-id-4 div.sk-estimator {font-family: monospace;background-color: #f0f8ff;border: 1px dotted black;border-radius: 0.25em;box-sizing: border-box;margin-bottom: 0.5em;}#sk-container-id-4 div.sk-estimator:hover {background-color: #d4ebff;}#sk-container-id-4 div.sk-parallel-item::after {content: \"\";width: 100%;border-bottom: 1px solid gray;flex-grow: 1;}#sk-container-id-4 div.sk-label:hover label.sk-toggleable__label {background-color: #d4ebff;}#sk-container-id-4 div.sk-serial::before {content: \"\";position: absolute;border-left: 1px solid gray;box-sizing: border-box;top: 0;bottom: 0;left: 50%;z-index: 0;}#sk-container-id-4 div.sk-serial {display: flex;flex-direction: column;align-items: center;background-color: white;padding-right: 0.2em;padding-left: 0.2em;position: relative;}#sk-container-id-4 div.sk-item {position: relative;z-index: 1;}#sk-container-id-4 div.sk-parallel {display: flex;align-items: stretch;justify-content: center;background-color: white;position: relative;}#sk-container-id-4 div.sk-item::before, #sk-container-id-4 div.sk-parallel-item::before {content: \"\";position: absolute;border-left: 1px solid gray;box-sizing: border-box;top: 0;bottom: 0;left: 50%;z-index: -1;}#sk-container-id-4 div.sk-parallel-item {display: flex;flex-direction: column;z-index: 1;position: relative;background-color: white;}#sk-container-id-4 div.sk-parallel-item:first-child::after {align-self: flex-end;width: 50%;}#sk-container-id-4 div.sk-parallel-item:last-child::after {align-self: flex-start;width: 50%;}#sk-container-id-4 div.sk-parallel-item:only-child::after {width: 0;}#sk-container-id-4 div.sk-dashed-wrapped {border: 1px dashed gray;margin: 0 0.4em 0.5em 0.4em;box-sizing: border-box;padding-bottom: 0.4em;background-color: white;}#sk-container-id-4 div.sk-label label {font-family: monospace;font-weight: bold;display: inline-block;line-height: 1.2em;}#sk-container-id-4 div.sk-label-container {text-align: center;}#sk-container-id-4 div.sk-container {/* jupyter's `normalize.less` sets `[hidden] { display: none; }` but bootstrap.min.css set `[hidden] { display: none !important; }` so we also need the `!important` here to be able to override the default hidden behavior on the sphinx rendered scikit-learn.org. See: https://github.com/scikit-learn/scikit-learn/issues/21755 */display: inline-block !important;position: relative;}#sk-container-id-4 div.sk-text-repr-fallback {display: none;}</style><div id=\"sk-container-id-4\" class=\"sk-top-container\"><div class=\"sk-text-repr-fallback\"><pre>RandomForestClassifier(random_state=0)</pre><b>In a Jupyter environment, please rerun this cell to show the HTML representation or trust the notebook. <br />On GitHub, the HTML representation is unable to render, please try loading this page with nbviewer.org.</b></div><div class=\"sk-container\" hidden><div class=\"sk-item\"><div class=\"sk-estimator sk-toggleable\"><input class=\"sk-toggleable__control sk-hidden--visually\" id=\"sk-estimator-id-4\" type=\"checkbox\" checked><label for=\"sk-estimator-id-4\" class=\"sk-toggleable__label sk-toggleable__label-arrow\">RandomForestClassifier</label><div class=\"sk-toggleable__content\"><pre>RandomForestClassifier(random_state=0)</pre></div></div></div></div></div>"
      ],
      "text/plain": [
       "RandomForestClassifier(random_state=0)"
      ]
     },
     "execution_count": 26,
     "metadata": {},
     "output_type": "execute_result"
    }
   ],
   "source": [
    "from sklearn.ensemble import RandomForestClassifier\n",
    "\n",
    "forest = RandomForestClassifier(random_state=0)\n",
    "forest.fit(X_train, y_train)"
   ]
  },
  {
   "cell_type": "code",
   "execution_count": 27,
   "id": "11320ada",
   "metadata": {
    "scrolled": true
   },
   "outputs": [
    {
     "name": "stdout",
     "output_type": "stream",
     "text": [
      "1.0\n",
      "0.958041958041958\n"
     ]
    }
   ],
   "source": [
    "print(forest.score(X_train, y_train))\n",
    "print(forest.score(X_test, y_test))\n",
    "\n",
    "#train 데이터 성능은 1.0\n",
    "#test 데이터 성능은 약 0.958"
   ]
  },
  {
   "cell_type": "markdown",
   "id": "a3c525c3",
   "metadata": {},
   "source": [
    "#### 트리 개수 조절- n_estimators"
   ]
  },
  {
   "cell_type": "code",
   "execution_count": 28,
   "id": "416b9b50",
   "metadata": {},
   "outputs": [
    {
     "data": {
      "text/plain": [
       "100"
      ]
     },
     "execution_count": 28,
     "metadata": {},
     "output_type": "execute_result"
    }
   ],
   "source": [
    "forest.n_estimators"
   ]
  },
  {
   "cell_type": "markdown",
   "id": "1488aa6d",
   "metadata": {},
   "source": [
    "랜덤포레스트의 디폴트 트리 개수는 100개"
   ]
  },
  {
   "cell_type": "code",
   "execution_count": 31,
   "id": "032642bf",
   "metadata": {},
   "outputs": [
    {
     "name": "stdout",
     "output_type": "stream",
     "text": [
      "1.0\n",
      "0.951048951048951\n"
     ]
    }
   ],
   "source": [
    "#n_estimators가 50일 때\n",
    "forest = RandomForestClassifier(n_estimators=50, random_state=0)\n",
    "forest.fit(X_train, y_train)\n",
    "print(forest.score(X_train, y_train))\n",
    "print(forest.score(X_test, y_test))"
   ]
  },
  {
   "cell_type": "markdown",
   "id": "18a226d2",
   "metadata": {},
   "source": [
    "n_estimators를 50으로 줄이면 랜덤포레스트에 적용되는 트리의 개수가 50개로 줄어드는 것이고, 50개의 트리 결과를 반영하는 것보다 100개의 트리 결과를 반영하는 것이 일반화 성능면에서 더 좋다."
   ]
  },
  {
   "cell_type": "code",
   "execution_count": 32,
   "id": "be586b90",
   "metadata": {},
   "outputs": [
    {
     "name": "stdout",
     "output_type": "stream",
     "text": [
      "1.0\n",
      "0.958041958041958\n"
     ]
    }
   ],
   "source": [
    "#n_estimators가 200일 때\n",
    "forest = RandomForestClassifier(n_estimators=200, random_state=0)\n",
    "forest.fit(X_train, y_train)\n",
    "print(forest.score(X_train, y_train))\n",
    "print(forest.score(X_test, y_test))"
   ]
  },
  {
   "cell_type": "markdown",
   "id": "68463df8",
   "metadata": {},
   "source": [
    "n_estimators를 200으로 늘리면 디폴트인 100개와 성능이 같으며 무작정 늘리는 것은 좋은 것이 아니다.(속도 차원 등)\n",
    "우선 n_estimators는 디폴트값으로 진행"
   ]
  },
  {
   "cell_type": "markdown",
   "id": "ad906e13",
   "metadata": {},
   "source": [
    "#### 결정트리 생성 시 사용할 열 개수- max_features"
   ]
  },
  {
   "cell_type": "code",
   "execution_count": 33,
   "id": "131fd2cf",
   "metadata": {},
   "outputs": [
    {
     "data": {
      "text/plain": [
       "'sqrt'"
      ]
     },
     "execution_count": 33,
     "metadata": {},
     "output_type": "execute_result"
    }
   ],
   "source": [
    "forest.max_features"
   ]
  },
  {
   "cell_type": "markdown",
   "id": "88591fbf",
   "metadata": {},
   "source": [
    "결정트리 생성 시 사용할 열 개수의 디폴트값은 열 개수의 제곱근 값이다. "
   ]
  },
  {
   "cell_type": "code",
   "execution_count": 35,
   "id": "053749ca",
   "metadata": {},
   "outputs": [
    {
     "data": {
      "text/plain": [
       "(569, 30)"
      ]
     },
     "execution_count": 35,
     "metadata": {},
     "output_type": "execute_result"
    }
   ],
   "source": [
    "cancer['data'].shape\n",
    "#데이터셋의 열은 30개"
   ]
  },
  {
   "cell_type": "code",
   "execution_count": 40,
   "id": "18e2e875",
   "metadata": {},
   "outputs": [],
   "source": [
    "#k값을 변경하며 각각의 성능을 담을 리스트 생성\n",
    "training_accuracy = [] \n",
    "test_accuracy = [] \n",
    "\n",
    "#max_features값은 1부터 30까지 5간격으로\n",
    "max_features_settings = range(1,30,5)\n",
    "\n",
    "#max_features_settings를 for문에 적용하여 max_features에 대입\n",
    "for max_features in max_features_settings:\n",
    "    forest = RandomForestClassifier(max_features=max_features, random_state=0)\n",
    "    forest.fit(X_train, y_train)\n",
    "    # 리스트에 추가\n",
    "    training_accuracy.append(forest.score( X_train, y_train)) \n",
    "    test_accuracy.append(forest.score( X_test, y_test)) "
   ]
  },
  {
   "cell_type": "code",
   "execution_count": 41,
   "id": "bdaf19b8",
   "metadata": {
    "scrolled": true
   },
   "outputs": [
    {
     "data": {
      "text/plain": [
       "<matplotlib.legend.Legend at 0x189d19da640>"
      ]
     },
     "execution_count": 41,
     "metadata": {},
     "output_type": "execute_result"
    },
    {
     "data": {
      "image/png": "[encoded data removed]",
      "text/plain": [
       "<Figure size 640x480 with 1 Axes>"
      ]
     },
     "metadata": {},
     "output_type": "display_data"
    }
   ],
   "source": [
    "#시각화로 한눈에 파악\n",
    "plt.plot(max_features_settings, training_accuracy, label =\" training accuracy\") \n",
    "plt.plot(max_features_settings, test_accuracy, label =\" test accuracy\") \n",
    "plt.ylabel(\"Accuracy\") \n",
    "plt.xlabel(\"max_features\") \n",
    "plt.legend()"
   ]
  },
  {
   "cell_type": "markdown",
   "id": "9d664e16",
   "metadata": {},
   "source": [
    "max_features의 범위를 5부터 20까지로 좁혀서 다시 확인"
   ]
  },
  {
   "cell_type": "code",
   "execution_count": 42,
   "id": "71b16e23",
   "metadata": {},
   "outputs": [],
   "source": [
    "#k값을 변경하며 각각의 성능을 담을 리스트 생성\n",
    "training_accuracy = [] \n",
    "test_accuracy = [] \n",
    "\n",
    "#max_features값은 1부터 30까지 5간격으로\n",
    "max_features_settings = range(5,20)\n",
    "\n",
    "#max_features_settings를 for문에 적용하여 max_features에 대입\n",
    "for max_features in max_features_settings:\n",
    "    forest = RandomForestClassifier(max_features=max_features, random_state=0)\n",
    "    forest.fit(X_train, y_train)\n",
    "    # 리스트에 추가\n",
    "    training_accuracy.append(forest.score( X_train, y_train)) \n",
    "    test_accuracy.append(forest.score( X_test, y_test)) "
   ]
  },
  {
   "cell_type": "code",
   "execution_count": 50,
   "id": "e4f3195a",
   "metadata": {},
   "outputs": [
    {
     "data": {
      "text/plain": [
       "<matplotlib.legend.Legend at 0x189d2c45430>"
      ]
     },
     "execution_count": 50,
     "metadata": {},
     "output_type": "execute_result"
    },
    {
     "data": {
      "image/png": "[encoded data removed]",
      "text/plain": [
       "<Figure size 640x480 with 1 Axes>"
      ]
     },
     "metadata": {},
     "output_type": "display_data"
    }
   ],
   "source": [
    "#시각화로 한눈에 파악\n",
    "plt.plot(max_features_settings, training_accuracy, label =\" training accuracy\") \n",
    "plt.plot(max_features_settings, test_accuracy, label =\" test accuracy\") \n",
    "plt.ylabel(\"Accuracy\") \n",
    "plt.xlabel(\"max_features\") \n",
    "plt.legend()"
   ]
  },
  {
   "cell_type": "code",
   "execution_count": 51,
   "id": "7fd57501",
   "metadata": {},
   "outputs": [
    {
     "data": {
      "text/plain": [
       "0.958041958041958"
      ]
     },
     "execution_count": 51,
     "metadata": {},
     "output_type": "execute_result"
    }
   ],
   "source": [
    "max(test_accuracy)"
   ]
  },
  {
   "cell_type": "markdown",
   "id": "79135c47",
   "metadata": {},
   "source": [
    "max_features값을 조정하며 test 성능이 가장 좋은 지점을 찾아보았지만 디폴트 max_features값을 적용하였을 때와 같은 성능을 보인다. "
   ]
  },
  {
   "cell_type": "markdown",
   "id": "e4ea6a55",
   "metadata": {},
   "source": [
    "https://gils-lab.tistory.com/89 랜덤포레스트 파라미터 조정"
   ]
  }
 ],
 "metadata": {
  "kernelspec": {
   "display_name": "Python 3 (ipykernel)",
   "language": "python",
   "name": "python3"
  },
  "language_info": {
   "codemirror_mode": {
    "name": "ipython",
    "version": 3
   },
   "file_extension": ".py",
   "mimetype": "text/x-python",
   "name": "python",
   "nbconvert_exporter": "python",
   "pygments_lexer": "ipython3",
   "version": "3.9.13"
  }
 },
 "nbformat": 4,
 "nbformat_minor": 5
}
