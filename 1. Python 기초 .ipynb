{
 "cells": [
  {
   "cell_type": "markdown",
   "id": "7ab90ad0",
   "metadata": {},
   "source": [
    "### 조건문 반복문 활용한 매우 간단한 조건 활용\n",
    "각자 조사하여 코드와 주석처리하여 정리해오기"
   ]
  },
  {
   "cell_type": "markdown",
   "id": "30b62d28",
   "metadata": {},
   "source": [
    "https://dojang.io/mod/page/view.php?id=2227 참고했음"
   ]
  },
  {
   "cell_type": "code",
   "execution_count": 1,
   "id": "61fa02fe",
   "metadata": {},
   "outputs": [
    {
     "name": "stdout",
     "output_type": "stream",
     "text": [
      "Hello, world!\n"
     ]
    }
   ],
   "source": [
    "#print문 \n",
    "print('Hello, world!')"
   ]
  },
  {
   "cell_type": "code",
   "execution_count": 4,
   "id": "f70d74c6",
   "metadata": {},
   "outputs": [
    {
     "name": "stdout",
     "output_type": "stream",
     "text": [
      "10\n",
      "Hello, world!\n"
     ]
    }
   ],
   "source": [
    "#변수 \n",
    "x=10 #x에 숫자 저장\n",
    "print(x)\n",
    "y='Hello, world!'#y에 문자열 저장\n",
    "print(y)"
   ]
  },
  {
   "cell_type": "code",
   "execution_count": 6,
   "id": "0af03276",
   "metadata": {},
   "outputs": [
    {
     "name": "stdout",
     "output_type": "stream",
     "text": [
      "True\n",
      "False\n",
      "True\n",
      "False\n",
      "False\n"
     ]
    }
   ],
   "source": [
    "#bool\n",
    "#이후 판다스 다룰 때 중요\n",
    "print(True)\n",
    "print(False)\n",
    "\n",
    "print(3>1)\n",
    "print(10==4)\n",
    "print('python'!='python')"
   ]
  },
  {
   "cell_type": "code",
   "execution_count": 8,
   "id": "cb8fa922",
   "metadata": {},
   "outputs": [
    {
     "name": "stdout",
     "output_type": "stream",
     "text": [
      "True\n",
      "False\n",
      "False\n"
     ]
    }
   ],
   "source": [
    "#논리 연산자 and\n",
    "print(True and True)\n",
    "print(True and False)\n",
    "print(False and False)"
   ]
  },
  {
   "cell_type": "code",
   "execution_count": 9,
   "id": "867f240c",
   "metadata": {},
   "outputs": [
    {
     "name": "stdout",
     "output_type": "stream",
     "text": [
      "True\n",
      "True\n",
      "False\n"
     ]
    }
   ],
   "source": [
    "#논리 연산자 or\n",
    "print(True or True)\n",
    "print(True or False)\n",
    "print(False or False)"
   ]
  },
  {
   "cell_type": "code",
   "execution_count": 10,
   "id": "ca10a9db",
   "metadata": {},
   "outputs": [
    {
     "name": "stdout",
     "output_type": "stream",
     "text": [
      "False\n",
      "True\n"
     ]
    }
   ],
   "source": [
    "#논리연산자 not\n",
    "print(not True)\n",
    "print(not False)"
   ]
  },
  {
   "cell_type": "code",
   "execution_count": 12,
   "id": "1c8df2c7",
   "metadata": {},
   "outputs": [
    {
     "name": "stdout",
     "output_type": "stream",
     "text": [
      "True\n"
     ]
    }
   ],
   "source": [
    "#연산자 우선순위 -> 괄호 활용 유도\n",
    "print(10==10 and 10 != 5)"
   ]
  },
  {
   "cell_type": "code",
   "execution_count": 13,
   "id": "7452e4a9",
   "metadata": {},
   "outputs": [
    {
     "name": "stdout",
     "output_type": "stream",
     "text": [
      "[38, 21, 53, 62, 19]\n"
     ]
    }
   ],
   "source": [
    "#리스트(1)\n",
    "\n",
    "a = [38, 21, 53, 62, 19]\n",
    "print(a)"
   ]
  },
  {
   "cell_type": "code",
   "execution_count": 14,
   "id": "7de158eb",
   "metadata": {},
   "outputs": [
    {
     "name": "stdout",
     "output_type": "stream",
     "text": [
      "[1]\n"
     ]
    }
   ],
   "source": [
    "#리스트(2)\n",
    "\n",
    "a=[] #빈 리스트 생성 (list()로 만드는 방법도 있음)\n",
    "a.append(1) #리스트에 요소 추가\n",
    "print(a)"
   ]
  },
  {
   "cell_type": "code",
   "execution_count": 16,
   "id": "7be1afa0",
   "metadata": {},
   "outputs": [
    {
     "name": "stdout",
     "output_type": "stream",
     "text": [
      "[0, 1, 2, 3, 4, 5, 6, 7, 8, 9]\n",
      "[3, 5, 7, 9, 11, 13]\n"
     ]
    }
   ],
   "source": [
    "#리스트(3)\n",
    "b=list(range(0,10)) #range 개념\n",
    "print(b)\n",
    "\n",
    "c=list(range(3,15,2))\n",
    "print(c)"
   ]
  },
  {
   "cell_type": "code",
   "execution_count": 2,
   "id": "8c9e9175",
   "metadata": {},
   "outputs": [
    {
     "name": "stdout",
     "output_type": "stream",
     "text": [
      "[38, 21, 53]\n",
      "[38, 21, 53, 62, 19]\n"
     ]
    }
   ],
   "source": [
    "#리스트 슬라이싱\n",
    "a = [38, 21, 53, 62, 19]\n",
    "print(a[0:3]) #0번부터 3-1번까지\n",
    "print(a[:]) #생략시 처음부터 끝까지"
   ]
  },
  {
   "cell_type": "markdown",
   "id": "2a862927",
   "metadata": {},
   "source": [
    "#### 조건문"
   ]
  },
  {
   "cell_type": "code",
   "execution_count": 18,
   "id": "9f4d1695",
   "metadata": {},
   "outputs": [
    {
     "name": "stdout",
     "output_type": "stream",
     "text": [
      "10입니다.\n"
     ]
    }
   ],
   "source": [
    "#if 조건문\n",
    "#if 조건: 실행 -> 조건이 참이라면 실행\n",
    "x=10\n",
    "\n",
    "if x==10: #: 쓰는 거 중요!\n",
    "    print('10입니다.')#들여쓰기 중요!"
   ]
  },
  {
   "cell_type": "code",
   "execution_count": 21,
   "id": "10dbd280",
   "metadata": {},
   "outputs": [
    {
     "name": "stdout",
     "output_type": "stream",
     "text": [
      "10이 아닙니다.\n"
     ]
    }
   ],
   "source": [
    "#if-else문\n",
    "x=5\n",
    "if x == 10:#x가 10이라면\n",
    "     print('10입니다.')\n",
    "else: #:쓰는 거 중요!, x가 10이 아니라면\n",
    "     print('10이 아닙니다.')"
   ]
  },
  {
   "cell_type": "code",
   "execution_count": 28,
   "id": "96d3a5f7",
   "metadata": {},
   "outputs": [
    {
     "name": "stdout",
     "output_type": "stream",
     "text": [
      "10도 20도 아닙니다.\n"
     ]
    }
   ],
   "source": [
    "#if-elif-else문\n",
    "\n",
    "x = 30\n",
    " \n",
    "if x == 10:             # x가 10일 때\n",
    "    print('10입니다.')\n",
    "elif x == 20:           # x가 20일 때\n",
    "    print('20입니다.')\n",
    "else:                   # 앞의 조건식에 모두 만족하지 않을 때\n",
    "    print('10도 20도 아닙니다.')"
   ]
  },
  {
   "cell_type": "markdown",
   "id": "0fbbbe4e",
   "metadata": {},
   "source": [
    "#### 반복문-for문 중요"
   ]
  },
  {
   "cell_type": "code",
   "execution_count": 22,
   "id": "dc6cb6e6",
   "metadata": {},
   "outputs": [
    {
     "name": "stdout",
     "output_type": "stream",
     "text": [
      "Hello world\n",
      "Hello world\n",
      "Hello world\n",
      "Hello world\n",
      "Hello world\n",
      "Hello world\n",
      "Hello world\n",
      "Hello world\n",
      "Hello world\n",
      "Hello world\n"
     ]
    }
   ],
   "source": [
    "#for문\n",
    "for i in range(10): #range(10)의 값을 순서대로 i에 저장\n",
    "    print('Hello world')"
   ]
  },
  {
   "cell_type": "code",
   "execution_count": 27,
   "id": "dba373a8",
   "metadata": {},
   "outputs": [
    {
     "name": "stdout",
     "output_type": "stream",
     "text": [
      "1\n",
      "2\n",
      "3\n",
      "4\n",
      "5\n"
     ]
    }
   ],
   "source": [
    "#for문과 리스트\n",
    "a=[1,2,3,4,5]\n",
    "for i in a: #a 리스트 안의 값들이 순서대로 i에 대입\n",
    "    print(i)\n",
    "#파라미터 튜닝 시 필요한 개념"
   ]
  },
  {
   "cell_type": "code",
   "execution_count": 25,
   "id": "78a257b2",
   "metadata": {},
   "outputs": [
    {
     "name": "stdout",
     "output_type": "stream",
     "text": [
      "Hello, world!\n",
      "Hello, world!\n",
      "Hello, world!\n",
      "Hello, world!\n",
      "Hello, world!\n",
      "Hello, world!\n",
      "Hello, world!\n",
      "Hello, world!\n",
      "Hello, world!\n",
      "Hello, world!\n"
     ]
    }
   ],
   "source": [
    "#while문\n",
    "i = 0                     # 초기식\n",
    "while i < 10:            # while 조건식\n",
    "     print('Hello, world!')    # 반복할 코드\n",
    "     i += 1                    # 변화식"
   ]
  },
  {
   "cell_type": "markdown",
   "id": "2c6fc11f",
   "metadata": {},
   "source": [
    "#### 파이썬 기초에서 중점적으로 다뤄야 할 개념- 과제로 내주기?\n",
    "1. if-elif-else문: 전처리 시 문자열 카테고리 값을 숫자로 변환\n",
    "2. for문에 리스트 활용: 파라미터 값을 리스트에 담아 for문을 사용하며 각 파라미터를 적용함\n",
    "3. 리스트 append: 파라미터 조정하며 얻은 결과 값을 성능 리스트에 append 해야 함"
   ]
  },
  {
   "cell_type": "code",
   "execution_count": null,
   "id": "5a1ed693",
   "metadata": {},
   "outputs": [],
   "source": [
    "#1번이 필요한 경우 예시 \n",
    "#함수 개념까지 설명해야 할지는 고민됨\n",
    "def changetype(feature):\n",
    "    if feature=='CASH_OUT':\n",
    "        feature=1\n",
    "    elif feature=='PAYMENT':\n",
    "        feature=2\n",
    "    elif feature=='CASH_IN':\n",
    "        feature=3\n",
    "    elif feature=='TRANSFER':\n",
    "        feature=4\n",
    "    else:\n",
    "        feature=5\n",
    "    return feature\n",
    "\n",
    "df['type']=df['type'].apply(changetype)"
   ]
  },
  {
   "cell_type": "code",
   "execution_count": null,
   "id": "0650d6ae",
   "metadata": {},
   "outputs": [],
   "source": [
    "#2번 3번이 필요한 경우 예시\n",
    "C_list=[0.01,0.1,1,10,100,1000,10000]\n",
    "C_train=[]\n",
    "C_test=[]\n",
    "\n",
    "for C in C_list:\n",
    "    lr = LogisticRegression(C=C,max_iter=5000).fit(X_train, y_train)    \n",
    "    \n",
    "    C_train.append(lr.score(X_train, y_train))\n",
    "    C_test.append(lr.score(X_test, y_test))"
   ]
  }
 ],
 "metadata": {
  "kernelspec": {
   "display_name": "Python 3 (ipykernel)",
   "language": "python",
   "name": "python3"
  },
  "language_info": {
   "codemirror_mode": {
    "name": "ipython",
    "version": 3
   },
   "file_extension": ".py",
   "mimetype": "text/x-python",
   "name": "python",
   "nbconvert_exporter": "python",
   "pygments_lexer": "ipython3",
   "version": "3.9.13"
  }
 },
 "nbformat": 4,
 "nbformat_minor": 5
}
