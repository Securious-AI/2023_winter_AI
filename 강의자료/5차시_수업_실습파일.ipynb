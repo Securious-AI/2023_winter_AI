{
  "nbformat": 4,
  "nbformat_minor": 0,
  "metadata": {
    "colab": {
      "provenance": []
    },
    "kernelspec": {
      "name": "python3",
      "display_name": "Python 3"
    },
    "language_info": {
      "name": "python"
    }
  },
  "cells": [
    {
      "cell_type": "code",
      "execution_count": 15,
      "metadata": {
        "id": "XqE6A06ZnoPl"
      },
      "outputs": [],
      "source": [
        "#유방암 데이터셋\n",
        "from sklearn.datasets import load_breast_cancer \n",
        "cancer = load_breast_cancer() "
      ]
    },
    {
      "cell_type": "code",
      "source": [
        "#train-test-split\n",
        "from sklearn.model_selection import train_test_split\n",
        "\n",
        "X_train, X_test, y_train, y_test = train_test_split(cancer.data, \n",
        "                                                    cancer.target, \n",
        "                                                    stratify = cancer.target, \n",
        "                                                    random_state = 66) "
      ],
      "metadata": {
        "id": "Xj29m4KLnrp6"
      },
      "execution_count": 17,
      "outputs": []
    },
    {
      "cell_type": "markdown",
      "source": [
        "# ***RandomForest***"
      ],
      "metadata": {
        "id": "32yIu_Fsnxoq"
      }
    },
    {
      "cell_type": "code",
      "source": [
        "from sklearn.ensemble import RandomForestClassifier\n",
        "\n",
        "forest = RandomForestClassifier(random_state=0)\n",
        "forest.fit(X_train, y_train)"
      ],
      "metadata": {
        "colab": {
          "base_uri": "https://localhost:8080/"
        },
        "id": "KSCgpEK-n07L",
        "outputId": "bc9cce90-dc38-41be-cb96-eacc89791669"
      },
      "execution_count": 18,
      "outputs": [
        {
          "output_type": "execute_result",
          "data": {
            "text/plain": [
              "RandomForestClassifier(random_state=0)"
            ]
          },
          "metadata": {},
          "execution_count": 18
        }
      ]
    },
    {
      "cell_type": "code",
      "source": [
        "print(forest.score(X_train, y_train))\n",
        "print(forest.score(X_test, y_test))\n",
        "\n",
        "#train 데이터 성능은 1.0\n",
        "#test 데이터 성능은 약 0.958"
      ],
      "metadata": {
        "colab": {
          "base_uri": "https://localhost:8080/"
        },
        "id": "Il5trFzYn6s5",
        "outputId": "53340ee6-3168-403a-9c84-37240ef082e3"
      },
      "execution_count": 19,
      "outputs": [
        {
          "output_type": "stream",
          "name": "stdout",
          "text": [
            "1.0\n",
            "0.958041958041958\n"
          ]
        }
      ]
    },
    {
      "cell_type": "markdown",
      "source": [
        "트리개수 조절하기 - **n_estimators**"
      ],
      "metadata": {
        "id": "67xbU7y9oCIy"
      }
    },
    {
      "cell_type": "code",
      "source": [
        "forest.n_estimators"
      ],
      "metadata": {
        "colab": {
          "base_uri": "https://localhost:8080/"
        },
        "id": "cxeCAJExoJf6",
        "outputId": "c6007c13-f238-4b87-d76b-bf21513c2a36"
      },
      "execution_count": 20,
      "outputs": [
        {
          "output_type": "execute_result",
          "data": {
            "text/plain": [
              "100"
            ]
          },
          "metadata": {},
          "execution_count": 20
        }
      ]
    },
    {
      "cell_type": "code",
      "source": [
        "#n_estimators가 50일 때\n",
        "forest = RandomForestClassifier(n_estimators=50, random_state=0)\n",
        "forest.fit(X_train, y_train)\n",
        "print(forest.score(X_train, y_train))\n",
        "print(forest.score(X_test, y_test))"
      ],
      "metadata": {
        "colab": {
          "base_uri": "https://localhost:8080/"
        },
        "id": "UH6HjsqvoTCJ",
        "outputId": "73bc071e-4f14-4c52-ee96-883146cf8cba"
      },
      "execution_count": 21,
      "outputs": [
        {
          "output_type": "stream",
          "name": "stdout",
          "text": [
            "1.0\n",
            "0.951048951048951\n"
          ]
        }
      ]
    },
    {
      "cell_type": "code",
      "source": [
        "#n_estimators가 200일 때\n",
        "forest = RandomForestClassifier(n_estimators=200, random_state=0)\n",
        "forest.fit(X_train, y_train)\n",
        "print(forest.score(X_train, y_train))\n",
        "print(forest.score(X_test, y_test))"
      ],
      "metadata": {
        "colab": {
          "base_uri": "https://localhost:8080/"
        },
        "id": "OE_YHvrSoV36",
        "outputId": "b7d3d0d5-64fa-4a3d-c986-4c6c0313ee41"
      },
      "execution_count": 22,
      "outputs": [
        {
          "output_type": "stream",
          "name": "stdout",
          "text": [
            "1.0\n",
            "0.958041958041958\n"
          ]
        }
      ]
    },
    {
      "cell_type": "markdown",
      "source": [
        "n_estimators를 50으로 줄이면 랜덤포레스트에 적용되는 트리의 개수가 50개로 줄어드는 것이고, 50개의 트리 결과를 반영하는 것보다 100개의 트리 결과를 반영하는 것이 일반화 성능면에서 더 좋다.\n",
        "\n",
        "n_estimators를 200으로 늘리면 디폴트인 100개와 성능이 같으며 무작정 늘리는 것은 좋은 것이 아니다.(속도 차원 등) 우선 n_estimators는 디폴트값으로 진행"
      ],
      "metadata": {
        "id": "MH5ZOIQIogDi"
      }
    },
    {
      "cell_type": "markdown",
      "source": [
        "결정트리 생성 시 사용할 열 개수- **max_features**"
      ],
      "metadata": {
        "id": "NIWwTqG2om8p"
      }
    },
    {
      "cell_type": "code",
      "source": [
        "forest.max_features"
      ],
      "metadata": {
        "colab": {
          "base_uri": "https://localhost:8080/",
          "height": 35
        },
        "id": "iKSwq-5Eooxx",
        "outputId": "d8384e94-04a2-4617-d76c-eb993a066816"
      },
      "execution_count": 23,
      "outputs": [
        {
          "output_type": "execute_result",
          "data": {
            "text/plain": [
              "'auto'"
            ],
            "application/vnd.google.colaboratory.intrinsic+json": {
              "type": "string"
            }
          },
          "metadata": {},
          "execution_count": 23
        }
      ]
    },
    {
      "cell_type": "code",
      "source": [
        "cancer['data'].shape\n",
        "#데이터셋의 열은 30개"
      ],
      "metadata": {
        "colab": {
          "base_uri": "https://localhost:8080/"
        },
        "id": "op5EsukmowsZ",
        "outputId": "41384435-325c-4288-9dec-6aa99b78d490"
      },
      "execution_count": 24,
      "outputs": [
        {
          "output_type": "execute_result",
          "data": {
            "text/plain": [
              "(569, 30)"
            ]
          },
          "metadata": {},
          "execution_count": 24
        }
      ]
    },
    {
      "cell_type": "markdown",
      "source": [
        "결정트리 생성 시 사용할 열 개수의 디폴트값은 열 개수의 제곱근 값"
      ],
      "metadata": {
        "id": "yMURJJPcozlT"
      }
    },
    {
      "cell_type": "code",
      "source": [
        "#k값을 변경하며 각각의 성능을 담을 리스트 생성\n",
        "training_accuracy = [] \n",
        "test_accuracy = [] \n",
        "\n",
        "#max_features값은 1부터 30까지 5간격으로\n",
        "max_features_settings = range(1,30,5)\n",
        "\n",
        "#max_features_settings를 for문에 적용하여 max_features에 대입\n",
        "for max_features in max_features_settings:\n",
        "    forest = RandomForestClassifier(max_features=max_features, random_state=0)\n",
        "    forest.fit(X_train, y_train)\n",
        "    # 리스트에 추가\n",
        "    training_accuracy.append(forest.score( X_train, y_train)) \n",
        "    test_accuracy.append(forest.score( X_test, y_test)) "
      ],
      "metadata": {
        "id": "PBpb9hx7o19p"
      },
      "execution_count": 25,
      "outputs": []
    },
    {
      "cell_type": "code",
      "source": [
        "#시각화로 한눈에 파악\n",
        "import matplotlib.pyplot as plt\n",
        "plt.plot(max_features_settings, training_accuracy, label =\" training accuracy\") \n",
        "plt.plot(max_features_settings, test_accuracy, label =\" test accuracy\") \n",
        "plt.ylabel(\"Accuracy\") \n",
        "plt.xlabel(\"max_features\") \n",
        "plt.legend()"
      ],
      "metadata": {
        "colab": {
          "base_uri": "https://localhost:8080/",
          "height": 298
        },
        "id": "LF66cPCSo6Yt",
        "outputId": "735af82b-93ec-4024-890b-c00b9855ad28"
      },
      "execution_count": 30,
      "outputs": [
        {
          "output_type": "execute_result",
          "data": {
            "text/plain": [
              "<matplotlib.legend.Legend at 0x7f23560a8e80>"
            ]
          },
          "metadata": {},
          "execution_count": 30
        },
        {
          "output_type": "display_data",
          "data": {
            "text/plain": [
              "<Figure size 432x288 with 1 Axes>"
            ],
            "image/png": "[encoded data removed]"
          },
          "metadata": {
            "needs_background": "light"
          }
        }
      ]
    },
    {
      "cell_type": "markdown",
      "source": [
        "max_features의 범위를 5부터 20까지로 좁혀서 다시 확인"
      ],
      "metadata": {
        "id": "iS04HneWpVFg"
      }
    },
    {
      "cell_type": "code",
      "source": [
        "#k값을 변경하며 각각의 성능을 담을 리스트 생성\n",
        "training_accuracy = [] \n",
        "test_accuracy = [] \n",
        "\n",
        "#max_features값은 1부터 30까지 5간격으로\n",
        "max_features_settings = range(5,20)\n",
        "\n",
        "#max_features_settings를 for문에 적용하여 max_features에 대입\n",
        "for max_features in max_features_settings:\n",
        "    forest = RandomForestClassifier(max_features=max_features, random_state=0)\n",
        "    forest.fit(X_train, y_train)\n",
        "    # 리스트에 추가\n",
        "    training_accuracy.append(forest.score( X_train, y_train)) \n",
        "    test_accuracy.append(forest.score( X_test, y_test)) "
      ],
      "metadata": {
        "id": "PAtiAt6CpV9_"
      },
      "execution_count": 27,
      "outputs": []
    },
    {
      "cell_type": "code",
      "source": [
        "#시각화로 한눈에 파악\n",
        "plt.plot(max_features_settings, training_accuracy, label =\" training accuracy\") \n",
        "plt.plot(max_features_settings, test_accuracy, label =\" test accuracy\") \n",
        "plt.ylabel(\"Accuracy\") \n",
        "plt.xlabel(\"max_features\") \n",
        "plt.legend()"
      ],
      "metadata": {
        "colab": {
          "base_uri": "https://localhost:8080/",
          "height": 298
        },
        "id": "AIF_ZixdpazC",
        "outputId": "b6e05248-ab41-4ff3-f224-58b59bf7593e"
      },
      "execution_count": 31,
      "outputs": [
        {
          "output_type": "execute_result",
          "data": {
            "text/plain": [
              "<matplotlib.legend.Legend at 0x7f2355c128b0>"
            ]
          },
          "metadata": {},
          "execution_count": 31
        },
        {
          "output_type": "display_data",
          "data": {
            "text/plain": [
              "<Figure size 432x288 with 1 Axes>"
            ],
            "image/png": "[encoded data removed]"
          },
          "metadata": {
            "needs_background": "light"
          }
        }
      ]
    },
    {
      "cell_type": "code",
      "source": [
        "max(test_accuracy)"
      ],
      "metadata": {
        "colab": {
          "base_uri": "https://localhost:8080/"
        },
        "id": "OjtGgMOBpd7q",
        "outputId": "9f87be29-f4a9-4822-c6a0-02b50792c63f"
      },
      "execution_count": 29,
      "outputs": [
        {
          "output_type": "execute_result",
          "data": {
            "text/plain": [
              "0.958041958041958"
            ]
          },
          "metadata": {},
          "execution_count": 29
        }
      ]
    },
    {
      "cell_type": "markdown",
      "source": [
        "max_features값을 조정하며 test 성능이 가장 좋은 지점을 찾아보았지만 디폴트 max_features값을 적용하였을 때와 같은 성능을 보인다."
      ],
      "metadata": {
        "id": "eGHYQajIpkiw"
      }
    },
    {
      "cell_type": "markdown",
      "source": [
        "# ***Gradient Boosting***"
      ],
      "metadata": {
        "id": "1HTsp4AVqSCK"
      }
    },
    {
      "cell_type": "code",
      "source": [
        "from sklearn.ensemble import GradientBoostingClassifier"
      ],
      "metadata": {
        "id": "YDamH8KEqUqH"
      },
      "execution_count": 32,
      "outputs": []
    },
    {
      "cell_type": "code",
      "source": [
        "gbrt = GradientBoostingClassifier(random_state=0)\n",
        "gbrt.fit(X_train, y_train)\n",
        "print(\"Training set accuracy: {:.3f}\".format(gbrt.score(X_train, y_train)))\n",
        "print(\"Test set accuracy: {:.3f}\".format(gbrt.score(X_test, y_test)))"
      ],
      "metadata": {
        "colab": {
          "base_uri": "https://localhost:8080/"
        },
        "id": "FAKjSaNXqalw",
        "outputId": "70edb2a8-1109-4b76-87e4-2984482d8578"
      },
      "execution_count": 33,
      "outputs": [
        {
          "output_type": "stream",
          "name": "stdout",
          "text": [
            "Training set accuracy: 1.000\n",
            "Test set accuracy: 0.958\n"
          ]
        }
      ]
    },
    {
      "cell_type": "code",
      "source": [
        "gbrt = GradientBoostingClassifier(learning_rate=0.01, random_state=0)\n",
        "gbrt.fit(X_train, y_train)\n",
        "print(\"Training set accuracy: {:.3f}\".format(gbrt.score(X_train, y_train)))\n",
        "print(\"Test set accuracy: {:.3f}\".format(gbrt.score(X_test, y_test)))"
      ],
      "metadata": {
        "colab": {
          "base_uri": "https://localhost:8080/"
        },
        "id": "FkSMi5iBqdSg",
        "outputId": "2bf4ace9-448e-402f-fe8d-3d25bbedc438"
      },
      "execution_count": 34,
      "outputs": [
        {
          "output_type": "stream",
          "name": "stdout",
          "text": [
            "Training set accuracy: 0.993\n",
            "Test set accuracy: 0.937\n"
          ]
        }
      ]
    },
    {
      "cell_type": "code",
      "source": [
        "gbrt = GradientBoostingClassifier(learning_rate=1,random_state=0)\n",
        "gbrt.fit(X_train, y_train)\n",
        "print(\"Training set accuracy: {:.3f}\".format(gbrt.score(X_train, y_train)))\n",
        "print(\"Test set accuracy: {:.3f}\".format(gbrt.score(X_test, y_test)))\n",
        "#learning_rate는 너무 작거나 너무 크면 성능이 오히려 떨어진다 -> 조정 신중히 "
      ],
      "metadata": {
        "colab": {
          "base_uri": "https://localhost:8080/"
        },
        "id": "y9adpXlZqhDI",
        "outputId": "5e0777e5-c910-4a3c-cbf4-ad20a425ce55"
      },
      "execution_count": 35,
      "outputs": [
        {
          "output_type": "stream",
          "name": "stdout",
          "text": [
            "Training set accuracy: 1.000\n",
            "Test set accuracy: 0.951\n"
          ]
        }
      ]
    },
    {
      "cell_type": "code",
      "source": [
        "training_accuracy = [] \n",
        "test_accuracy = []\n",
        "\n",
        "depth_settings = range(1, 15)\n",
        "for depth in depth_settings:\n",
        "    gbrt = GradientBoostingClassifier(max_depth = depth) \n",
        "    gbrt.fit( X_train, y_train) \n",
        "    training_accuracy.append(gbrt.score( X_train, y_train)) \n",
        "    test_accuracy.append(gbrt.score( X_test, y_test)) \n",
        "    \n",
        "plt.plot(depth_settings, training_accuracy, label =\" training accuracy\") \n",
        "plt.plot(depth_settings, test_accuracy, label =\" test accuracy\") \n",
        "plt.ylabel(\"Accuracy\") \n",
        "plt.xlabel(\"max_depth\") \n",
        "plt.legend()"
      ],
      "metadata": {
        "colab": {
          "base_uri": "https://localhost:8080/",
          "height": 298
        },
        "id": "5LB99TyjqkNz",
        "outputId": "30429cef-3985-4a39-d35d-cf6e891beab9"
      },
      "execution_count": 36,
      "outputs": [
        {
          "output_type": "execute_result",
          "data": {
            "text/plain": [
              "<matplotlib.legend.Legend at 0x7f2355b389d0>"
            ]
          },
          "metadata": {},
          "execution_count": 36
        },
        {
          "output_type": "display_data",
          "data": {
            "text/plain": [
              "<Figure size 432x288 with 1 Axes>"
            ],
            "image/png": "[encoded data removed]"
          },
          "metadata": {
            "needs_background": "light"
          }
        }
      ]
    },
    {
      "cell_type": "code",
      "source": [
        "gbrt = GradientBoostingClassifier(max_depth=1, random_state=0)\n",
        "gbrt.fit(X_train, y_train)\n",
        "print(\"Training set accuracy: {:.3f}\".format(gbrt.score(X_train, y_train)))\n",
        "print(\"Test set accuracy: {:.3f}\".format(gbrt.score(X_test, y_test)))"
      ],
      "metadata": {
        "colab": {
          "base_uri": "https://localhost:8080/"
        },
        "id": "OkyhONWxqoeJ",
        "outputId": "5134dbe7-6b78-47b5-94c7-cc6003ee7dc2"
      },
      "execution_count": 37,
      "outputs": [
        {
          "output_type": "stream",
          "name": "stdout",
          "text": [
            "Training set accuracy: 0.993\n",
            "Test set accuracy: 0.937\n"
          ]
        }
      ]
    }
  ]
}